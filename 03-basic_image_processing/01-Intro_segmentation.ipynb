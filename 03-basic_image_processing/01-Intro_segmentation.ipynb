{
 "cells": [
  {
   "cell_type": "markdown",
   "id": "206c6f09-f0f6-4476-882d-62e37780ddd7",
   "metadata": {},
   "source": [
    "# Introduction to image processing\n",
    "\n",
    "In this part we will explore some of the basis image processing tools that are used in almost every workflow. For this we will complete a simple segmentation task which will allow us to take a tour of these tools. \n",
    "\n",
    "Segmentation is the Computer Vision term for the partition of image pixels into objects and background. It is very common in bioimaging where cells and various cellular compartments often need to be analyzed (e.g. for gene expression, morphology etc.) For this segmentation workflow we are going to:\n",
    "\n",
    "- create masks based on automated threshold\n",
    "- clean-up images and masks using filtering\n",
    "- detect objects with connected component analysis\n",
    "- analyse the output\n",
    "\n",
    "Here we only present very simple classical methods while in the next parts of the course, we will demonstrate the usage of more advanced methods e.g. based on Machine Learning. Note however that the basic structure of this type of workflow doesn't change: for example even when detecting objects with ML methods, you may want to improve your images first, or might need to filter our unwanted objects after detection. Hence, what you learn here is more widely applicable than the simple example presented."
   ]
  },
  {
   "cell_type": "code",
   "execution_count": null,
   "id": "35f9fa46-b1da-443d-8a02-8a16dc949ed6",
   "metadata": {},
   "outputs": [],
   "source": []
  }
 ],
 "metadata": {
  "kernelspec": {
   "display_name": "Python 3 (ipykernel)",
   "language": "python",
   "name": "python3"
  },
  "language_info": {
   "codemirror_mode": {
    "name": "ipython",
    "version": 3
   },
   "file_extension": ".py",
   "mimetype": "text/x-python",
   "name": "python",
   "nbconvert_exporter": "python",
   "pygments_lexer": "ipython3",
   "version": "3.9.13"
  }
 },
 "nbformat": 4,
 "nbformat_minor": 5
}
