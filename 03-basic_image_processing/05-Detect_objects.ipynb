{
 "cells": [
  {
   "cell_type": "markdown",
   "metadata": {
    "id": "_abtXE7KBXxp"
   },
   "source": [
    "# Detecting and measuring objects"
   ]
  },
  {
   "cell_type": "markdown",
   "metadata": {
    "id": "C_ueqQujBXxv"
   },
   "source": [
    "Once you have a masks of an image, you have two steps remaining for a classical analysis workflow. First, you need to actually find objects in your image. At the moment for example all nuclei in our mask have the same value, so we can't distinguish them. The goal is therefore to assign to the pixels of each object (nucleus) a different value: this is called connected component analysis or labeling. Second, once we have these labels, we can finally measure our objects. ```scikit-image``` offers a hand way to do that with a simple function. "
   ]
  },
  {
   "cell_type": "code",
   "execution_count": 1,
   "metadata": {
    "executionInfo": {
     "elapsed": 1741,
     "status": "ok",
     "timestamp": 1616250325262,
     "user": {
      "displayName": "Guillaume Witz",
      "photoUrl": "https://lh3.googleusercontent.com/a-/AOh14GgT0K2JVYzEsjzsS5nhkUVjUrSIJ5jHzXnBoYrmVf8=s64",
      "userId": "16033870147214403532"
     },
     "user_tz": -60
    },
    "id": "nbvEvkGJBXxw"
   },
   "outputs": [],
   "source": [
    "import numpy as np\n",
    "import pandas as pd\n",
    "import matplotlib.pyplot as plt\n",
    "from microfilm.microplot import microshow\n",
    "import skimage\n",
    "import skimage.io\n",
    "import skimage.morphology\n",
    "import scipy.ndimage as ndi"
   ]
  },
  {
   "cell_type": "markdown",
   "metadata": {
    "id": "FdRSQIRyBXxw"
   },
   "source": [
    "## Recreate a mask\n",
    "\n",
    "As a first step, we import again our cells image and create a mask of the nuclei. This just recapitulates what we did in previous chapters:"
   ]
  },
  {
   "cell_type": "code",
   "execution_count": 2,
   "metadata": {
    "executionInfo": {
     "elapsed": 2392,
     "status": "ok",
     "timestamp": 1616250328336,
     "user": {
      "displayName": "Guillaume Witz",
      "photoUrl": "https://lh3.googleusercontent.com/a-/AOh14GgT0K2JVYzEsjzsS5nhkUVjUrSIJ5jHzXnBoYrmVf8=s64",
      "userId": "16033870147214403532"
     },
     "user_tz": -60
    },
    "id": "LRbfIk_ABXxx"
   },
   "outputs": [],
   "source": [
    "image_stack = skimage.io.imread('../data/cellaltlas/images/46658_784_B12_1.tif')\n",
    "\n",
    "image_nuclei = image_stack[:,:,2]#blue channel in RGB\n",
    "image_signal = image_stack[:,:,1]#green channel in RGB\n",
    "\n",
    "# filter image\n",
    "image_nuclei = skimage.filters.median(image_nuclei, skimage.morphology.disk(5))\n",
    "\n",
    "# create mask and clean-up\n",
    "mask_nuclei = image_nuclei > skimage.filters.threshold_otsu(image_nuclei)\n",
    "mask_nuclei = skimage.morphology.binary_closing(mask_nuclei, footprint=skimage.morphology.disk(5))\n",
    "mask_nuclei = ndi.binary_fill_holes(mask_nuclei, skimage.morphology.disk(5))"
   ]
  },
  {
   "cell_type": "code",
   "execution_count": 3,
   "metadata": {
    "colab": {
     "base_uri": "https://localhost:8080/",
     "height": 469
    },
    "executionInfo": {
     "elapsed": 1282,
     "status": "ok",
     "timestamp": 1616250334243,
     "user": {
      "displayName": "Guillaume Witz",
      "photoUrl": "https://lh3.googleusercontent.com/a-/AOh14GgT0K2JVYzEsjzsS5nhkUVjUrSIJ5jHzXnBoYrmVf8=s64",
      "userId": "16033870147214403532"
     },
     "user_tz": -60
    },
    "id": "EoPdJBjtBXxx",
    "outputId": "a9a2c84a-9ede-44e4-fc2f-048cccb6fa7a"
   },
   "outputs": [
    {
     "data": {
      "image/png": "[encoded data removed]",
      "text/plain": [
       "<Figure size 360x360 with 1 Axes>"
      ]
     },
     "metadata": {
      "needs_background": "light"
     },
     "output_type": "display_data"
    }
   ],
   "source": [
    "microshow(mask_nuclei, fig_scaling=5);"
   ]
  },
  {
   "cell_type": "markdown",
   "metadata": {
    "id": "CJUUfmkuBXxy"
   },
   "source": [
    "## Labelling"
   ]
  },
  {
   "cell_type": "markdown",
   "metadata": {
    "id": "xdVMwT5KBXxz"
   },
   "source": [
    "In order to measure objects in the image separately, we first need to label them individually. For that we can just use the ```skimage.morphology.label()``` function which looks for independent groups of white pixels and assigns them integer numbers. Note that you have the choice of considering that pixels have 4 or 8:"
   ]
  },
  {
   "cell_type": "code",
   "execution_count": 7,
   "metadata": {
    "executionInfo": {
     "elapsed": 581,
     "status": "ok",
     "timestamp": 1616250342558,
     "user": {
      "displayName": "Guillaume Witz",
      "photoUrl": "https://lh3.googleusercontent.com/a-/AOh14GgT0K2JVYzEsjzsS5nhkUVjUrSIJ5jHzXnBoYrmVf8=s64",
      "userId": "16033870147214403532"
     },
     "user_tz": -60
    },
    "id": "LL3aofvKBXxz"
   },
   "outputs": [],
   "source": [
    "my_labels = skimage.morphology.label(mask_nuclei)"
   ]
  },
  {
   "cell_type": "markdown",
   "metadata": {
    "id": "xy2xS0hHBXxz"
   },
   "source": [
    "The label map shows that numbers are assigned from top to bottom in the image:"
   ]
  },
  {
   "cell_type": "code",
   "execution_count": 8,
   "metadata": {
    "colab": {
     "base_uri": "https://localhost:8080/",
     "height": 469
    },
    "executionInfo": {
     "elapsed": 1936,
     "status": "ok",
     "timestamp": 1616250350395,
     "user": {
      "displayName": "Guillaume Witz",
      "photoUrl": "https://lh3.googleusercontent.com/a-/AOh14GgT0K2JVYzEsjzsS5nhkUVjUrSIJ5jHzXnBoYrmVf8=s64",
      "userId": "16033870147214403532"
     },
     "user_tz": -60
    },
    "id": "apyNDDlGBXxz",
    "outputId": "612015ee-1d9f-4a88-f4b3-c48ef5a64085"
   },
   "outputs": [
    {
     "data": {
      "image/png": "[encoded data removed]",
      "text/plain": [
       "<Figure size 216x216 with 1 Axes>"
      ]
     },
     "metadata": {
      "needs_background": "light"
     },
     "output_type": "display_data"
    }
   ],
   "source": [
    "microshow(my_labels, cmaps='segmentation');"
   ]
  },
  {
   "cell_type": "markdown",
   "metadata": {
    "id": "0jPSDQ9mBXx0"
   },
   "source": [
    "## Region properties"
   ]
  },
  {
   "cell_type": "markdown",
   "metadata": {
    "id": "RxpTZ7QBBXx0"
   },
   "source": [
    "Now that we have each region labeled with a different number we can use the ```skimage.measure.regionprops_table()``` function, which takes such as label map and analyzes the geometric properties of each region. We have to specifiy which ```properties``` we want to use. For example the ```area``` and ```labels```:"
   ]
  },
  {
   "cell_type": "code",
   "execution_count": 9,
   "metadata": {
    "executionInfo": {
     "elapsed": 678,
     "status": "ok",
     "timestamp": 1616250356562,
     "user": {
      "displayName": "Guillaume Witz",
      "photoUrl": "https://lh3.googleusercontent.com/a-/AOh14GgT0K2JVYzEsjzsS5nhkUVjUrSIJ5jHzXnBoYrmVf8=s64",
      "userId": "16033870147214403532"
     },
     "user_tz": -60
    },
    "id": "mmpXctCgBXx0"
   },
   "outputs": [],
   "source": [
    "my_regions = skimage.measure.regionprops_table(my_labels, properties=('label','area'))"
   ]
  },
  {
   "cell_type": "markdown",
   "metadata": {
    "id": "lvdTxbDdBXx0"
   },
   "source": [
    "The output is a dictionary of all properties that we asked to get out:"
   ]
  },
  {
   "cell_type": "code",
   "execution_count": 10,
   "metadata": {
    "colab": {
     "base_uri": "https://localhost:8080/"
    },
    "executionInfo": {
     "elapsed": 501,
     "status": "ok",
     "timestamp": 1616250357412,
     "user": {
      "displayName": "Guillaume Witz",
      "photoUrl": "https://lh3.googleusercontent.com/a-/AOh14GgT0K2JVYzEsjzsS5nhkUVjUrSIJ5jHzXnBoYrmVf8=s64",
      "userId": "16033870147214403532"
     },
     "user_tz": -60
    },
    "id": "xAWRDyguBXx1",
    "outputId": "23f38263-755f-4567-ecc8-5ec9003c626b"
   },
   "outputs": [
    {
     "data": {
      "text/plain": [
       "{'label': array([ 1,  2,  3,  4,  5,  6,  7,  8,  9, 10, 11, 12, 13, 14, 15, 16, 17,\n",
       "        18, 19, 20]),\n",
       " 'area': array([ 4221,  8386, 18258,  4043,    73, 49056, 45671, 20537, 46853,\n",
       "        43277, 40768, 15090, 35404, 47642, 54978, 26774,     4,   812,\n",
       "        54298, 29638])}"
      ]
     },
     "execution_count": 10,
     "metadata": {},
     "output_type": "execute_result"
    }
   ],
   "source": [
    "my_regions"
   ]
  },
  {
   "cell_type": "markdown",
   "metadata": {},
   "source": [
    "We have briefly seen dictionaries in the introduction. To recap: they are tables with pairs of key-words and contents, and we can query contents by key-word. For example to get the list of areas, we ask:"
   ]
  },
  {
   "cell_type": "code",
   "execution_count": 11,
   "metadata": {},
   "outputs": [
    {
     "data": {
      "text/plain": [
       "array([ 4221,  8386, 18258,  4043,    73, 49056, 45671, 20537, 46853,\n",
       "       43277, 40768, 15090, 35404, 47642, 54978, 26774,     4,   812,\n",
       "       54298, 29638])"
      ]
     },
     "execution_count": 11,
     "metadata": {},
     "output_type": "execute_result"
    }
   ],
   "source": [
    "my_regions['area']"
   ]
  },
  {
   "cell_type": "markdown",
   "metadata": {
    "id": "7SmPI39ZBXx3"
   },
   "source": [
    "## Recovering image intensity information"
   ]
  },
  {
   "cell_type": "markdown",
   "metadata": {
    "id": "5NKFaWCzBXx3"
   },
   "source": [
    "In what we did above, we only recovered information about our mask. However often we want to obtain information on pixel values of the **original** image. For example, \"what is the average intensity of each nucleus?\"\n",
    "\n",
    "Luckily ```regionprops_table``` allows us to pass as additional argument ```intensity_image``` the image we want to use to quantify intensity. Then we can for example add as property to extract the ```mean_intensity```:"
   ]
  },
  {
   "cell_type": "code",
   "execution_count": 12,
   "metadata": {
    "executionInfo": {
     "elapsed": 502,
     "status": "ok",
     "timestamp": 1616250379810,
     "user": {
      "displayName": "Guillaume Witz",
      "photoUrl": "https://lh3.googleusercontent.com/a-/AOh14GgT0K2JVYzEsjzsS5nhkUVjUrSIJ5jHzXnBoYrmVf8=s64",
      "userId": "16033870147214403532"
     },
     "user_tz": -60
    },
    "id": "SfajCPMvBXx4"
   },
   "outputs": [],
   "source": [
    "my_regions = skimage.measure.regionprops_table(\n",
    "    my_labels,intensity_image=image_signal, properties=('label','area','mean_intensity'))"
   ]
  },
  {
   "cell_type": "markdown",
   "metadata": {
    "id": "YHdAPnsqBXx4"
   },
   "source": [
    "Now we have access to additional parameters. For example the mean_intensity in each nucleus:"
   ]
  },
  {
   "cell_type": "code",
   "execution_count": 13,
   "metadata": {
    "colab": {
     "base_uri": "https://localhost:8080/"
    },
    "executionInfo": {
     "elapsed": 514,
     "status": "ok",
     "timestamp": 1616250382794,
     "user": {
      "displayName": "Guillaume Witz",
      "photoUrl": "https://lh3.googleusercontent.com/a-/AOh14GgT0K2JVYzEsjzsS5nhkUVjUrSIJ5jHzXnBoYrmVf8=s64",
      "userId": "16033870147214403532"
     },
     "user_tz": -60
    },
    "id": "_PuK9oxdBXx4",
    "outputId": "20c037cb-7628-45c8-b41a-ad973d7e634c"
   },
   "outputs": [
    {
     "data": {
      "text/plain": [
       "{'label': array([ 1,  2,  3,  4,  5,  6,  7,  8,  9, 10, 11, 12, 13, 14, 15, 16, 17,\n",
       "        18, 19, 20]),\n",
       " 'area': array([ 4221,  8386, 18258,  4043,    73, 49056, 45671, 20537, 46853,\n",
       "        43277, 40768, 15090, 35404, 47642, 54978, 26774,     4,   812,\n",
       "        54298, 29638]),\n",
       " 'mean_intensity': array([ 79.26510306,  65.99773432,  70.26109103,  63.02671284,\n",
       "         47.43835616,  53.71450995,  53.8070986 ,  70.45391245,\n",
       "         66.13772864,  41.4125517 ,  58.67503925,  44.19814447,\n",
       "         74.77155124,  41.70190168,  35.9041071 ,  53.07787406,\n",
       "        112.        , 102.9864532 ,  56.11020664,  66.28379108])}"
      ]
     },
     "execution_count": 13,
     "metadata": {},
     "output_type": "execute_result"
    }
   ],
   "source": [
    "my_regions"
   ]
  },
  {
   "cell_type": "markdown",
   "metadata": {},
   "source": [
    "Now that we have this information, we can of course, plot it. For example we can produce a histogram of mean nuclei intensities:"
   ]
  },
  {
   "cell_type": "code",
   "execution_count": 14,
   "metadata": {
    "colab": {
     "base_uri": "https://localhost:8080/",
     "height": 265
    },
    "executionInfo": {
     "elapsed": 795,
     "status": "ok",
     "timestamp": 1616250403913,
     "user": {
      "displayName": "Guillaume Witz",
      "photoUrl": "https://lh3.googleusercontent.com/a-/AOh14GgT0K2JVYzEsjzsS5nhkUVjUrSIJ5jHzXnBoYrmVf8=s64",
      "userId": "16033870147214403532"
     },
     "user_tz": -60
    },
    "id": "sWIsqx_4BXx5",
    "outputId": "b1d01701-4ac3-4c7e-e2a2-3e6a86624e7f"
   },
   "outputs": [
    {
     "data": {
      "image/png": "[encoded data removed]",
      "text/plain": [
       "<Figure size 432x288 with 1 Axes>"
      ]
     },
     "metadata": {
      "needs_background": "light"
     },
     "output_type": "display_data"
    }
   ],
   "source": [
    "plt.hist(my_regions['mean_intensity']);"
   ]
  },
  {
   "cell_type": "markdown",
   "metadata": {
    "id": "ctIzlnC7BXx9"
   },
   "source": [
    "## Filtering information\n",
    "\n",
    "Obviously, we had some \"bad segmentations\", i.e. some fragments remaining from the processing that are not actual nuclei. We can easily filter those out for example based on size using Numpy logical indexing:"
   ]
  },
  {
   "cell_type": "code",
   "execution_count": 15,
   "metadata": {},
   "outputs": [
    {
     "data": {
      "text/plain": [
       "array([ 4221,  8386, 18258,  4043,    73, 49056, 45671, 20537, 46853,\n",
       "       43277, 40768, 15090, 35404, 47642, 54978, 26774,     4,   812,\n",
       "       54298, 29638])"
      ]
     },
     "execution_count": 15,
     "metadata": {},
     "output_type": "execute_result"
    }
   ],
   "source": [
    "my_regions['area']"
   ]
  },
  {
   "cell_type": "markdown",
   "metadata": {},
   "source": [
    "We create a logical array by setting a condition on one dictionary entry:"
   ]
  },
  {
   "cell_type": "code",
   "execution_count": 16,
   "metadata": {},
   "outputs": [
    {
     "data": {
      "text/plain": [
       "array([ True,  True,  True,  True, False,  True,  True,  True,  True,\n",
       "        True,  True,  True,  True,  True,  True,  True, False,  True,\n",
       "        True,  True])"
      ]
     },
     "execution_count": 16,
     "metadata": {},
     "output_type": "execute_result"
    }
   ],
   "source": [
    "selected = my_regions['area'] > 100\n",
    "selected"
   ]
  },
  {
   "cell_type": "markdown",
   "metadata": {},
   "source": [
    "And then use it for logical indexing:"
   ]
  },
  {
   "cell_type": "code",
   "execution_count": 17,
   "metadata": {},
   "outputs": [
    {
     "data": {
      "text/plain": [
       "array([ 79.26510306,  65.99773432,  70.26109103,  63.02671284,\n",
       "        53.71450995,  53.8070986 ,  70.45391245,  66.13772864,\n",
       "        41.4125517 ,  58.67503925,  44.19814447,  74.77155124,\n",
       "        41.70190168,  35.9041071 ,  53.07787406, 102.9864532 ,\n",
       "        56.11020664,  66.28379108])"
      ]
     },
     "execution_count": 17,
     "metadata": {},
     "output_type": "execute_result"
    }
   ],
   "source": [
    "my_regions['mean_intensity'][selected]"
   ]
  },
  {
   "cell_type": "markdown",
   "metadata": {},
   "source": [
    "## Other types of information\n",
    "\n",
    "Beyond geometric and intensity information, regions props also allows us to recover image information. For example:"
   ]
  },
  {
   "cell_type": "code",
   "execution_count": 30,
   "metadata": {},
   "outputs": [],
   "source": [
    "my_regions2 = skimage.measure.regionprops_table(\n",
    "    my_labels,intensity_image=image_signal, properties=('label','area','image_intensity'))"
   ]
  },
  {
   "cell_type": "code",
   "execution_count": 35,
   "metadata": {},
   "outputs": [
    {
     "data": {
      "image/png": "[encoded data removed]",
      "text/plain": [
       "<Figure size 187.472x216 with 1 Axes>"
      ]
     },
     "metadata": {
      "needs_background": "light"
     },
     "output_type": "display_data"
    }
   ],
   "source": [
    "microshow(my_regions2['image_intensity'][10]);"
   ]
  },
  {
   "cell_type": "markdown",
   "metadata": {},
   "source": [
    "Here via ```image-intensity``` we can recover just crops of the intensity image corresponding to each label. We could also recover the mask, convex boundaries etc."
   ]
  },
  {
   "cell_type": "markdown",
   "metadata": {},
   "source": [
    "## Next steps\n",
    "\n",
    "The next logical steps from here are:\n",
    "1. to wrap the workflow into a function\n",
    "2. to execute the workflow on a series of images\n",
    "3. to save the tabular results\n",
    "4. to aggregate the results and perform post-processing\n",
    "\n",
    "We will see the three first points in the next chapter, and then we will dedicate a new part of the course to the last point on post-processing. The latter will focus on the usage of the main \"data science\" library in Python called Pandas, which allows us to handle tabular data."
   ]
  },
  {
   "cell_type": "markdown",
   "metadata": {},
   "source": [
    "## Exercise\n",
    "\n",
    "Applying the same type of workflow as shown above, try to measure the nuclei in ```HeLa_single.tif```. Measure the area, the minimum intensity and the Feret diameter of the nuclei:"
   ]
  },
  {
   "cell_type": "code",
   "execution_count": 18,
   "metadata": {},
   "outputs": [],
   "source": [
    "import skimage\n",
    "import numpy as np\n",
    "from microfilm.microplot import microshow"
   ]
  },
  {
   "cell_type": "code",
   "execution_count": 19,
   "metadata": {},
   "outputs": [],
   "source": [
    "image = skimage.io.imread('../data/HeLa_single.tif')"
   ]
  },
  {
   "cell_type": "code",
   "execution_count": 20,
   "metadata": {},
   "outputs": [],
   "source": [
    "image_th = image > skimage.filters.threshold_li(image)"
   ]
  },
  {
   "cell_type": "code",
   "execution_count": 21,
   "metadata": {},
   "outputs": [],
   "source": [
    "im_labels = skimage.morphology.label(image_th)"
   ]
  },
  {
   "cell_type": "code",
   "execution_count": 36,
   "metadata": {},
   "outputs": [
    {
     "data": {
      "image/png": "[encoded data removed]",
      "text/plain": [
       "<Figure size 360x360 with 1 Axes>"
      ]
     },
     "metadata": {
      "needs_background": "light"
     },
     "output_type": "display_data"
    }
   ],
   "source": [
    "microshow(im_labels, cmaps='segmentation', fig_scaling=5);"
   ]
  },
  {
   "cell_type": "code",
   "execution_count": 37,
   "metadata": {},
   "outputs": [],
   "source": [
    "props = skimage.measure.regionprops_table(label_image=im_labels, intensity_image=image,\n",
    "                                          properties=('label', 'area', 'min_intensity', 'feret_diameter_max'))"
   ]
  },
  {
   "cell_type": "code",
   "execution_count": 38,
   "metadata": {},
   "outputs": [
    {
     "data": {
      "text/plain": [
       "{'label': array([ 1,  2,  3,  4,  5,  6,  7,  8,  9, 10, 11, 12, 13, 14, 15, 16, 17,\n",
       "        18, 19, 20, 21, 22, 23, 24, 25, 26, 27, 28, 29, 30, 31, 32, 33, 34,\n",
       "        35, 36, 37, 38, 39, 40, 41, 42, 43, 44, 45, 46, 47, 48, 49, 50, 51,\n",
       "        52, 53, 54, 55, 56, 57, 58, 59, 60, 61, 62, 63, 64, 65, 66, 67, 68,\n",
       "        69, 70, 71, 72, 73, 74, 75, 76, 77, 78, 79, 80, 81, 82, 83, 84, 85,\n",
       "        86, 87, 88, 89, 90, 91, 92, 93, 94, 95, 96, 97, 98, 99]),\n",
       " 'area': array([115,  25,  12,  28,  70, 109,  61, 128,  57,   1,   1,   2,   5,\n",
       "        231, 156, 195, 221, 105, 134, 135, 184, 222, 184, 164, 199,   1,\n",
       "        142,   3,  10, 183, 194, 143, 213, 193, 151, 182, 163, 210, 163,\n",
       "        220, 196, 145, 160, 170, 137, 178, 209, 260, 152, 168, 218, 134,\n",
       "        178, 274, 185, 128, 231, 125, 130, 160, 119, 146,   4, 187,   4,\n",
       "          1,  70, 178, 346, 181, 120, 116, 154, 237, 175, 151, 114,  64,\n",
       "         78, 168, 167,   8,   6,   1, 123,   1,  76, 100, 298, 215,  97,\n",
       "        118, 213, 100, 196, 103, 121, 108,   9]),\n",
       " 'min_intensity': array([3822., 3906., 3853., 3941., 4064., 3798., 3798., 3797., 3808.,\n",
       "        3832., 3846., 3802., 3819., 3816., 3809., 3816., 3993., 3805.,\n",
       "        3843., 3840., 3801., 3820., 3924., 3803., 3916., 3833., 3886.,\n",
       "        3801., 3868., 3857., 3800., 4055., 3800., 3832., 3811., 4165.,\n",
       "        3850., 3801., 3824., 3866., 3968., 3887., 3797., 3896., 3802.,\n",
       "        3817., 3882., 3850., 3868., 3805., 3862., 3904., 3860., 3925.,\n",
       "        3835., 3822., 3797., 3836., 3895., 4006., 4282., 3852., 3951.,\n",
       "        3865., 4889., 4252., 3990., 3994., 3971., 3827., 3875., 3829.,\n",
       "        3891., 3904., 3951., 3878., 3807., 4053., 4014., 3832., 4314.,\n",
       "        3817., 3798., 3800., 3814., 3852., 3819., 3921., 3825., 3925.,\n",
       "        3810., 3887., 3831., 3836., 4039., 4034., 3941., 4162., 4694.]),\n",
       " 'feret_diameter_max': array([15.65247584, 11.04536102,  7.        , 16.        , 11.40175425,\n",
       "        16.15549442, 13.41640786, 17.20465053, 13.        ,  1.        ,\n",
       "         1.        ,  2.        ,  3.16227766, 21.02379604, 18.97366596,\n",
       "        18.02775638, 18.78829423, 15.8113883 , 16.2788206 , 20.61552813,\n",
       "        19.6977156 , 20.59126028, 18.38477631, 17.88854382, 19.72308292,\n",
       "         1.        , 17.88854382,  3.        ,  6.32455532, 19.6977156 ,\n",
       "        21.47091055, 19.41648784, 18.38477631, 20.88061302, 18.43908891,\n",
       "        17.72004515, 16.76305461, 22.8035085 , 17.72004515, 19.72308292,\n",
       "        18.38477631, 17.08800749, 19.41648784, 18.78829423, 18.02775638,\n",
       "        16.4924225 , 19.41648784, 26.2488095 , 18.02775638, 17.4642492 ,\n",
       "        19.72308292, 17.72004515, 17.08800749, 22.84731932, 18.35755975,\n",
       "        15.5241747 , 20.59126028, 15.65247584, 14.86606875, 20.59126028,\n",
       "        15.29705854, 19.23538406,  3.        , 19.92485885,  2.23606798,\n",
       "         1.        , 14.03566885, 20.24845673, 27.31300057, 17.88854382,\n",
       "        18.02775638, 15.23154621, 18.24828759, 25.        , 17.88854382,\n",
       "        18.38477631, 13.60147051, 15.03329638, 11.40175425, 20.39607805,\n",
       "        17.        ,  5.09901951,  4.12310563,  1.        , 18.78829423,\n",
       "         1.        , 11.70469991, 18.24828759, 26.47640459, 21.02379604,\n",
       "        12.52996409, 16.76305461, 20.24845673, 16.1245155 , 20.61552813,\n",
       "        13.03840481, 14.86606875, 14.31782106,  6.        ])}"
      ]
     },
     "execution_count": 38,
     "metadata": {},
     "output_type": "execute_result"
    }
   ],
   "source": [
    "props"
   ]
  },
  {
   "cell_type": "code",
   "execution_count": null,
   "metadata": {},
   "outputs": [],
   "source": []
  }
 ],
 "metadata": {
  "colab": {
   "collapsed_sections": [],
   "name": "12-Regions.ipynb",
   "provenance": [],
   "toc_visible": true
  },
  "kernelspec": {
   "display_name": "Python 3 (ipykernel)",
   "language": "python",
   "name": "python3"
  },
  "language_info": {
   "codemirror_mode": {
    "name": "ipython",
    "version": 3
   },
   "file_extension": ".py",
   "mimetype": "text/x-python",
   "name": "python",
   "nbconvert_exporter": "python",
   "pygments_lexer": "ipython3",
   "version": "3.9.13"
  },
  "toc": {
   "base_numbering": 1,
   "nav_menu": {},
   "number_sections": false,
   "sideBar": true,
   "skip_h1_title": false,
   "title_cell": "Table of Contents",
   "title_sidebar": "Contents",
   "toc_cell": false,
   "toc_position": {},
   "toc_section_display": true,
   "toc_window_display": true
  }
 },
 "nbformat": 4,
 "nbformat_minor": 4
}
