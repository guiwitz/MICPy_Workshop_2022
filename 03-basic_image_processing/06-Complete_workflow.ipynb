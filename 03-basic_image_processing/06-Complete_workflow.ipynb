{
 "cells": [
  {
   "cell_type": "markdown",
   "id": "44d9837e-32e9-4e87-8362-8ae0143041e7",
   "metadata": {},
   "source": [
    "# Workflow\n",
    "\n",
    "In this chapter, we are going to wrap our workflow into a re-usable function, see how we can handle and export the extracted tabular data and finally export all these tables when we analyze all images.\n",
    "\n",
    "We can summarize our complete workflow as the following function which takes a three channel image as input:"
   ]
  },
  {
   "cell_type": "code",
   "execution_count": 1,
   "id": "c7f9fa6c-dedc-4eb9-b5ca-c9ac64283190",
   "metadata": {},
   "outputs": [],
   "source": [
    "import skimage\n",
    "from microfilm.microplot import microshow\n",
    "import matplotlib.pyplot as plt\n",
    "import numpy as np\n",
    "import scipy.ndimage as ndi"
   ]
  },
  {
   "cell_type": "code",
   "execution_count": 3,
   "id": "c0841491-6be0-473b-94c1-802c17d0e5ea",
   "metadata": {},
   "outputs": [],
   "source": [
    "def nuclei_in_out(image):\n",
    "    image_nuclei = image[:,:,2]\n",
    "\n",
    "    # filter image\n",
    "    image_nuclei = skimage.filters.median(image_nuclei, skimage.morphology.disk(5))\n",
    "\n",
    "    # create mask and clean-up\n",
    "    mask_nuclei = image_nuclei > skimage.filters.threshold_otsu(image_nuclei)\n",
    "    mask_nuclei = skimage.morphology.binary_closing(mask_nuclei, footprint=skimage.morphology.disk(5))\n",
    "    mask_nuclei = ndi.binary_fill_holes(mask_nuclei, skimage.morphology.disk(5))\n",
    "\n",
    "    labels_nuclei = skimage.morphology.label(mask_nuclei)\n",
    "\n",
    "    mask_nuclei_eroded = skimage.morphology.binary_erosion(mask_nuclei, skimage.morphology.disk(10))\n",
    "\n",
    "    labels_masked_inner = labels_nuclei * mask_nuclei_eroded\n",
    "    labels_masked_outer = labels_nuclei * (1-mask_nuclei_eroded)\n",
    "\n",
    "    measure_inner = skimage.measure.regionprops_table(\n",
    "        label_image=labels_masked_inner, intensity_image=image[:,:,1],\n",
    "        properties=('label', 'area', 'mean_intensity'))\n",
    "\n",
    "    measure_outer = skimage.measure.regionprops_table(\n",
    "        label_image=labels_masked_outer, intensity_image=image[:,:,1],\n",
    "        properties=('label', 'area', 'mean_intensity'))\n",
    "    \n",
    "    return measure_inner, measure_outer\n"
   ]
  },
  {
   "cell_type": "markdown",
   "id": "accb4722-5989-4833-ab22-c156e0dfcce9",
   "metadata": {},
   "source": [
    "Let's verify that it works. We define here the image path as this is what we'll have in our complete analysis:"
   ]
  },
  {
   "cell_type": "code",
   "execution_count": 4,
   "id": "87826338-a1a5-4413-90b1-1b9c75e98311",
   "metadata": {},
   "outputs": [],
   "source": [
    "from pathlib import Path\n",
    "\n",
    "image_path = Path('../data/cellaltlas/images/37367_517_E4_2.tif')"
   ]
  },
  {
   "cell_type": "code",
   "execution_count": 5,
   "id": "6425938e-0388-4fc9-8be4-f4bfefd1c392",
   "metadata": {},
   "outputs": [],
   "source": [
    "image = skimage.io.imread(image_path)"
   ]
  },
  {
   "cell_type": "code",
   "execution_count": 6,
   "id": "3cbdefc9-1d32-45c6-9996-eacddccc883d",
   "metadata": {},
   "outputs": [],
   "source": [
    "m_in, m_out = nuclei_in_out(image)"
   ]
  },
  {
   "cell_type": "code",
   "execution_count": 7,
   "id": "fb93fa55-149b-4314-9af7-22815c963a67",
   "metadata": {},
   "outputs": [
    {
     "data": {
      "text/plain": [
       "{'label': array([ 1,  2,  3,  4,  5,  8,  9, 10, 11, 12, 13, 14, 15, 16, 17, 18, 19,\n",
       "        20]),\n",
       " 'area': array([18311, 29810, 40219, 60268, 29764,  6113, 31132, 31457, 52129,\n",
       "        43280, 48210, 39566, 27734, 45929, 39765, 28504, 10416,  6055]),\n",
       " 'mean_intensity': array([152.02031566, 158.9123113 , 127.79708595, 164.54582863,\n",
       "        140.17766429, 123.8836905 , 152.55560195, 160.7047398 ,\n",
       "        117.40347983, 146.85311922, 118.43835304, 151.08664004,\n",
       "        123.20080046, 118.4308389 , 131.67871244, 124.31146506,\n",
       "        102.63632873,  89.75739059])}"
      ]
     },
     "execution_count": 7,
     "metadata": {},
     "output_type": "execute_result"
    }
   ],
   "source": [
    "m_in"
   ]
  },
  {
   "cell_type": "code",
   "execution_count": 8,
   "id": "3ef661c8-d8e8-4870-a873-98c8db28a751",
   "metadata": {},
   "outputs": [
    {
     "data": {
      "text/plain": [
       "{'label': array([ 1,  2,  3,  4,  5,  6,  7,  8,  9, 10, 11, 12, 13, 14, 15, 16, 17,\n",
       "        18, 19, 20]),\n",
       " 'area': array([ 3991,  7642,  7901,  9443, 11571,     6,     2,  2534,  7225,\n",
       "         7274,  9345,  9922,  8309,  8019,  4756,  8122,  8316,  5587,\n",
       "         2732,  2321]),\n",
       " 'mean_intensity': array([141.10172889, 149.40774666, 111.07669915, 156.43979667,\n",
       "        115.1012877 ,  78.33333333,  92.        ,  93.77979479,\n",
       "        141.62989619, 138.7594171 ,  97.0058855 , 121.59282403,\n",
       "        100.11758334, 135.15089163,  79.55424727,  95.62127555,\n",
       "         93.61075036,  80.03866118,  74.02196193,  69.26281775])}"
      ]
     },
     "execution_count": 8,
     "metadata": {},
     "output_type": "execute_result"
    }
   ],
   "source": [
    "m_out"
   ]
  },
  {
   "cell_type": "markdown",
   "id": "e742fc21-f532-461c-85f3-0acf9dbc898c",
   "metadata": {},
   "source": [
    "## Comments on the function\n",
    "\n",
    "Your are entirely free to define your functions as you like. For example, above we pass an image to the function, but we could as well pass a path and the image could be imported directly in the function. Also we return the two output dictionaries, but we could also directly save them in the function. Depending on your use case you may prefer one or the other solution."
   ]
  },
  {
   "cell_type": "markdown",
   "id": "a5ef30d5-5f42-4aab-b42e-12a045f9cafe",
   "metadata": {},
   "source": [
    "## Generality\n",
    "\n",
    "Once property you should generally aim for is *generality*. You might want to re-use this function for another project, and so you should be careful to not *hard-code* very specific features of your dataset in your code. For example you should avoid setting a fixed threshold value in your code. One solution for this is to pass such numbers as input to the function and to assign reasonable values."
   ]
  },
  {
   "cell_type": "markdown",
   "id": "1302f2c8-4976-4bb9-901a-8f1fa474dc23",
   "metadata": {},
   "source": [
    "## Handling tables: Pandas\n",
    "\n",
    "Wherever we save the output dictionaries, we have to save them as tables. The most popular way of doing this in Python is to use the Pandas package which offers such a tabular data structure called a DataFrame. \n",
    "\n",
    "The first operation is to transform the dictionary into a DataFrame. Luckily this is very simple, as the keys from our dictionary can juste be used to define the columns of our table:"
   ]
  },
  {
   "cell_type": "code",
   "execution_count": 9,
   "id": "058ee39b-f5fa-4209-b2a2-1152faaadb61",
   "metadata": {},
   "outputs": [],
   "source": [
    "import pandas as pd\n",
    "\n",
    "out_df = pd.DataFrame(m_out)"
   ]
  },
  {
   "cell_type": "code",
   "execution_count": 10,
   "id": "5125a9da-3672-44b0-8414-446085fa3683",
   "metadata": {},
   "outputs": [
    {
     "data": {
      "text/html": [
       "<div>\n",
       "<style scoped>\n",
       "    .dataframe tbody tr th:only-of-type {\n",
       "        vertical-align: middle;\n",
       "    }\n",
       "\n",
       "    .dataframe tbody tr th {\n",
       "        vertical-align: top;\n",
       "    }\n",
       "\n",
       "    .dataframe thead th {\n",
       "        text-align: right;\n",
       "    }\n",
       "</style>\n",
       "<table border=\"1\" class=\"dataframe\">\n",
       "  <thead>\n",
       "    <tr style=\"text-align: right;\">\n",
       "      <th></th>\n",
       "      <th>label</th>\n",
       "      <th>area</th>\n",
       "      <th>mean_intensity</th>\n",
       "    </tr>\n",
       "  </thead>\n",
       "  <tbody>\n",
       "    <tr>\n",
       "      <th>0</th>\n",
       "      <td>1</td>\n",
       "      <td>3991</td>\n",
       "      <td>141.101729</td>\n",
       "    </tr>\n",
       "    <tr>\n",
       "      <th>1</th>\n",
       "      <td>2</td>\n",
       "      <td>7642</td>\n",
       "      <td>149.407747</td>\n",
       "    </tr>\n",
       "    <tr>\n",
       "      <th>2</th>\n",
       "      <td>3</td>\n",
       "      <td>7901</td>\n",
       "      <td>111.076699</td>\n",
       "    </tr>\n",
       "    <tr>\n",
       "      <th>3</th>\n",
       "      <td>4</td>\n",
       "      <td>9443</td>\n",
       "      <td>156.439797</td>\n",
       "    </tr>\n",
       "    <tr>\n",
       "      <th>4</th>\n",
       "      <td>5</td>\n",
       "      <td>11571</td>\n",
       "      <td>115.101288</td>\n",
       "    </tr>\n",
       "    <tr>\n",
       "      <th>5</th>\n",
       "      <td>6</td>\n",
       "      <td>6</td>\n",
       "      <td>78.333333</td>\n",
       "    </tr>\n",
       "    <tr>\n",
       "      <th>6</th>\n",
       "      <td>7</td>\n",
       "      <td>2</td>\n",
       "      <td>92.000000</td>\n",
       "    </tr>\n",
       "    <tr>\n",
       "      <th>7</th>\n",
       "      <td>8</td>\n",
       "      <td>2534</td>\n",
       "      <td>93.779795</td>\n",
       "    </tr>\n",
       "    <tr>\n",
       "      <th>8</th>\n",
       "      <td>9</td>\n",
       "      <td>7225</td>\n",
       "      <td>141.629896</td>\n",
       "    </tr>\n",
       "    <tr>\n",
       "      <th>9</th>\n",
       "      <td>10</td>\n",
       "      <td>7274</td>\n",
       "      <td>138.759417</td>\n",
       "    </tr>\n",
       "    <tr>\n",
       "      <th>10</th>\n",
       "      <td>11</td>\n",
       "      <td>9345</td>\n",
       "      <td>97.005886</td>\n",
       "    </tr>\n",
       "    <tr>\n",
       "      <th>11</th>\n",
       "      <td>12</td>\n",
       "      <td>9922</td>\n",
       "      <td>121.592824</td>\n",
       "    </tr>\n",
       "    <tr>\n",
       "      <th>12</th>\n",
       "      <td>13</td>\n",
       "      <td>8309</td>\n",
       "      <td>100.117583</td>\n",
       "    </tr>\n",
       "    <tr>\n",
       "      <th>13</th>\n",
       "      <td>14</td>\n",
       "      <td>8019</td>\n",
       "      <td>135.150892</td>\n",
       "    </tr>\n",
       "    <tr>\n",
       "      <th>14</th>\n",
       "      <td>15</td>\n",
       "      <td>4756</td>\n",
       "      <td>79.554247</td>\n",
       "    </tr>\n",
       "    <tr>\n",
       "      <th>15</th>\n",
       "      <td>16</td>\n",
       "      <td>8122</td>\n",
       "      <td>95.621276</td>\n",
       "    </tr>\n",
       "    <tr>\n",
       "      <th>16</th>\n",
       "      <td>17</td>\n",
       "      <td>8316</td>\n",
       "      <td>93.610750</td>\n",
       "    </tr>\n",
       "    <tr>\n",
       "      <th>17</th>\n",
       "      <td>18</td>\n",
       "      <td>5587</td>\n",
       "      <td>80.038661</td>\n",
       "    </tr>\n",
       "    <tr>\n",
       "      <th>18</th>\n",
       "      <td>19</td>\n",
       "      <td>2732</td>\n",
       "      <td>74.021962</td>\n",
       "    </tr>\n",
       "    <tr>\n",
       "      <th>19</th>\n",
       "      <td>20</td>\n",
       "      <td>2321</td>\n",
       "      <td>69.262818</td>\n",
       "    </tr>\n",
       "  </tbody>\n",
       "</table>\n",
       "</div>"
      ],
      "text/plain": [
       "    label   area  mean_intensity\n",
       "0       1   3991      141.101729\n",
       "1       2   7642      149.407747\n",
       "2       3   7901      111.076699\n",
       "3       4   9443      156.439797\n",
       "4       5  11571      115.101288\n",
       "5       6      6       78.333333\n",
       "6       7      2       92.000000\n",
       "7       8   2534       93.779795\n",
       "8       9   7225      141.629896\n",
       "9      10   7274      138.759417\n",
       "10     11   9345       97.005886\n",
       "11     12   9922      121.592824\n",
       "12     13   8309      100.117583\n",
       "13     14   8019      135.150892\n",
       "14     15   4756       79.554247\n",
       "15     16   8122       95.621276\n",
       "16     17   8316       93.610750\n",
       "17     18   5587       80.038661\n",
       "18     19   2732       74.021962\n",
       "19     20   2321       69.262818"
      ]
     },
     "execution_count": 10,
     "metadata": {},
     "output_type": "execute_result"
    }
   ],
   "source": [
    "out_df"
   ]
  },
  {
   "cell_type": "markdown",
   "id": "c412d96a-292d-4054-9769-5a7da50cb4e2",
   "metadata": {},
   "source": [
    "Now we see that this offers an actual table. Note though that it isn't an interactive table, i.e. you cannot point to lines and modify them.\n",
    "\n",
    "These tables are very useful for post-processing as they allow combined multiple dataset, compute statistics on the table, group certain rows based on criteria etc. For example with"
   ]
  },
  {
   "cell_type": "code",
   "execution_count": 11,
   "id": "224a648c-2844-4f97-8065-8bf4e6251129",
   "metadata": {},
   "outputs": [
    {
     "data": {
      "text/plain": [
       "label               10.50000\n",
       "area              6250.90000\n",
       "mean_intensity     108.18033\n",
       "dtype: float64"
      ]
     },
     "execution_count": 11,
     "metadata": {},
     "output_type": "execute_result"
    }
   ],
   "source": [
    "out_df.mean()"
   ]
  },
  {
   "cell_type": "markdown",
   "id": "afd9fd55-a28d-499b-8a37-4f125c2eb95f",
   "metadata": {},
   "source": [
    "we can compute the mean of each column in the table without having to do that manually.\n",
    "\n",
    "Pandas also offers a simple way to export such table into classical formats like csv. We only have to specify a valid path. For this we define a folder as a ```Path``` object:"
   ]
  },
  {
   "cell_type": "code",
   "execution_count": 12,
   "id": "1f11223c-53e6-4f9f-a716-ebfe2bd33488",
   "metadata": {},
   "outputs": [],
   "source": [
    "from pathlib import Path\n",
    "\n",
    "export_dir = Path('../exports/')"
   ]
  },
  {
   "cell_type": "markdown",
   "id": "5c4c483c-dfd7-454d-9108-6441cebe2e01",
   "metadata": {},
   "source": [
    "Now we want to keep track of which file this export corresponds to. So let's recover the name or ```stem``` of the image:"
   ]
  },
  {
   "cell_type": "code",
   "execution_count": 13,
   "id": "c2b9e66c-8763-42f8-8d10-0ac62c032360",
   "metadata": {},
   "outputs": [
    {
     "data": {
      "text/plain": [
       "'37367_517_E4_2'"
      ]
     },
     "execution_count": 13,
     "metadata": {},
     "output_type": "execute_result"
    }
   ],
   "source": [
    "image_path.stem"
   ]
  },
  {
   "cell_type": "markdown",
   "id": "c13f25b9-3d61-4cbc-985f-23f461a48f80",
   "metadata": {},
   "source": [
    "Now we can create a full path by also adding a csv extension and a suffix ```_out``` to specify that this corresponds to the membrane (outer part) intensity."
   ]
  },
  {
   "cell_type": "code",
   "execution_count": 24,
   "id": "9eda463f-d422-40a7-8a61-4abb04901c22",
   "metadata": {},
   "outputs": [],
   "source": [
    "export_path = export_dir.joinpath(image_path.stem +'_out.csv')"
   ]
  },
  {
   "cell_type": "markdown",
   "id": "fe0c77b3-9e9e-4865-9871-f725b4a32bf2",
   "metadata": {},
   "source": [
    "Finally we can export the DataFrame or table using the ```to_csv``` method. We just us the additional options ```index=False``` to avoid storing a useless index in the csv file:"
   ]
  },
  {
   "cell_type": "code",
   "execution_count": 25,
   "id": "fc9fcd7d-ddcd-42d9-8079-084ae875b6c1",
   "metadata": {},
   "outputs": [],
   "source": [
    "out_df.to_csv(export_path, index=False)"
   ]
  },
  {
   "cell_type": "markdown",
   "id": "59ff80e6-3e43-4ef2-8f12-828f11c17782",
   "metadata": {},
   "source": [
    "As a control, let's check the contents of the export folder:"
   ]
  },
  {
   "cell_type": "code",
   "execution_count": 26,
   "id": "5cde300e-3c87-4887-919a-64e4c4964fea",
   "metadata": {},
   "outputs": [
    {
     "data": {
      "text/plain": [
       "[PosixPath('../exports/37367_517_E4_2_out.csv'),\n",
       " PosixPath('../exports/.ipynb_checkpoints')]"
      ]
     },
     "execution_count": 26,
     "metadata": {},
     "output_type": "execute_result"
    }
   ],
   "source": [
    "list(export_dir.iterdir())"
   ]
  },
  {
   "cell_type": "markdown",
   "id": "bc76b09b-e850-46af-adac-8290708de352",
   "metadata": {},
   "source": [
    "## Execute the workflow\n",
    "\n",
    "We can finally run our full workflow. We just have to:\n",
    "- define the list of files to analyze\n",
    "- run the workflow on each file\n",
    "- export the tables for each image"
   ]
  },
  {
   "cell_type": "code",
   "execution_count": 27,
   "id": "825627d8-c714-4cbd-bd80-0308b5b46fa1",
   "metadata": {},
   "outputs": [],
   "source": [
    "folder_to_analyze = Path('../data/cellaltlas/images/')"
   ]
  },
  {
   "cell_type": "code",
   "execution_count": 28,
   "id": "d423dd4c-ebc1-4c10-8cb9-2b11f9cab03d",
   "metadata": {},
   "outputs": [
    {
     "data": {
      "text/plain": [
       "[PosixPath('../data/cellaltlas/images/categories.csv'),\n",
       " PosixPath('../data/cellaltlas/images/27985_284_E10_2.tif'),\n",
       " PosixPath('../data/cellaltlas/images/24138_196_F7_2.tif'),\n",
       " PosixPath('../data/cellaltlas/images/50546_727_A8_2.tif'),\n",
       " PosixPath('../data/cellaltlas/images/67703_1283_D7_3.tif'),\n",
       " PosixPath('../data/cellaltlas/images/47549_736_E7_1.tif'),\n",
       " PosixPath('../data/cellaltlas/images/19838_1252_F8_1.tif'),\n",
       " PosixPath('../data/cellaltlas/images/8346_22_C1_1.tif'),\n",
       " PosixPath('../data/cellaltlas/images/47032_977_G4_4.tif'),\n",
       " PosixPath('../data/cellaltlas/images/37367_517_E4_2.tif'),\n",
       " PosixPath('../data/cellaltlas/images/36268_407_B8_1.tif'),\n",
       " PosixPath('../data/cellaltlas/images/64554_1164_A6_2.tif'),\n",
       " PosixPath('../data/cellaltlas/images/60398_1596_E1_1.tif'),\n",
       " PosixPath('../data/cellaltlas/images/46658_784_B12_1.tif'),\n",
       " PosixPath('../data/cellaltlas/images/27897_273_C8_2.tif'),\n",
       " PosixPath('../data/cellaltlas/images/LICENSE.txt'),\n",
       " PosixPath('../data/cellaltlas/images/36268_404_B8_2.tif')]"
      ]
     },
     "execution_count": 28,
     "metadata": {},
     "output_type": "execute_result"
    }
   ],
   "source": [
    "files = list(folder_to_analyze.iterdir())\n",
    "files"
   ]
  },
  {
   "cell_type": "code",
   "execution_count": 29,
   "id": "cc9615aa-aa8c-494b-97f4-c60fac8afb96",
   "metadata": {},
   "outputs": [],
   "source": [
    "export_folder = Path('../exports/')\n",
    "\n",
    "for f in files:\n",
    "    if f.suffix == '.tif':\n",
    "        \n",
    "        image = skimage.io.imread(f)\n",
    "        m_in, m_out = nuclei_in_out(image)\n",
    "        \n",
    "        m_in_df = pd.DataFrame(m_in)\n",
    "        m_out_df = pd.DataFrame(m_out)\n",
    "        \n",
    "        export_in = export_folder.joinpath(f.stem+'_in.csv')\n",
    "        export_out = export_folder.joinpath(f.stem+'_out.csv')\n",
    "        \n",
    "        m_in_df.to_csv(export_in, index=False)\n",
    "        m_out_df.to_csv(export_out, index=False)"
   ]
  },
  {
   "cell_type": "code",
   "execution_count": null,
   "id": "43849763-1e98-4c04-a9be-3e26cec14705",
   "metadata": {},
   "outputs": [],
   "source": []
  }
 ],
 "metadata": {
  "kernelspec": {
   "display_name": "Python 3 (ipykernel)",
   "language": "python",
   "name": "python3"
  },
  "language_info": {
   "codemirror_mode": {
    "name": "ipython",
    "version": 3
   },
   "file_extension": ".py",
   "mimetype": "text/x-python",
   "name": "python",
   "nbconvert_exporter": "python",
   "pygments_lexer": "ipython3",
   "version": "3.9.13"
  }
 },
 "nbformat": 4,
 "nbformat_minor": 5
}
