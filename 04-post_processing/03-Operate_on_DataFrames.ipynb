{
 "cells": [
  {
   "cell_type": "markdown",
   "metadata": {
    "id": "TD06UcxH2Aap"
   },
   "source": [
    "# Operating on DataFrames\n",
    "\n",
    "Now that we know how to import DataFrames, how to format them to our needs, and how to access specific parts of them, we want to be able to maths with them. We will see that a lot of the things we have learned with Numpy arrays can be \"recycled\" here."
   ]
  },
  {
   "cell_type": "code",
   "execution_count": 1,
   "metadata": {
    "executionInfo": {
     "elapsed": 722,
     "status": "ok",
     "timestamp": 1614349113268,
     "user": {
      "displayName": "Guillaume Witz",
      "photoUrl": "https://lh3.googleusercontent.com/a-/AOh14GgT0K2JVYzEsjzsS5nhkUVjUrSIJ5jHzXnBoYrmVf8=s64",
      "userId": "16033870147214403532"
     },
     "user_tz": -60
    },
    "id": "PppCId1k23Bb"
   },
   "outputs": [],
   "source": [
    "import pandas as pd\n",
    "import numpy as np"
   ]
  },
  {
   "cell_type": "markdown",
   "metadata": {
    "id": "ohXAnizD235F"
   },
   "source": [
    "We here again use our composer data:"
   ]
  },
  {
   "cell_type": "code",
   "execution_count": 2,
   "metadata": {
    "executionInfo": {
     "elapsed": 2000,
     "status": "ok",
     "timestamp": 1614349123619,
     "user": {
      "displayName": "Guillaume Witz",
      "photoUrl": "https://lh3.googleusercontent.com/a-/AOh14GgT0K2JVYzEsjzsS5nhkUVjUrSIJ5jHzXnBoYrmVf8=s64",
      "userId": "16033870147214403532"
     },
     "user_tz": -60
    },
    "id": "IE2lYZGo3ywH"
   },
   "outputs": [],
   "source": [
    "nuclei = pd.read_csv('../exports/19838_1252_F8_1_in.csv')"
   ]
  },
  {
   "cell_type": "code",
   "execution_count": 3,
   "metadata": {
    "colab": {
     "base_uri": "https://localhost:8080/",
     "height": 173
    },
    "executionInfo": {
     "elapsed": 1604,
     "status": "ok",
     "timestamp": 1614349123620,
     "user": {
      "displayName": "Guillaume Witz",
      "photoUrl": "https://lh3.googleusercontent.com/a-/AOh14GgT0K2JVYzEsjzsS5nhkUVjUrSIJ5jHzXnBoYrmVf8=s64",
      "userId": "16033870147214403532"
     },
     "user_tz": -60
    },
    "id": "M-T0Ua8J31xZ",
    "outputId": "1f850085-1c6f-4c7c-a42b-bf1d1cfbbefe"
   },
   "outputs": [
    {
     "data": {
      "text/html": [
       "<div>\n",
       "<style scoped>\n",
       "    .dataframe tbody tr th:only-of-type {\n",
       "        vertical-align: middle;\n",
       "    }\n",
       "\n",
       "    .dataframe tbody tr th {\n",
       "        vertical-align: top;\n",
       "    }\n",
       "\n",
       "    .dataframe thead th {\n",
       "        text-align: right;\n",
       "    }\n",
       "</style>\n",
       "<table border=\"1\" class=\"dataframe\">\n",
       "  <thead>\n",
       "    <tr style=\"text-align: right;\">\n",
       "      <th></th>\n",
       "      <th>label</th>\n",
       "      <th>area</th>\n",
       "      <th>mean_intensity</th>\n",
       "    </tr>\n",
       "  </thead>\n",
       "  <tbody>\n",
       "    <tr>\n",
       "      <th>0</th>\n",
       "      <td>1</td>\n",
       "      <td>5629</td>\n",
       "      <td>28.214070</td>\n",
       "    </tr>\n",
       "    <tr>\n",
       "      <th>1</th>\n",
       "      <td>2</td>\n",
       "      <td>9904</td>\n",
       "      <td>44.429826</td>\n",
       "    </tr>\n",
       "    <tr>\n",
       "      <th>2</th>\n",
       "      <td>4</td>\n",
       "      <td>15070</td>\n",
       "      <td>53.126078</td>\n",
       "    </tr>\n",
       "    <tr>\n",
       "      <th>3</th>\n",
       "      <td>5</td>\n",
       "      <td>20884</td>\n",
       "      <td>49.792856</td>\n",
       "    </tr>\n",
       "    <tr>\n",
       "      <th>4</th>\n",
       "      <td>6</td>\n",
       "      <td>12972</td>\n",
       "      <td>42.911116</td>\n",
       "    </tr>\n",
       "    <tr>\n",
       "      <th>5</th>\n",
       "      <td>7</td>\n",
       "      <td>16068</td>\n",
       "      <td>54.610904</td>\n",
       "    </tr>\n",
       "    <tr>\n",
       "      <th>6</th>\n",
       "      <td>8</td>\n",
       "      <td>27912</td>\n",
       "      <td>52.343007</td>\n",
       "    </tr>\n",
       "    <tr>\n",
       "      <th>7</th>\n",
       "      <td>9</td>\n",
       "      <td>26131</td>\n",
       "      <td>60.766178</td>\n",
       "    </tr>\n",
       "    <tr>\n",
       "      <th>8</th>\n",
       "      <td>10</td>\n",
       "      <td>28071</td>\n",
       "      <td>58.830430</td>\n",
       "    </tr>\n",
       "    <tr>\n",
       "      <th>9</th>\n",
       "      <td>11</td>\n",
       "      <td>16176</td>\n",
       "      <td>54.782517</td>\n",
       "    </tr>\n",
       "    <tr>\n",
       "      <th>10</th>\n",
       "      <td>12</td>\n",
       "      <td>18853</td>\n",
       "      <td>60.941442</td>\n",
       "    </tr>\n",
       "  </tbody>\n",
       "</table>\n",
       "</div>"
      ],
      "text/plain": [
       "    label   area  mean_intensity\n",
       "0       1   5629       28.214070\n",
       "1       2   9904       44.429826\n",
       "2       4  15070       53.126078\n",
       "3       5  20884       49.792856\n",
       "4       6  12972       42.911116\n",
       "5       7  16068       54.610904\n",
       "6       8  27912       52.343007\n",
       "7       9  26131       60.766178\n",
       "8      10  28071       58.830430\n",
       "9      11  16176       54.782517\n",
       "10     12  18853       60.941442"
      ]
     },
     "execution_count": 3,
     "metadata": {},
     "output_type": "execute_result"
    }
   ],
   "source": [
    "nuclei"
   ]
  },
  {
   "cell_type": "markdown",
   "metadata": {
    "id": "sHx_oGrs37bT"
   },
   "source": [
    "Just like with Numpy arrays, we can apply various mathematical operations on DataFrames columns or entire DataFrames. "
   ]
  },
  {
   "cell_type": "markdown",
   "metadata": {
    "id": "HbHCGJNEtO3W"
   },
   "source": [
    "## Arithmetics single columns\n",
    "Just like we could do an operation like ```my_array = my_array + 1```, we can do the same with Pandas columns. Doing such operations, we directly reaplace an existing column or create new one like here. For example we can estimate what's the radius of a disk of equivalent area to the nuclei"
   ]
  },
  {
   "cell_type": "code",
   "execution_count": 4,
   "metadata": {},
   "outputs": [
    {
     "data": {
      "text/plain": [
       "5628.93054463742"
      ]
     },
     "execution_count": 4,
     "metadata": {},
     "output_type": "execute_result"
    }
   ],
   "source": [
    "np.pi*42.329**2"
   ]
  },
  {
   "cell_type": "code",
   "execution_count": 5,
   "metadata": {
    "colab": {
     "base_uri": "https://localhost:8080/",
     "height": 173
    },
    "executionInfo": {
     "elapsed": 466,
     "status": "ok",
     "timestamp": 1614349212760,
     "user": {
      "displayName": "Guillaume Witz",
      "photoUrl": "https://lh3.googleusercontent.com/a-/AOh14GgT0K2JVYzEsjzsS5nhkUVjUrSIJ5jHzXnBoYrmVf8=s64",
      "userId": "16033870147214403532"
     },
     "user_tz": -60
    },
    "id": "sMZmTQ894M4M",
    "outputId": "1748c398-4385-4aed-970f-e17a2825bc48"
   },
   "outputs": [
    {
     "data": {
      "text/html": [
       "<div>\n",
       "<style scoped>\n",
       "    .dataframe tbody tr th:only-of-type {\n",
       "        vertical-align: middle;\n",
       "    }\n",
       "\n",
       "    .dataframe tbody tr th {\n",
       "        vertical-align: top;\n",
       "    }\n",
       "\n",
       "    .dataframe thead th {\n",
       "        text-align: right;\n",
       "    }\n",
       "</style>\n",
       "<table border=\"1\" class=\"dataframe\">\n",
       "  <thead>\n",
       "    <tr style=\"text-align: right;\">\n",
       "      <th></th>\n",
       "      <th>label</th>\n",
       "      <th>area</th>\n",
       "      <th>mean_intensity</th>\n",
       "      <th>radius</th>\n",
       "    </tr>\n",
       "  </thead>\n",
       "  <tbody>\n",
       "    <tr>\n",
       "      <th>0</th>\n",
       "      <td>1</td>\n",
       "      <td>5629</td>\n",
       "      <td>28.214070</td>\n",
       "      <td>42.329261</td>\n",
       "    </tr>\n",
       "    <tr>\n",
       "      <th>1</th>\n",
       "      <td>2</td>\n",
       "      <td>9904</td>\n",
       "      <td>44.429826</td>\n",
       "      <td>56.147494</td>\n",
       "    </tr>\n",
       "    <tr>\n",
       "      <th>2</th>\n",
       "      <td>4</td>\n",
       "      <td>15070</td>\n",
       "      <td>53.126078</td>\n",
       "      <td>69.259873</td>\n",
       "    </tr>\n",
       "    <tr>\n",
       "      <th>3</th>\n",
       "      <td>5</td>\n",
       "      <td>20884</td>\n",
       "      <td>49.792856</td>\n",
       "      <td>81.532715</td>\n",
       "    </tr>\n",
       "    <tr>\n",
       "      <th>4</th>\n",
       "      <td>6</td>\n",
       "      <td>12972</td>\n",
       "      <td>42.911116</td>\n",
       "      <td>64.258197</td>\n",
       "    </tr>\n",
       "    <tr>\n",
       "      <th>5</th>\n",
       "      <td>7</td>\n",
       "      <td>16068</td>\n",
       "      <td>54.610904</td>\n",
       "      <td>71.516454</td>\n",
       "    </tr>\n",
       "    <tr>\n",
       "      <th>6</th>\n",
       "      <td>8</td>\n",
       "      <td>27912</td>\n",
       "      <td>52.343007</td>\n",
       "      <td>94.258504</td>\n",
       "    </tr>\n",
       "    <tr>\n",
       "      <th>7</th>\n",
       "      <td>9</td>\n",
       "      <td>26131</td>\n",
       "      <td>60.766178</td>\n",
       "      <td>91.201730</td>\n",
       "    </tr>\n",
       "    <tr>\n",
       "      <th>8</th>\n",
       "      <td>10</td>\n",
       "      <td>28071</td>\n",
       "      <td>58.830430</td>\n",
       "      <td>94.526593</td>\n",
       "    </tr>\n",
       "    <tr>\n",
       "      <th>9</th>\n",
       "      <td>11</td>\n",
       "      <td>16176</td>\n",
       "      <td>54.782517</td>\n",
       "      <td>71.756398</td>\n",
       "    </tr>\n",
       "    <tr>\n",
       "      <th>10</th>\n",
       "      <td>12</td>\n",
       "      <td>18853</td>\n",
       "      <td>60.941442</td>\n",
       "      <td>77.466743</td>\n",
       "    </tr>\n",
       "  </tbody>\n",
       "</table>\n",
       "</div>"
      ],
      "text/plain": [
       "    label   area  mean_intensity     radius\n",
       "0       1   5629       28.214070  42.329261\n",
       "1       2   9904       44.429826  56.147494\n",
       "2       4  15070       53.126078  69.259873\n",
       "3       5  20884       49.792856  81.532715\n",
       "4       6  12972       42.911116  64.258197\n",
       "5       7  16068       54.610904  71.516454\n",
       "6       8  27912       52.343007  94.258504\n",
       "7       9  26131       60.766178  91.201730\n",
       "8      10  28071       58.830430  94.526593\n",
       "9      11  16176       54.782517  71.756398\n",
       "10     12  18853       60.941442  77.466743"
      ]
     },
     "execution_count": 5,
     "metadata": {},
     "output_type": "execute_result"
    }
   ],
   "source": [
    "nuclei['radius'] = np.sqrt(nuclei['area']/np.pi)\n",
    "nuclei"
   ]
  },
  {
   "cell_type": "markdown",
   "metadata": {
    "id": "0Ra395dx4Qb0"
   },
   "source": [
    "### Arithmetics multiple columns\n",
    "\n",
    "We can also do maths with multiple columns as we have previously done with arrays. Just like with arrays, **operations are performed element-wise**. We can for example compute the intensity per area:"
   ]
  },
  {
   "cell_type": "code",
   "execution_count": 6,
   "metadata": {
    "colab": {
     "base_uri": "https://localhost:8080/"
    },
    "executionInfo": {
     "elapsed": 544,
     "status": "ok",
     "timestamp": 1614349226184,
     "user": {
      "displayName": "Guillaume Witz",
      "photoUrl": "https://lh3.googleusercontent.com/a-/AOh14GgT0K2JVYzEsjzsS5nhkUVjUrSIJ5jHzXnBoYrmVf8=s64",
      "userId": "16033870147214403532"
     },
     "user_tz": -60
    },
    "id": "ijOU4ik34qoB",
    "outputId": "b32ef230-f677-4b13-9257-2cd98e2882d0"
   },
   "outputs": [
    {
     "data": {
      "text/plain": [
       "0     0.005012\n",
       "1     0.004486\n",
       "2     0.003525\n",
       "3     0.002384\n",
       "4     0.003308\n",
       "5     0.003399\n",
       "6     0.001875\n",
       "7     0.002325\n",
       "8     0.002096\n",
       "9     0.003387\n",
       "10    0.003232\n",
       "dtype: float64"
      ]
     },
     "execution_count": 6,
     "metadata": {},
     "output_type": "execute_result"
    }
   ],
   "source": [
    "nuclei['mean_intensity'] / nuclei['area']"
   ]
  },
  {
   "cell_type": "markdown",
   "metadata": {
    "id": "WfEsNtkCZVZd"
   },
   "source": [
    "Note that the output here is a series with the correct length, so we can simply add it to our original table directly!"
   ]
  },
  {
   "cell_type": "code",
   "execution_count": 7,
   "metadata": {
    "colab": {
     "base_uri": "https://localhost:8080/",
     "height": 173
    },
    "executionInfo": {
     "elapsed": 531,
     "status": "ok",
     "timestamp": 1614349231334,
     "user": {
      "displayName": "Guillaume Witz",
      "photoUrl": "https://lh3.googleusercontent.com/a-/AOh14GgT0K2JVYzEsjzsS5nhkUVjUrSIJ5jHzXnBoYrmVf8=s64",
      "userId": "16033870147214403532"
     },
     "user_tz": -60
    },
    "id": "Ie2iIPfNZfCf",
    "outputId": "d6b800ed-b07f-4a45-8c7b-13ae768f453d"
   },
   "outputs": [
    {
     "data": {
      "text/html": [
       "<div>\n",
       "<style scoped>\n",
       "    .dataframe tbody tr th:only-of-type {\n",
       "        vertical-align: middle;\n",
       "    }\n",
       "\n",
       "    .dataframe tbody tr th {\n",
       "        vertical-align: top;\n",
       "    }\n",
       "\n",
       "    .dataframe thead th {\n",
       "        text-align: right;\n",
       "    }\n",
       "</style>\n",
       "<table border=\"1\" class=\"dataframe\">\n",
       "  <thead>\n",
       "    <tr style=\"text-align: right;\">\n",
       "      <th></th>\n",
       "      <th>label</th>\n",
       "      <th>area</th>\n",
       "      <th>mean_intensity</th>\n",
       "      <th>radius</th>\n",
       "      <th>intensity_area</th>\n",
       "    </tr>\n",
       "  </thead>\n",
       "  <tbody>\n",
       "    <tr>\n",
       "      <th>0</th>\n",
       "      <td>1</td>\n",
       "      <td>5629</td>\n",
       "      <td>28.214070</td>\n",
       "      <td>42.329261</td>\n",
       "      <td>0.005012</td>\n",
       "    </tr>\n",
       "    <tr>\n",
       "      <th>1</th>\n",
       "      <td>2</td>\n",
       "      <td>9904</td>\n",
       "      <td>44.429826</td>\n",
       "      <td>56.147494</td>\n",
       "      <td>0.004486</td>\n",
       "    </tr>\n",
       "    <tr>\n",
       "      <th>2</th>\n",
       "      <td>4</td>\n",
       "      <td>15070</td>\n",
       "      <td>53.126078</td>\n",
       "      <td>69.259873</td>\n",
       "      <td>0.003525</td>\n",
       "    </tr>\n",
       "    <tr>\n",
       "      <th>3</th>\n",
       "      <td>5</td>\n",
       "      <td>20884</td>\n",
       "      <td>49.792856</td>\n",
       "      <td>81.532715</td>\n",
       "      <td>0.002384</td>\n",
       "    </tr>\n",
       "    <tr>\n",
       "      <th>4</th>\n",
       "      <td>6</td>\n",
       "      <td>12972</td>\n",
       "      <td>42.911116</td>\n",
       "      <td>64.258197</td>\n",
       "      <td>0.003308</td>\n",
       "    </tr>\n",
       "    <tr>\n",
       "      <th>5</th>\n",
       "      <td>7</td>\n",
       "      <td>16068</td>\n",
       "      <td>54.610904</td>\n",
       "      <td>71.516454</td>\n",
       "      <td>0.003399</td>\n",
       "    </tr>\n",
       "    <tr>\n",
       "      <th>6</th>\n",
       "      <td>8</td>\n",
       "      <td>27912</td>\n",
       "      <td>52.343007</td>\n",
       "      <td>94.258504</td>\n",
       "      <td>0.001875</td>\n",
       "    </tr>\n",
       "    <tr>\n",
       "      <th>7</th>\n",
       "      <td>9</td>\n",
       "      <td>26131</td>\n",
       "      <td>60.766178</td>\n",
       "      <td>91.201730</td>\n",
       "      <td>0.002325</td>\n",
       "    </tr>\n",
       "    <tr>\n",
       "      <th>8</th>\n",
       "      <td>10</td>\n",
       "      <td>28071</td>\n",
       "      <td>58.830430</td>\n",
       "      <td>94.526593</td>\n",
       "      <td>0.002096</td>\n",
       "    </tr>\n",
       "    <tr>\n",
       "      <th>9</th>\n",
       "      <td>11</td>\n",
       "      <td>16176</td>\n",
       "      <td>54.782517</td>\n",
       "      <td>71.756398</td>\n",
       "      <td>0.003387</td>\n",
       "    </tr>\n",
       "    <tr>\n",
       "      <th>10</th>\n",
       "      <td>12</td>\n",
       "      <td>18853</td>\n",
       "      <td>60.941442</td>\n",
       "      <td>77.466743</td>\n",
       "      <td>0.003232</td>\n",
       "    </tr>\n",
       "  </tbody>\n",
       "</table>\n",
       "</div>"
      ],
      "text/plain": [
       "    label   area  mean_intensity     radius  intensity_area\n",
       "0       1   5629       28.214070  42.329261        0.005012\n",
       "1       2   9904       44.429826  56.147494        0.004486\n",
       "2       4  15070       53.126078  69.259873        0.003525\n",
       "3       5  20884       49.792856  81.532715        0.002384\n",
       "4       6  12972       42.911116  64.258197        0.003308\n",
       "5       7  16068       54.610904  71.516454        0.003399\n",
       "6       8  27912       52.343007  94.258504        0.001875\n",
       "7       9  26131       60.766178  91.201730        0.002325\n",
       "8      10  28071       58.830430  94.526593        0.002096\n",
       "9      11  16176       54.782517  71.756398        0.003387\n",
       "10     12  18853       60.941442  77.466743        0.003232"
      ]
     },
     "execution_count": 7,
     "metadata": {},
     "output_type": "execute_result"
    }
   ],
   "source": [
    "nuclei['intensity_area'] = nuclei['mean_intensity'] / nuclei['area']\n",
    "nuclei"
   ]
  },
  {
   "cell_type": "markdown",
   "metadata": {
    "id": "ZmvIVmKj4tjy"
   },
   "source": [
    "## Applying functions\n",
    "\n",
    "Again, just like we could previously apply a function to an array and recover an array of the same size where the function had been applied **element-wise** we can do that same with a DataFrame column and recover a column. And we can simply use Numpy functions!"
   ]
  },
  {
   "cell_type": "code",
   "execution_count": 8,
   "metadata": {
    "colab": {
     "base_uri": "https://localhost:8080/"
    },
    "executionInfo": {
     "elapsed": 497,
     "status": "ok",
     "timestamp": 1614349243384,
     "user": {
      "displayName": "Guillaume Witz",
      "photoUrl": "https://lh3.googleusercontent.com/a-/AOh14GgT0K2JVYzEsjzsS5nhkUVjUrSIJ5jHzXnBoYrmVf8=s64",
      "userId": "16033870147214403532"
     },
     "user_tz": -60
    },
    "id": "3SPc0aEJ58QH",
    "outputId": "8d71ab22-75b7-4196-c4e6-72ac9fe345be"
   },
   "outputs": [
    {
     "data": {
      "text/plain": [
       "0     1.450466\n",
       "1     1.647675\n",
       "2     1.725308\n",
       "3     1.697167\n",
       "4     1.632570\n",
       "5     1.737279\n",
       "6     1.718859\n",
       "7     1.783662\n",
       "8     1.769602\n",
       "9     1.738642\n",
       "10    1.784913\n",
       "Name: mean_intensity, dtype: float64"
      ]
     },
     "execution_count": 8,
     "metadata": {},
     "output_type": "execute_result"
    }
   ],
   "source": [
    "np.log10(nuclei['mean_intensity'])"
   ]
  },
  {
   "cell_type": "markdown",
   "metadata": {
    "id": "1QIL-5Ff6Ljs"
   },
   "source": [
    "## Summarizing functions\n",
    "Finally, we can summarized columns by using either Numpy function or the methods attached to a Dataframe or a column. For example we can take the mean:"
   ]
  },
  {
   "cell_type": "code",
   "execution_count": 9,
   "metadata": {
    "colab": {
     "base_uri": "https://localhost:8080/"
    },
    "executionInfo": {
     "elapsed": 479,
     "status": "ok",
     "timestamp": 1614349618875,
     "user": {
      "displayName": "Guillaume Witz",
      "photoUrl": "https://lh3.googleusercontent.com/a-/AOh14GgT0K2JVYzEsjzsS5nhkUVjUrSIJ5jHzXnBoYrmVf8=s64",
      "userId": "16033870147214403532"
     },
     "user_tz": -60
    },
    "id": "fBLc13Vv6fXm",
    "outputId": "c34bf20c-b038-4b23-c980-ae1ee137e736"
   },
   "outputs": [
    {
     "data": {
      "text/plain": [
       "17970.0"
      ]
     },
     "execution_count": 9,
     "metadata": {},
     "output_type": "execute_result"
    }
   ],
   "source": [
    "np.mean(nuclei['area'])"
   ]
  },
  {
   "cell_type": "code",
   "execution_count": 10,
   "metadata": {
    "colab": {
     "base_uri": "https://localhost:8080/"
    },
    "executionInfo": {
     "elapsed": 829,
     "status": "ok",
     "timestamp": 1614349619785,
     "user": {
      "displayName": "Guillaume Witz",
      "photoUrl": "https://lh3.googleusercontent.com/a-/AOh14GgT0K2JVYzEsjzsS5nhkUVjUrSIJ5jHzXnBoYrmVf8=s64",
      "userId": "16033870147214403532"
     },
     "user_tz": -60
    },
    "id": "56rd355o6hwx",
    "outputId": "537a25e1-c699-4da9-b2f3-1c7750e0f85f"
   },
   "outputs": [
    {
     "data": {
      "text/plain": [
       "17970.0"
      ]
     },
     "execution_count": 10,
     "metadata": {},
     "output_type": "execute_result"
    }
   ],
   "source": [
    "nuclei['area'].mean()"
   ]
  },
  {
   "cell_type": "markdown",
   "metadata": {},
   "source": [
    "Such summary functions can also be directly applied DataFrame wide:"
   ]
  },
  {
   "cell_type": "code",
   "execution_count": 11,
   "metadata": {},
   "outputs": [
    {
     "data": {
      "text/plain": [
       "label                 6.818182\n",
       "area              17970.000000\n",
       "mean_intensity       50.977129\n",
       "radius               74.023088\n",
       "intensity_area        0.003185\n",
       "dtype: float64"
      ]
     },
     "execution_count": 11,
     "metadata": {},
     "output_type": "execute_result"
    }
   ],
   "source": [
    "nuclei.mean()"
   ]
  },
  {
   "cell_type": "markdown",
   "metadata": {},
   "source": [
    "And we can even get complete summaries:"
   ]
  },
  {
   "cell_type": "code",
   "execution_count": 12,
   "metadata": {},
   "outputs": [
    {
     "data": {
      "text/html": [
       "<div>\n",
       "<style scoped>\n",
       "    .dataframe tbody tr th:only-of-type {\n",
       "        vertical-align: middle;\n",
       "    }\n",
       "\n",
       "    .dataframe tbody tr th {\n",
       "        vertical-align: top;\n",
       "    }\n",
       "\n",
       "    .dataframe thead th {\n",
       "        text-align: right;\n",
       "    }\n",
       "</style>\n",
       "<table border=\"1\" class=\"dataframe\">\n",
       "  <thead>\n",
       "    <tr style=\"text-align: right;\">\n",
       "      <th></th>\n",
       "      <th>label</th>\n",
       "      <th>area</th>\n",
       "      <th>mean_intensity</th>\n",
       "      <th>radius</th>\n",
       "      <th>intensity_area</th>\n",
       "    </tr>\n",
       "  </thead>\n",
       "  <tbody>\n",
       "    <tr>\n",
       "      <th>count</th>\n",
       "      <td>11.000000</td>\n",
       "      <td>11.000000</td>\n",
       "      <td>11.000000</td>\n",
       "      <td>11.000000</td>\n",
       "      <td>11.000000</td>\n",
       "    </tr>\n",
       "    <tr>\n",
       "      <th>mean</th>\n",
       "      <td>6.818182</td>\n",
       "      <td>17970.000000</td>\n",
       "      <td>50.977129</td>\n",
       "      <td>74.023088</td>\n",
       "      <td>0.003185</td>\n",
       "    </tr>\n",
       "    <tr>\n",
       "      <th>std</th>\n",
       "      <td>3.600505</td>\n",
       "      <td>7309.810203</td>\n",
       "      <td>9.583545</td>\n",
       "      <td>16.268751</td>\n",
       "      <td>0.000976</td>\n",
       "    </tr>\n",
       "    <tr>\n",
       "      <th>min</th>\n",
       "      <td>1.000000</td>\n",
       "      <td>5629.000000</td>\n",
       "      <td>28.214070</td>\n",
       "      <td>42.329261</td>\n",
       "      <td>0.001875</td>\n",
       "    </tr>\n",
       "    <tr>\n",
       "      <th>25%</th>\n",
       "      <td>4.500000</td>\n",
       "      <td>14021.000000</td>\n",
       "      <td>47.111341</td>\n",
       "      <td>66.759035</td>\n",
       "      <td>0.002355</td>\n",
       "    </tr>\n",
       "    <tr>\n",
       "      <th>50%</th>\n",
       "      <td>7.000000</td>\n",
       "      <td>16176.000000</td>\n",
       "      <td>53.126078</td>\n",
       "      <td>71.756398</td>\n",
       "      <td>0.003308</td>\n",
       "    </tr>\n",
       "    <tr>\n",
       "      <th>75%</th>\n",
       "      <td>9.500000</td>\n",
       "      <td>23507.500000</td>\n",
       "      <td>56.806474</td>\n",
       "      <td>86.367223</td>\n",
       "      <td>0.003462</td>\n",
       "    </tr>\n",
       "    <tr>\n",
       "      <th>max</th>\n",
       "      <td>12.000000</td>\n",
       "      <td>28071.000000</td>\n",
       "      <td>60.941442</td>\n",
       "      <td>94.526593</td>\n",
       "      <td>0.005012</td>\n",
       "    </tr>\n",
       "  </tbody>\n",
       "</table>\n",
       "</div>"
      ],
      "text/plain": [
       "           label          area  mean_intensity     radius  intensity_area\n",
       "count  11.000000     11.000000       11.000000  11.000000       11.000000\n",
       "mean    6.818182  17970.000000       50.977129  74.023088        0.003185\n",
       "std     3.600505   7309.810203        9.583545  16.268751        0.000976\n",
       "min     1.000000   5629.000000       28.214070  42.329261        0.001875\n",
       "25%     4.500000  14021.000000       47.111341  66.759035        0.002355\n",
       "50%     7.000000  16176.000000       53.126078  71.756398        0.003308\n",
       "75%     9.500000  23507.500000       56.806474  86.367223        0.003462\n",
       "max    12.000000  28071.000000       60.941442  94.526593        0.005012"
      ]
     },
     "execution_count": 12,
     "metadata": {},
     "output_type": "execute_result"
    }
   ],
   "source": [
    "nuclei.describe()"
   ]
  },
  {
   "cell_type": "markdown",
   "metadata": {
    "id": "611XOtz_6kJp"
   },
   "source": [
    "## Exercise\n",
    "\n",
    "1. Import the penguin dataset https://raw.githubusercontent.com/allisonhorst/palmerpenguins/master/inst/extdata/penguins.csv\n",
    "2. Create a new columns called ```body_mass_kg``` by transforming the ```body_mass_g``` column into kilograms.\n",
    "3. Create a new column containiing the division the ```bill_length_mm``` by the ```bill_depth_mm``` column\n",
    "4. Calculate the median value of the ```body_mass_g``` column both by using a Numpy function and by using the method attached to the column. What do you observe? Can you infer what the problem is?"
   ]
  },
  {
   "cell_type": "code",
   "execution_count": null,
   "metadata": {},
   "outputs": [],
   "source": []
  }
 ],
 "metadata": {
  "colab": {
   "authorship_tag": "ABX9TyOW6mzLgtxOfld0ibM0SUYj",
   "collapsed_sections": [],
   "name": "07-Operate_on_DataFrames.ipynb",
   "provenance": [],
   "toc_visible": true
  },
  "kernelspec": {
   "display_name": "Python 3 (ipykernel)",
   "language": "python",
   "name": "python3"
  },
  "language_info": {
   "codemirror_mode": {
    "name": "ipython",
    "version": 3
   },
   "file_extension": ".py",
   "mimetype": "text/x-python",
   "name": "python",
   "nbconvert_exporter": "python",
   "pygments_lexer": "ipython3",
   "version": "3.9.13"
  }
 },
 "nbformat": 4,
 "nbformat_minor": 4
}
