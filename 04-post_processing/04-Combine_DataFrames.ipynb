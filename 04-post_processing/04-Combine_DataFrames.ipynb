{
 "cells": [
  {
   "cell_type": "markdown",
   "metadata": {
    "id": "kjwMVdVbkr0P"
   },
   "source": [
    "# Combining and grouping DataFrames"
   ]
  },
  {
   "cell_type": "code",
   "execution_count": 1,
   "metadata": {
    "id": "2mM-peDakr0T"
   },
   "outputs": [],
   "source": [
    "import numpy as np\n",
    "import pandas as pd"
   ]
  },
  {
   "cell_type": "markdown",
   "metadata": {
    "id": "jAUEMdaLkr0U"
   },
   "source": [
    "Two of the most important operations one can do with DataFrames is 1) combine multiple sources of information and 2) efficiently group and summarize information. Both of these topics are vast and here again, we ony present a few important approaches."
   ]
  },
  {
   "cell_type": "markdown",
   "metadata": {
    "id": "co9Kh2lakr0U"
   },
   "source": [
    "## Concatenation\n",
    "\n",
    "The simplest case where we need to combine multiple sources of information is if those sources are of the same \"type\", i.e. they have the same columns but different entries. This is exactly the situation we have from our analysis: lots of CSV files with similar contents. In that case we can just \"glue\" or concatenate them. Let's load two of them:"
   ]
  },
  {
   "cell_type": "code",
   "execution_count": 2,
   "metadata": {
    "colab": {
     "base_uri": "https://localhost:8080/",
     "height": 204
    },
    "executionInfo": {
     "elapsed": 1548,
     "status": "ok",
     "timestamp": 1614355561199,
     "user": {
      "displayName": "Guillaume Witz",
      "photoUrl": "https://lh3.googleusercontent.com/a-/AOh14GgT0K2JVYzEsjzsS5nhkUVjUrSIJ5jHzXnBoYrmVf8=s64",
      "userId": "16033870147214403532"
     },
     "user_tz": -60
    },
    "id": "wnMcwQe7kr0U",
    "outputId": "5e3b58ad-7265-4b5f-b5e1-fe1391f55763"
   },
   "outputs": [
    {
     "data": {
      "text/html": [
       "<div>\n",
       "<style scoped>\n",
       "    .dataframe tbody tr th:only-of-type {\n",
       "        vertical-align: middle;\n",
       "    }\n",
       "\n",
       "    .dataframe tbody tr th {\n",
       "        vertical-align: top;\n",
       "    }\n",
       "\n",
       "    .dataframe thead th {\n",
       "        text-align: right;\n",
       "    }\n",
       "</style>\n",
       "<table border=\"1\" class=\"dataframe\">\n",
       "  <thead>\n",
       "    <tr style=\"text-align: right;\">\n",
       "      <th></th>\n",
       "      <th>label</th>\n",
       "      <th>area</th>\n",
       "      <th>mean_intensity</th>\n",
       "    </tr>\n",
       "  </thead>\n",
       "  <tbody>\n",
       "    <tr>\n",
       "      <th>0</th>\n",
       "      <td>1</td>\n",
       "      <td>5629</td>\n",
       "      <td>28.214070</td>\n",
       "    </tr>\n",
       "    <tr>\n",
       "      <th>1</th>\n",
       "      <td>2</td>\n",
       "      <td>9904</td>\n",
       "      <td>44.429826</td>\n",
       "    </tr>\n",
       "    <tr>\n",
       "      <th>2</th>\n",
       "      <td>4</td>\n",
       "      <td>15070</td>\n",
       "      <td>53.126078</td>\n",
       "    </tr>\n",
       "    <tr>\n",
       "      <th>3</th>\n",
       "      <td>5</td>\n",
       "      <td>20884</td>\n",
       "      <td>49.792856</td>\n",
       "    </tr>\n",
       "  </tbody>\n",
       "</table>\n",
       "</div>"
      ],
      "text/plain": [
       "   label   area  mean_intensity\n",
       "0      1   5629       28.214070\n",
       "1      2   9904       44.429826\n",
       "2      4  15070       53.126078\n",
       "3      5  20884       49.792856"
      ]
     },
     "execution_count": 2,
     "metadata": {},
     "output_type": "execute_result"
    }
   ],
   "source": [
    "nuclei1 = pd.read_csv('../exports/19838_1252_F8_1_in.csv')\n",
    "nuclei1.head(4)"
   ]
  },
  {
   "cell_type": "code",
   "execution_count": 3,
   "metadata": {
    "colab": {
     "base_uri": "https://localhost:8080/",
     "height": 235
    },
    "executionInfo": {
     "elapsed": 1571,
     "status": "ok",
     "timestamp": 1614355561687,
     "user": {
      "displayName": "Guillaume Witz",
      "photoUrl": "https://lh3.googleusercontent.com/a-/AOh14GgT0K2JVYzEsjzsS5nhkUVjUrSIJ5jHzXnBoYrmVf8=s64",
      "userId": "16033870147214403532"
     },
     "user_tz": -60
    },
    "id": "NOUxMkx4kr0V",
    "outputId": "8b06afc5-6ce7-4903-e393-56a3dd8a17de"
   },
   "outputs": [
    {
     "data": {
      "text/html": [
       "<div>\n",
       "<style scoped>\n",
       "    .dataframe tbody tr th:only-of-type {\n",
       "        vertical-align: middle;\n",
       "    }\n",
       "\n",
       "    .dataframe tbody tr th {\n",
       "        vertical-align: top;\n",
       "    }\n",
       "\n",
       "    .dataframe thead th {\n",
       "        text-align: right;\n",
       "    }\n",
       "</style>\n",
       "<table border=\"1\" class=\"dataframe\">\n",
       "  <thead>\n",
       "    <tr style=\"text-align: right;\">\n",
       "      <th></th>\n",
       "      <th>label</th>\n",
       "      <th>area</th>\n",
       "      <th>mean_intensity</th>\n",
       "    </tr>\n",
       "  </thead>\n",
       "  <tbody>\n",
       "    <tr>\n",
       "      <th>0</th>\n",
       "      <td>1</td>\n",
       "      <td>35241</td>\n",
       "      <td>59.340342</td>\n",
       "    </tr>\n",
       "    <tr>\n",
       "      <th>1</th>\n",
       "      <td>2</td>\n",
       "      <td>29807</td>\n",
       "      <td>59.633610</td>\n",
       "    </tr>\n",
       "    <tr>\n",
       "      <th>2</th>\n",
       "      <td>3</td>\n",
       "      <td>32710</td>\n",
       "      <td>55.387435</td>\n",
       "    </tr>\n",
       "    <tr>\n",
       "      <th>3</th>\n",
       "      <td>4</td>\n",
       "      <td>33727</td>\n",
       "      <td>76.543956</td>\n",
       "    </tr>\n",
       "  </tbody>\n",
       "</table>\n",
       "</div>"
      ],
      "text/plain": [
       "   label   area  mean_intensity\n",
       "0      1  35241       59.340342\n",
       "1      2  29807       59.633610\n",
       "2      3  32710       55.387435\n",
       "3      4  33727       76.543956"
      ]
     },
     "execution_count": 3,
     "metadata": {},
     "output_type": "execute_result"
    }
   ],
   "source": [
    "nuclei2 = pd.read_csv('../exports/24138_196_F7_2_in.csv')\n",
    "nuclei2.head(4)"
   ]
  },
  {
   "cell_type": "markdown",
   "metadata": {
    "id": "zag-3SYukr0W"
   },
   "source": [
    "As both tables have the same columns, we can concatenate them:"
   ]
  },
  {
   "cell_type": "code",
   "execution_count": 4,
   "metadata": {
    "id": "kDoMbe-ekr0W"
   },
   "outputs": [],
   "source": [
    "all_nuclei = pd.concat([nuclei1,nuclei2])"
   ]
  },
  {
   "cell_type": "code",
   "execution_count": 5,
   "metadata": {
    "colab": {
     "base_uri": "https://localhost:8080/",
     "height": 359
    },
    "executionInfo": {
     "elapsed": 2141,
     "status": "ok",
     "timestamp": 1614355623399,
     "user": {
      "displayName": "Guillaume Witz",
      "photoUrl": "https://lh3.googleusercontent.com/a-/AOh14GgT0K2JVYzEsjzsS5nhkUVjUrSIJ5jHzXnBoYrmVf8=s64",
      "userId": "16033870147214403532"
     },
     "user_tz": -60
    },
    "id": "dhr9Mnqkkr0W",
    "outputId": "b3563973-9c41-4755-acbc-fa9c19e4b421"
   },
   "outputs": [
    {
     "data": {
      "text/html": [
       "<div>\n",
       "<style scoped>\n",
       "    .dataframe tbody tr th:only-of-type {\n",
       "        vertical-align: middle;\n",
       "    }\n",
       "\n",
       "    .dataframe tbody tr th {\n",
       "        vertical-align: top;\n",
       "    }\n",
       "\n",
       "    .dataframe thead th {\n",
       "        text-align: right;\n",
       "    }\n",
       "</style>\n",
       "<table border=\"1\" class=\"dataframe\">\n",
       "  <thead>\n",
       "    <tr style=\"text-align: right;\">\n",
       "      <th></th>\n",
       "      <th>label</th>\n",
       "      <th>area</th>\n",
       "      <th>mean_intensity</th>\n",
       "    </tr>\n",
       "  </thead>\n",
       "  <tbody>\n",
       "    <tr>\n",
       "      <th>0</th>\n",
       "      <td>1</td>\n",
       "      <td>5629</td>\n",
       "      <td>28.214070</td>\n",
       "    </tr>\n",
       "    <tr>\n",
       "      <th>1</th>\n",
       "      <td>2</td>\n",
       "      <td>9904</td>\n",
       "      <td>44.429826</td>\n",
       "    </tr>\n",
       "    <tr>\n",
       "      <th>2</th>\n",
       "      <td>4</td>\n",
       "      <td>15070</td>\n",
       "      <td>53.126078</td>\n",
       "    </tr>\n",
       "    <tr>\n",
       "      <th>3</th>\n",
       "      <td>5</td>\n",
       "      <td>20884</td>\n",
       "      <td>49.792856</td>\n",
       "    </tr>\n",
       "    <tr>\n",
       "      <th>4</th>\n",
       "      <td>6</td>\n",
       "      <td>12972</td>\n",
       "      <td>42.911116</td>\n",
       "    </tr>\n",
       "    <tr>\n",
       "      <th>5</th>\n",
       "      <td>7</td>\n",
       "      <td>16068</td>\n",
       "      <td>54.610904</td>\n",
       "    </tr>\n",
       "    <tr>\n",
       "      <th>6</th>\n",
       "      <td>8</td>\n",
       "      <td>27912</td>\n",
       "      <td>52.343007</td>\n",
       "    </tr>\n",
       "    <tr>\n",
       "      <th>7</th>\n",
       "      <td>9</td>\n",
       "      <td>26131</td>\n",
       "      <td>60.766178</td>\n",
       "    </tr>\n",
       "    <tr>\n",
       "      <th>8</th>\n",
       "      <td>10</td>\n",
       "      <td>28071</td>\n",
       "      <td>58.830430</td>\n",
       "    </tr>\n",
       "    <tr>\n",
       "      <th>9</th>\n",
       "      <td>11</td>\n",
       "      <td>16176</td>\n",
       "      <td>54.782517</td>\n",
       "    </tr>\n",
       "    <tr>\n",
       "      <th>10</th>\n",
       "      <td>12</td>\n",
       "      <td>18853</td>\n",
       "      <td>60.941442</td>\n",
       "    </tr>\n",
       "    <tr>\n",
       "      <th>0</th>\n",
       "      <td>1</td>\n",
       "      <td>35241</td>\n",
       "      <td>59.340342</td>\n",
       "    </tr>\n",
       "    <tr>\n",
       "      <th>1</th>\n",
       "      <td>2</td>\n",
       "      <td>29807</td>\n",
       "      <td>59.633610</td>\n",
       "    </tr>\n",
       "    <tr>\n",
       "      <th>2</th>\n",
       "      <td>3</td>\n",
       "      <td>32710</td>\n",
       "      <td>55.387435</td>\n",
       "    </tr>\n",
       "    <tr>\n",
       "      <th>3</th>\n",
       "      <td>4</td>\n",
       "      <td>33727</td>\n",
       "      <td>76.543956</td>\n",
       "    </tr>\n",
       "    <tr>\n",
       "      <th>4</th>\n",
       "      <td>5</td>\n",
       "      <td>33037</td>\n",
       "      <td>42.127039</td>\n",
       "    </tr>\n",
       "    <tr>\n",
       "      <th>5</th>\n",
       "      <td>7</td>\n",
       "      <td>58307</td>\n",
       "      <td>51.932821</td>\n",
       "    </tr>\n",
       "    <tr>\n",
       "      <th>6</th>\n",
       "      <td>8</td>\n",
       "      <td>58881</td>\n",
       "      <td>91.035512</td>\n",
       "    </tr>\n",
       "    <tr>\n",
       "      <th>7</th>\n",
       "      <td>10</td>\n",
       "      <td>75652</td>\n",
       "      <td>63.531090</td>\n",
       "    </tr>\n",
       "    <tr>\n",
       "      <th>8</th>\n",
       "      <td>11</td>\n",
       "      <td>7362</td>\n",
       "      <td>33.135425</td>\n",
       "    </tr>\n",
       "    <tr>\n",
       "      <th>9</th>\n",
       "      <td>12</td>\n",
       "      <td>29706</td>\n",
       "      <td>46.018380</td>\n",
       "    </tr>\n",
       "    <tr>\n",
       "      <th>10</th>\n",
       "      <td>13</td>\n",
       "      <td>54736</td>\n",
       "      <td>56.191611</td>\n",
       "    </tr>\n",
       "    <tr>\n",
       "      <th>11</th>\n",
       "      <td>15</td>\n",
       "      <td>35</td>\n",
       "      <td>20.485714</td>\n",
       "    </tr>\n",
       "    <tr>\n",
       "      <th>12</th>\n",
       "      <td>16</td>\n",
       "      <td>56122</td>\n",
       "      <td>46.533231</td>\n",
       "    </tr>\n",
       "  </tbody>\n",
       "</table>\n",
       "</div>"
      ],
      "text/plain": [
       "    label   area  mean_intensity\n",
       "0       1   5629       28.214070\n",
       "1       2   9904       44.429826\n",
       "2       4  15070       53.126078\n",
       "3       5  20884       49.792856\n",
       "4       6  12972       42.911116\n",
       "5       7  16068       54.610904\n",
       "6       8  27912       52.343007\n",
       "7       9  26131       60.766178\n",
       "8      10  28071       58.830430\n",
       "9      11  16176       54.782517\n",
       "10     12  18853       60.941442\n",
       "0       1  35241       59.340342\n",
       "1       2  29807       59.633610\n",
       "2       3  32710       55.387435\n",
       "3       4  33727       76.543956\n",
       "4       5  33037       42.127039\n",
       "5       7  58307       51.932821\n",
       "6       8  58881       91.035512\n",
       "7      10  75652       63.531090\n",
       "8      11   7362       33.135425\n",
       "9      12  29706       46.018380\n",
       "10     13  54736       56.191611\n",
       "11     15     35       20.485714\n",
       "12     16  56122       46.533231"
      ]
     },
     "execution_count": 5,
     "metadata": {},
     "output_type": "execute_result"
    }
   ],
   "source": [
    "all_nuclei"
   ]
  },
  {
   "cell_type": "markdown",
   "metadata": {
    "id": "RCNQd-DTkr0Y"
   },
   "source": [
    "## Joining two tables"
   ]
  },
  {
   "cell_type": "markdown",
   "metadata": {
    "id": "qHbJD2FWkr0Y"
   },
   "source": [
    "A slightly more complex case is if we have two datasets with (almost) the same items, in our case nuclei ids, but with different information that we want to combine. This is exactly our situations with the two tables corresponding to intensities inside the nuclei and on their borders. We want for each nucleus (characterized by a label) to have the mean intensity both inside and on the border.\n",
    "\n",
    "Here we import the pair of tables corresponding to one image and rename the intensity columns for clarity:"
   ]
  },
  {
   "cell_type": "code",
   "execution_count": 6,
   "metadata": {
    "colab": {
     "base_uri": "https://localhost:8080/",
     "height": 204
    },
    "executionInfo": {
     "elapsed": 535,
     "status": "ok",
     "timestamp": 1614355658781,
     "user": {
      "displayName": "Guillaume Witz",
      "photoUrl": "https://lh3.googleusercontent.com/a-/AOh14GgT0K2JVYzEsjzsS5nhkUVjUrSIJ5jHzXnBoYrmVf8=s64",
      "userId": "16033870147214403532"
     },
     "user_tz": -60
    },
    "id": "lKODXCAOkr0Y",
    "outputId": "a46530b4-d3ff-409e-c06d-5bd3821ef354"
   },
   "outputs": [
    {
     "data": {
      "text/html": [
       "<div>\n",
       "<style scoped>\n",
       "    .dataframe tbody tr th:only-of-type {\n",
       "        vertical-align: middle;\n",
       "    }\n",
       "\n",
       "    .dataframe tbody tr th {\n",
       "        vertical-align: top;\n",
       "    }\n",
       "\n",
       "    .dataframe thead th {\n",
       "        text-align: right;\n",
       "    }\n",
       "</style>\n",
       "<table border=\"1\" class=\"dataframe\">\n",
       "  <thead>\n",
       "    <tr style=\"text-align: right;\">\n",
       "      <th></th>\n",
       "      <th>label</th>\n",
       "      <th>area</th>\n",
       "      <th>intensity_in</th>\n",
       "    </tr>\n",
       "  </thead>\n",
       "  <tbody>\n",
       "    <tr>\n",
       "      <th>0</th>\n",
       "      <td>1</td>\n",
       "      <td>5629</td>\n",
       "      <td>28.214070</td>\n",
       "    </tr>\n",
       "    <tr>\n",
       "      <th>1</th>\n",
       "      <td>2</td>\n",
       "      <td>9904</td>\n",
       "      <td>44.429826</td>\n",
       "    </tr>\n",
       "    <tr>\n",
       "      <th>2</th>\n",
       "      <td>4</td>\n",
       "      <td>15070</td>\n",
       "      <td>53.126078</td>\n",
       "    </tr>\n",
       "    <tr>\n",
       "      <th>3</th>\n",
       "      <td>5</td>\n",
       "      <td>20884</td>\n",
       "      <td>49.792856</td>\n",
       "    </tr>\n",
       "  </tbody>\n",
       "</table>\n",
       "</div>"
      ],
      "text/plain": [
       "   label   area  intensity_in\n",
       "0      1   5629     28.214070\n",
       "1      2   9904     44.429826\n",
       "2      4  15070     53.126078\n",
       "3      5  20884     49.792856"
      ]
     },
     "execution_count": 6,
     "metadata": {},
     "output_type": "execute_result"
    }
   ],
   "source": [
    "nuclei1 = pd.read_csv('../exports/19838_1252_F8_1_in.csv')\n",
    "nuclei1.rename(columns={'mean_intensity': 'intensity_in'}, inplace=True)\n",
    "nuclei1.head(4)"
   ]
  },
  {
   "cell_type": "code",
   "execution_count": 7,
   "metadata": {
    "colab": {
     "base_uri": "https://localhost:8080/",
     "height": 204
    },
    "executionInfo": {
     "elapsed": 529,
     "status": "ok",
     "timestamp": 1614355660084,
     "user": {
      "displayName": "Guillaume Witz",
      "photoUrl": "https://lh3.googleusercontent.com/a-/AOh14GgT0K2JVYzEsjzsS5nhkUVjUrSIJ5jHzXnBoYrmVf8=s64",
      "userId": "16033870147214403532"
     },
     "user_tz": -60
    },
    "id": "vnbi4f3Pkr0Y",
    "outputId": "58ed7870-59e9-4db1-9960-b694d9aa5560"
   },
   "outputs": [
    {
     "data": {
      "text/html": [
       "<div>\n",
       "<style scoped>\n",
       "    .dataframe tbody tr th:only-of-type {\n",
       "        vertical-align: middle;\n",
       "    }\n",
       "\n",
       "    .dataframe tbody tr th {\n",
       "        vertical-align: top;\n",
       "    }\n",
       "\n",
       "    .dataframe thead th {\n",
       "        text-align: right;\n",
       "    }\n",
       "</style>\n",
       "<table border=\"1\" class=\"dataframe\">\n",
       "  <thead>\n",
       "    <tr style=\"text-align: right;\">\n",
       "      <th></th>\n",
       "      <th>label</th>\n",
       "      <th>area</th>\n",
       "      <th>intensity_out</th>\n",
       "    </tr>\n",
       "  </thead>\n",
       "  <tbody>\n",
       "    <tr>\n",
       "      <th>0</th>\n",
       "      <td>1</td>\n",
       "      <td>3675</td>\n",
       "      <td>19.604354</td>\n",
       "    </tr>\n",
       "    <tr>\n",
       "      <th>1</th>\n",
       "      <td>2</td>\n",
       "      <td>4484</td>\n",
       "      <td>27.112400</td>\n",
       "    </tr>\n",
       "    <tr>\n",
       "      <th>2</th>\n",
       "      <td>3</td>\n",
       "      <td>52</td>\n",
       "      <td>31.884615</td>\n",
       "    </tr>\n",
       "    <tr>\n",
       "      <th>3</th>\n",
       "      <td>4</td>\n",
       "      <td>5746</td>\n",
       "      <td>31.962931</td>\n",
       "    </tr>\n",
       "  </tbody>\n",
       "</table>\n",
       "</div>"
      ],
      "text/plain": [
       "   label  area  intensity_out\n",
       "0      1  3675      19.604354\n",
       "1      2  4484      27.112400\n",
       "2      3    52      31.884615\n",
       "3      4  5746      31.962931"
      ]
     },
     "execution_count": 7,
     "metadata": {},
     "output_type": "execute_result"
    }
   ],
   "source": [
    "nuclei2 = pd.read_csv('../exports/19838_1252_F8_1_out.csv')\n",
    "nuclei2.rename(columns={'mean_intensity': 'intensity_out'}, inplace=True)\n",
    "nuclei2.head(4)"
   ]
  },
  {
   "cell_type": "markdown",
   "metadata": {
    "id": "RcxqfLPwkr0Y"
   },
   "source": [
    "Note that not all labels appear in both tables. As we used erosion to create a band around nuclei, small nuclei just disappeared in the process. Hence in the \"in\" data we are for example missing the label ```3```. We see in the \"out\" table that this corresponded to a tiny nucleus.\n",
    "\n",
    "If we consider the statement: **merge table A and table B** with table A being on the left and B on the right, we have the four possibilities illustrated below:\n",
    "- **left**: keep elements that appear in both A and B or only in A but not those only appearing in B\n",
    "- **right**: keep elements that appear in both A and B or only in B but not those only appearing in A\n",
    "- **inner**: keep elements that appear in both A and B\n",
    "- **outer**: keep all elements"
   ]
  },
  {
   "cell_type": "code",
   "execution_count": 8,
   "metadata": {
    "colab": {
     "base_uri": "https://localhost:8080/",
     "height": 516
    },
    "executionInfo": {
     "elapsed": 581,
     "status": "ok",
     "timestamp": 1614531167787,
     "user": {
      "displayName": "Guillaume Witz",
      "photoUrl": "https://lh3.googleusercontent.com/a-/AOh14GgT0K2JVYzEsjzsS5nhkUVjUrSIJ5jHzXnBoYrmVf8=s64",
      "userId": "16033870147214403532"
     },
     "user_tz": -60
    },
    "id": "zDe-n9GXjiG3",
    "outputId": "98f43869-5ad1-4409-e824-39d8c73b3d89"
   },
   "outputs": [
    {
     "data": {
      "text/html": [
       "<img src=\"https://github.com/guiwitz/ISDAwPython_day2/raw/master/images/left_right.jpeg\" width=\"700\"/>"
      ],
      "text/plain": [
       "<IPython.core.display.Image object>"
      ]
     },
     "execution_count": 8,
     "metadata": {},
     "output_type": "execute_result"
    }
   ],
   "source": [
    "from IPython.display import Image\n",
    "Image(url='https://github.com/guiwitz/ISDAwPython_day2/raw/master/images/left_right.jpeg',width=700)"
   ]
  },
  {
   "cell_type": "markdown",
   "metadata": {
    "id": "4gcWC82rkr0c"
   },
   "source": [
    "## ```merge``` function\n",
    "\n",
    "To achieve this joining of two tables, we use the ```pd.merge```function. The merge function needs the following information:\n",
    "- two DataFrames to merge: ```nuclei1``` and ``` nuclei2```\n",
    "- an indication of which columns to take as reference, i.e. which columns indicate which nucleus is which. In our case it is ```label``` but it could be a differently named column in each table\n",
    "- what type of merging is desired (left, inner etc.)\n",
    "\n",
    "Let's test this in ```inner``` mode:"
   ]
  },
  {
   "cell_type": "code",
   "execution_count": 9,
   "metadata": {
    "colab": {
     "base_uri": "https://localhost:8080/",
     "height": 204
    },
    "executionInfo": {
     "elapsed": 481,
     "status": "ok",
     "timestamp": 1614355762515,
     "user": {
      "displayName": "Guillaume Witz",
      "photoUrl": "https://lh3.googleusercontent.com/a-/AOh14GgT0K2JVYzEsjzsS5nhkUVjUrSIJ5jHzXnBoYrmVf8=s64",
      "userId": "16033870147214403532"
     },
     "user_tz": -60
    },
    "id": "2-_TN1rGkr0d",
    "outputId": "df150c99-b0b3-49c7-e356-8bd076513c8e"
   },
   "outputs": [
    {
     "data": {
      "text/html": [
       "<div>\n",
       "<style scoped>\n",
       "    .dataframe tbody tr th:only-of-type {\n",
       "        vertical-align: middle;\n",
       "    }\n",
       "\n",
       "    .dataframe tbody tr th {\n",
       "        vertical-align: top;\n",
       "    }\n",
       "\n",
       "    .dataframe thead th {\n",
       "        text-align: right;\n",
       "    }\n",
       "</style>\n",
       "<table border=\"1\" class=\"dataframe\">\n",
       "  <thead>\n",
       "    <tr style=\"text-align: right;\">\n",
       "      <th></th>\n",
       "      <th>label</th>\n",
       "      <th>area_x</th>\n",
       "      <th>intensity_in</th>\n",
       "      <th>area_y</th>\n",
       "      <th>intensity_out</th>\n",
       "    </tr>\n",
       "  </thead>\n",
       "  <tbody>\n",
       "    <tr>\n",
       "      <th>0</th>\n",
       "      <td>1</td>\n",
       "      <td>5629</td>\n",
       "      <td>28.214070</td>\n",
       "      <td>3675</td>\n",
       "      <td>19.604354</td>\n",
       "    </tr>\n",
       "    <tr>\n",
       "      <th>1</th>\n",
       "      <td>2</td>\n",
       "      <td>9904</td>\n",
       "      <td>44.429826</td>\n",
       "      <td>4484</td>\n",
       "      <td>27.112400</td>\n",
       "    </tr>\n",
       "    <tr>\n",
       "      <th>2</th>\n",
       "      <td>4</td>\n",
       "      <td>15070</td>\n",
       "      <td>53.126078</td>\n",
       "      <td>5746</td>\n",
       "      <td>31.962931</td>\n",
       "    </tr>\n",
       "    <tr>\n",
       "      <th>3</th>\n",
       "      <td>5</td>\n",
       "      <td>20884</td>\n",
       "      <td>49.792856</td>\n",
       "      <td>7425</td>\n",
       "      <td>31.777778</td>\n",
       "    </tr>\n",
       "    <tr>\n",
       "      <th>4</th>\n",
       "      <td>6</td>\n",
       "      <td>12972</td>\n",
       "      <td>42.911116</td>\n",
       "      <td>3176</td>\n",
       "      <td>28.912154</td>\n",
       "    </tr>\n",
       "    <tr>\n",
       "      <th>5</th>\n",
       "      <td>7</td>\n",
       "      <td>16068</td>\n",
       "      <td>54.610904</td>\n",
       "      <td>5261</td>\n",
       "      <td>38.035925</td>\n",
       "    </tr>\n",
       "    <tr>\n",
       "      <th>6</th>\n",
       "      <td>8</td>\n",
       "      <td>27912</td>\n",
       "      <td>52.343007</td>\n",
       "      <td>6906</td>\n",
       "      <td>37.743412</td>\n",
       "    </tr>\n",
       "    <tr>\n",
       "      <th>7</th>\n",
       "      <td>9</td>\n",
       "      <td>26131</td>\n",
       "      <td>60.766178</td>\n",
       "      <td>6183</td>\n",
       "      <td>44.668769</td>\n",
       "    </tr>\n",
       "    <tr>\n",
       "      <th>8</th>\n",
       "      <td>10</td>\n",
       "      <td>28071</td>\n",
       "      <td>58.830430</td>\n",
       "      <td>6505</td>\n",
       "      <td>41.293928</td>\n",
       "    </tr>\n",
       "    <tr>\n",
       "      <th>9</th>\n",
       "      <td>11</td>\n",
       "      <td>16176</td>\n",
       "      <td>54.782517</td>\n",
       "      <td>6131</td>\n",
       "      <td>26.763986</td>\n",
       "    </tr>\n",
       "    <tr>\n",
       "      <th>10</th>\n",
       "      <td>12</td>\n",
       "      <td>18853</td>\n",
       "      <td>60.941442</td>\n",
       "      <td>5290</td>\n",
       "      <td>38.313422</td>\n",
       "    </tr>\n",
       "  </tbody>\n",
       "</table>\n",
       "</div>"
      ],
      "text/plain": [
       "    label  area_x  intensity_in  area_y  intensity_out\n",
       "0       1    5629     28.214070    3675      19.604354\n",
       "1       2    9904     44.429826    4484      27.112400\n",
       "2       4   15070     53.126078    5746      31.962931\n",
       "3       5   20884     49.792856    7425      31.777778\n",
       "4       6   12972     42.911116    3176      28.912154\n",
       "5       7   16068     54.610904    5261      38.035925\n",
       "6       8   27912     52.343007    6906      37.743412\n",
       "7       9   26131     60.766178    6183      44.668769\n",
       "8      10   28071     58.830430    6505      41.293928\n",
       "9      11   16176     54.782517    6131      26.763986\n",
       "10     12   18853     60.941442    5290      38.313422"
      ]
     },
     "execution_count": 9,
     "metadata": {},
     "output_type": "execute_result"
    }
   ],
   "source": [
    "pd.merge(\n",
    "    left=nuclei1,\n",
    "    right=nuclei2,\n",
    "    left_on='label',\n",
    "    right_on='label',\n",
    "    how='inner')"
   ]
  },
  {
   "cell_type": "markdown",
   "metadata": {
    "id": "paXowyLGzBeE"
   },
   "source": [
    "We see above that all the information has been merged. In cases where we have twice the same column name, e.g. ```area```, Pandas automatically renames the columns, here in ```area_x``` and ```area_y```.\n",
    "\n",
    "We could also have said that we want to keep all data, including those with incomplete information:"
   ]
  },
  {
   "cell_type": "code",
   "execution_count": 10,
   "metadata": {},
   "outputs": [
    {
     "data": {
      "text/html": [
       "<div>\n",
       "<style scoped>\n",
       "    .dataframe tbody tr th:only-of-type {\n",
       "        vertical-align: middle;\n",
       "    }\n",
       "\n",
       "    .dataframe tbody tr th {\n",
       "        vertical-align: top;\n",
       "    }\n",
       "\n",
       "    .dataframe thead th {\n",
       "        text-align: right;\n",
       "    }\n",
       "</style>\n",
       "<table border=\"1\" class=\"dataframe\">\n",
       "  <thead>\n",
       "    <tr style=\"text-align: right;\">\n",
       "      <th></th>\n",
       "      <th>label</th>\n",
       "      <th>area_x</th>\n",
       "      <th>intensity_in</th>\n",
       "      <th>area_y</th>\n",
       "      <th>intensity_out</th>\n",
       "    </tr>\n",
       "  </thead>\n",
       "  <tbody>\n",
       "    <tr>\n",
       "      <th>0</th>\n",
       "      <td>1</td>\n",
       "      <td>5629.0</td>\n",
       "      <td>28.214070</td>\n",
       "      <td>3675</td>\n",
       "      <td>19.604354</td>\n",
       "    </tr>\n",
       "    <tr>\n",
       "      <th>1</th>\n",
       "      <td>2</td>\n",
       "      <td>9904.0</td>\n",
       "      <td>44.429826</td>\n",
       "      <td>4484</td>\n",
       "      <td>27.112400</td>\n",
       "    </tr>\n",
       "    <tr>\n",
       "      <th>2</th>\n",
       "      <td>4</td>\n",
       "      <td>15070.0</td>\n",
       "      <td>53.126078</td>\n",
       "      <td>5746</td>\n",
       "      <td>31.962931</td>\n",
       "    </tr>\n",
       "    <tr>\n",
       "      <th>3</th>\n",
       "      <td>5</td>\n",
       "      <td>20884.0</td>\n",
       "      <td>49.792856</td>\n",
       "      <td>7425</td>\n",
       "      <td>31.777778</td>\n",
       "    </tr>\n",
       "    <tr>\n",
       "      <th>4</th>\n",
       "      <td>6</td>\n",
       "      <td>12972.0</td>\n",
       "      <td>42.911116</td>\n",
       "      <td>3176</td>\n",
       "      <td>28.912154</td>\n",
       "    </tr>\n",
       "    <tr>\n",
       "      <th>5</th>\n",
       "      <td>7</td>\n",
       "      <td>16068.0</td>\n",
       "      <td>54.610904</td>\n",
       "      <td>5261</td>\n",
       "      <td>38.035925</td>\n",
       "    </tr>\n",
       "    <tr>\n",
       "      <th>6</th>\n",
       "      <td>8</td>\n",
       "      <td>27912.0</td>\n",
       "      <td>52.343007</td>\n",
       "      <td>6906</td>\n",
       "      <td>37.743412</td>\n",
       "    </tr>\n",
       "    <tr>\n",
       "      <th>7</th>\n",
       "      <td>9</td>\n",
       "      <td>26131.0</td>\n",
       "      <td>60.766178</td>\n",
       "      <td>6183</td>\n",
       "      <td>44.668769</td>\n",
       "    </tr>\n",
       "    <tr>\n",
       "      <th>8</th>\n",
       "      <td>10</td>\n",
       "      <td>28071.0</td>\n",
       "      <td>58.830430</td>\n",
       "      <td>6505</td>\n",
       "      <td>41.293928</td>\n",
       "    </tr>\n",
       "    <tr>\n",
       "      <th>9</th>\n",
       "      <td>11</td>\n",
       "      <td>16176.0</td>\n",
       "      <td>54.782517</td>\n",
       "      <td>6131</td>\n",
       "      <td>26.763986</td>\n",
       "    </tr>\n",
       "    <tr>\n",
       "      <th>10</th>\n",
       "      <td>12</td>\n",
       "      <td>18853.0</td>\n",
       "      <td>60.941442</td>\n",
       "      <td>5290</td>\n",
       "      <td>38.313422</td>\n",
       "    </tr>\n",
       "    <tr>\n",
       "      <th>11</th>\n",
       "      <td>3</td>\n",
       "      <td>NaN</td>\n",
       "      <td>NaN</td>\n",
       "      <td>52</td>\n",
       "      <td>31.884615</td>\n",
       "    </tr>\n",
       "  </tbody>\n",
       "</table>\n",
       "</div>"
      ],
      "text/plain": [
       "    label   area_x  intensity_in  area_y  intensity_out\n",
       "0       1   5629.0     28.214070    3675      19.604354\n",
       "1       2   9904.0     44.429826    4484      27.112400\n",
       "2       4  15070.0     53.126078    5746      31.962931\n",
       "3       5  20884.0     49.792856    7425      31.777778\n",
       "4       6  12972.0     42.911116    3176      28.912154\n",
       "5       7  16068.0     54.610904    5261      38.035925\n",
       "6       8  27912.0     52.343007    6906      37.743412\n",
       "7       9  26131.0     60.766178    6183      44.668769\n",
       "8      10  28071.0     58.830430    6505      41.293928\n",
       "9      11  16176.0     54.782517    6131      26.763986\n",
       "10     12  18853.0     60.941442    5290      38.313422\n",
       "11      3      NaN           NaN      52      31.884615"
      ]
     },
     "execution_count": 10,
     "metadata": {},
     "output_type": "execute_result"
    }
   ],
   "source": [
    "pd.merge(\n",
    "    left=nuclei1,\n",
    "    right=nuclei2,\n",
    "    left_on='label',\n",
    "    right_on='label',\n",
    "    how='outer')"
   ]
  },
  {
   "cell_type": "markdown",
   "metadata": {},
   "source": [
    "We see that we recovered the label ```3``` but of course the information about nuclei inside is missing and replaced with ```NaN``` values."
   ]
  },
  {
   "cell_type": "markdown",
   "metadata": {
    "id": "8Sld_Uwk_2Pc"
   },
   "source": [
    "## Grouping\n",
    "\n",
    "Very often when you want to calculate some statistics on a dataset you need to group some of the data. For example we can imagine that we just concatenated the tables corresponding to nuclei inside and border, just taking care of adding a column specifying the type of info:"
   ]
  },
  {
   "cell_type": "code",
   "execution_count": 11,
   "metadata": {},
   "outputs": [],
   "source": [
    "nuclei1 = pd.read_csv('../exports/19838_1252_F8_1_in.csv')\n",
    "nuclei2 = pd.read_csv('../exports/19838_1252_F8_1_out.csv')\n",
    "\n",
    "nuclei1['image_type'] = 'in'\n",
    "nuclei2['image_type'] = 'out'\n",
    "\n",
    "all_nuclei = pd.concat([nuclei1, nuclei2])"
   ]
  },
  {
   "cell_type": "code",
   "execution_count": 12,
   "metadata": {},
   "outputs": [
    {
     "data": {
      "text/html": [
       "<div>\n",
       "<style scoped>\n",
       "    .dataframe tbody tr th:only-of-type {\n",
       "        vertical-align: middle;\n",
       "    }\n",
       "\n",
       "    .dataframe tbody tr th {\n",
       "        vertical-align: top;\n",
       "    }\n",
       "\n",
       "    .dataframe thead th {\n",
       "        text-align: right;\n",
       "    }\n",
       "</style>\n",
       "<table border=\"1\" class=\"dataframe\">\n",
       "  <thead>\n",
       "    <tr style=\"text-align: right;\">\n",
       "      <th></th>\n",
       "      <th>label</th>\n",
       "      <th>area</th>\n",
       "      <th>mean_intensity</th>\n",
       "      <th>image_type</th>\n",
       "    </tr>\n",
       "  </thead>\n",
       "  <tbody>\n",
       "    <tr>\n",
       "      <th>0</th>\n",
       "      <td>1</td>\n",
       "      <td>5629</td>\n",
       "      <td>28.214070</td>\n",
       "      <td>in</td>\n",
       "    </tr>\n",
       "    <tr>\n",
       "      <th>1</th>\n",
       "      <td>2</td>\n",
       "      <td>9904</td>\n",
       "      <td>44.429826</td>\n",
       "      <td>in</td>\n",
       "    </tr>\n",
       "    <tr>\n",
       "      <th>2</th>\n",
       "      <td>4</td>\n",
       "      <td>15070</td>\n",
       "      <td>53.126078</td>\n",
       "      <td>in</td>\n",
       "    </tr>\n",
       "    <tr>\n",
       "      <th>3</th>\n",
       "      <td>5</td>\n",
       "      <td>20884</td>\n",
       "      <td>49.792856</td>\n",
       "      <td>in</td>\n",
       "    </tr>\n",
       "  </tbody>\n",
       "</table>\n",
       "</div>"
      ],
      "text/plain": [
       "   label   area  mean_intensity image_type\n",
       "0      1   5629       28.214070         in\n",
       "1      2   9904       44.429826         in\n",
       "2      4  15070       53.126078         in\n",
       "3      5  20884       49.792856         in"
      ]
     },
     "execution_count": 12,
     "metadata": {},
     "output_type": "execute_result"
    }
   ],
   "source": [
    "nuclei1.head(4)"
   ]
  },
  {
   "cell_type": "code",
   "execution_count": 13,
   "metadata": {},
   "outputs": [
    {
     "data": {
      "text/html": [
       "<div>\n",
       "<style scoped>\n",
       "    .dataframe tbody tr th:only-of-type {\n",
       "        vertical-align: middle;\n",
       "    }\n",
       "\n",
       "    .dataframe tbody tr th {\n",
       "        vertical-align: top;\n",
       "    }\n",
       "\n",
       "    .dataframe thead th {\n",
       "        text-align: right;\n",
       "    }\n",
       "</style>\n",
       "<table border=\"1\" class=\"dataframe\">\n",
       "  <thead>\n",
       "    <tr style=\"text-align: right;\">\n",
       "      <th></th>\n",
       "      <th>label</th>\n",
       "      <th>area</th>\n",
       "      <th>mean_intensity</th>\n",
       "      <th>image_type</th>\n",
       "    </tr>\n",
       "  </thead>\n",
       "  <tbody>\n",
       "    <tr>\n",
       "      <th>0</th>\n",
       "      <td>1</td>\n",
       "      <td>3675</td>\n",
       "      <td>19.604354</td>\n",
       "      <td>out</td>\n",
       "    </tr>\n",
       "    <tr>\n",
       "      <th>1</th>\n",
       "      <td>2</td>\n",
       "      <td>4484</td>\n",
       "      <td>27.112400</td>\n",
       "      <td>out</td>\n",
       "    </tr>\n",
       "    <tr>\n",
       "      <th>2</th>\n",
       "      <td>3</td>\n",
       "      <td>52</td>\n",
       "      <td>31.884615</td>\n",
       "      <td>out</td>\n",
       "    </tr>\n",
       "    <tr>\n",
       "      <th>3</th>\n",
       "      <td>4</td>\n",
       "      <td>5746</td>\n",
       "      <td>31.962931</td>\n",
       "      <td>out</td>\n",
       "    </tr>\n",
       "  </tbody>\n",
       "</table>\n",
       "</div>"
      ],
      "text/plain": [
       "   label  area  mean_intensity image_type\n",
       "0      1  3675       19.604354        out\n",
       "1      2  4484       27.112400        out\n",
       "2      3    52       31.884615        out\n",
       "3      4  5746       31.962931        out"
      ]
     },
     "execution_count": 13,
     "metadata": {},
     "output_type": "execute_result"
    }
   ],
   "source": [
    "nuclei2.head(4)"
   ]
  },
  {
   "cell_type": "code",
   "execution_count": 14,
   "metadata": {},
   "outputs": [
    {
     "data": {
      "text/html": [
       "<div>\n",
       "<style scoped>\n",
       "    .dataframe tbody tr th:only-of-type {\n",
       "        vertical-align: middle;\n",
       "    }\n",
       "\n",
       "    .dataframe tbody tr th {\n",
       "        vertical-align: top;\n",
       "    }\n",
       "\n",
       "    .dataframe thead th {\n",
       "        text-align: right;\n",
       "    }\n",
       "</style>\n",
       "<table border=\"1\" class=\"dataframe\">\n",
       "  <thead>\n",
       "    <tr style=\"text-align: right;\">\n",
       "      <th></th>\n",
       "      <th>label</th>\n",
       "      <th>area</th>\n",
       "      <th>mean_intensity</th>\n",
       "      <th>image_type</th>\n",
       "    </tr>\n",
       "  </thead>\n",
       "  <tbody>\n",
       "    <tr>\n",
       "      <th>0</th>\n",
       "      <td>1</td>\n",
       "      <td>5629</td>\n",
       "      <td>28.214070</td>\n",
       "      <td>in</td>\n",
       "    </tr>\n",
       "    <tr>\n",
       "      <th>1</th>\n",
       "      <td>2</td>\n",
       "      <td>9904</td>\n",
       "      <td>44.429826</td>\n",
       "      <td>in</td>\n",
       "    </tr>\n",
       "    <tr>\n",
       "      <th>2</th>\n",
       "      <td>4</td>\n",
       "      <td>15070</td>\n",
       "      <td>53.126078</td>\n",
       "      <td>in</td>\n",
       "    </tr>\n",
       "    <tr>\n",
       "      <th>3</th>\n",
       "      <td>5</td>\n",
       "      <td>20884</td>\n",
       "      <td>49.792856</td>\n",
       "      <td>in</td>\n",
       "    </tr>\n",
       "    <tr>\n",
       "      <th>4</th>\n",
       "      <td>6</td>\n",
       "      <td>12972</td>\n",
       "      <td>42.911116</td>\n",
       "      <td>in</td>\n",
       "    </tr>\n",
       "    <tr>\n",
       "      <th>5</th>\n",
       "      <td>7</td>\n",
       "      <td>16068</td>\n",
       "      <td>54.610904</td>\n",
       "      <td>in</td>\n",
       "    </tr>\n",
       "    <tr>\n",
       "      <th>6</th>\n",
       "      <td>8</td>\n",
       "      <td>27912</td>\n",
       "      <td>52.343007</td>\n",
       "      <td>in</td>\n",
       "    </tr>\n",
       "    <tr>\n",
       "      <th>7</th>\n",
       "      <td>9</td>\n",
       "      <td>26131</td>\n",
       "      <td>60.766178</td>\n",
       "      <td>in</td>\n",
       "    </tr>\n",
       "    <tr>\n",
       "      <th>8</th>\n",
       "      <td>10</td>\n",
       "      <td>28071</td>\n",
       "      <td>58.830430</td>\n",
       "      <td>in</td>\n",
       "    </tr>\n",
       "    <tr>\n",
       "      <th>9</th>\n",
       "      <td>11</td>\n",
       "      <td>16176</td>\n",
       "      <td>54.782517</td>\n",
       "      <td>in</td>\n",
       "    </tr>\n",
       "    <tr>\n",
       "      <th>10</th>\n",
       "      <td>12</td>\n",
       "      <td>18853</td>\n",
       "      <td>60.941442</td>\n",
       "      <td>in</td>\n",
       "    </tr>\n",
       "    <tr>\n",
       "      <th>0</th>\n",
       "      <td>1</td>\n",
       "      <td>3675</td>\n",
       "      <td>19.604354</td>\n",
       "      <td>out</td>\n",
       "    </tr>\n",
       "    <tr>\n",
       "      <th>1</th>\n",
       "      <td>2</td>\n",
       "      <td>4484</td>\n",
       "      <td>27.112400</td>\n",
       "      <td>out</td>\n",
       "    </tr>\n",
       "    <tr>\n",
       "      <th>2</th>\n",
       "      <td>3</td>\n",
       "      <td>52</td>\n",
       "      <td>31.884615</td>\n",
       "      <td>out</td>\n",
       "    </tr>\n",
       "    <tr>\n",
       "      <th>3</th>\n",
       "      <td>4</td>\n",
       "      <td>5746</td>\n",
       "      <td>31.962931</td>\n",
       "      <td>out</td>\n",
       "    </tr>\n",
       "    <tr>\n",
       "      <th>4</th>\n",
       "      <td>5</td>\n",
       "      <td>7425</td>\n",
       "      <td>31.777778</td>\n",
       "      <td>out</td>\n",
       "    </tr>\n",
       "    <tr>\n",
       "      <th>5</th>\n",
       "      <td>6</td>\n",
       "      <td>3176</td>\n",
       "      <td>28.912154</td>\n",
       "      <td>out</td>\n",
       "    </tr>\n",
       "    <tr>\n",
       "      <th>6</th>\n",
       "      <td>7</td>\n",
       "      <td>5261</td>\n",
       "      <td>38.035925</td>\n",
       "      <td>out</td>\n",
       "    </tr>\n",
       "    <tr>\n",
       "      <th>7</th>\n",
       "      <td>8</td>\n",
       "      <td>6906</td>\n",
       "      <td>37.743412</td>\n",
       "      <td>out</td>\n",
       "    </tr>\n",
       "    <tr>\n",
       "      <th>8</th>\n",
       "      <td>9</td>\n",
       "      <td>6183</td>\n",
       "      <td>44.668769</td>\n",
       "      <td>out</td>\n",
       "    </tr>\n",
       "    <tr>\n",
       "      <th>9</th>\n",
       "      <td>10</td>\n",
       "      <td>6505</td>\n",
       "      <td>41.293928</td>\n",
       "      <td>out</td>\n",
       "    </tr>\n",
       "    <tr>\n",
       "      <th>10</th>\n",
       "      <td>11</td>\n",
       "      <td>6131</td>\n",
       "      <td>26.763986</td>\n",
       "      <td>out</td>\n",
       "    </tr>\n",
       "    <tr>\n",
       "      <th>11</th>\n",
       "      <td>12</td>\n",
       "      <td>5290</td>\n",
       "      <td>38.313422</td>\n",
       "      <td>out</td>\n",
       "    </tr>\n",
       "  </tbody>\n",
       "</table>\n",
       "</div>"
      ],
      "text/plain": [
       "    label   area  mean_intensity image_type\n",
       "0       1   5629       28.214070         in\n",
       "1       2   9904       44.429826         in\n",
       "2       4  15070       53.126078         in\n",
       "3       5  20884       49.792856         in\n",
       "4       6  12972       42.911116         in\n",
       "5       7  16068       54.610904         in\n",
       "6       8  27912       52.343007         in\n",
       "7       9  26131       60.766178         in\n",
       "8      10  28071       58.830430         in\n",
       "9      11  16176       54.782517         in\n",
       "10     12  18853       60.941442         in\n",
       "0       1   3675       19.604354        out\n",
       "1       2   4484       27.112400        out\n",
       "2       3     52       31.884615        out\n",
       "3       4   5746       31.962931        out\n",
       "4       5   7425       31.777778        out\n",
       "5       6   3176       28.912154        out\n",
       "6       7   5261       38.035925        out\n",
       "7       8   6906       37.743412        out\n",
       "8       9   6183       44.668769        out\n",
       "9      10   6505       41.293928        out\n",
       "10     11   6131       26.763986        out\n",
       "11     12   5290       38.313422        out"
      ]
     },
     "execution_count": 14,
     "metadata": {},
     "output_type": "execute_result"
    }
   ],
   "source": [
    "all_nuclei"
   ]
  },
  {
   "cell_type": "markdown",
   "metadata": {
    "id": "-IL1_PTCA4Hc"
   },
   "source": [
    "Now that we have this table (probably the result of a much larger concatenation), we would like to compute the overall mean intensity, but still split the data **by type**. We could of course manually select columns and compute averages e.g. :"
   ]
  },
  {
   "cell_type": "code",
   "execution_count": 15,
   "metadata": {},
   "outputs": [
    {
     "data": {
      "text/plain": [
       "50.977129452652825"
      ]
     },
     "execution_count": 15,
     "metadata": {},
     "output_type": "execute_result"
    }
   ],
   "source": [
    "all_nuclei[all_nuclei.image_type == 'in']['mean_intensity'].mean()"
   ]
  },
  {
   "cell_type": "markdown",
   "metadata": {},
   "source": [
    "However depending on data complexity this can quickly become unwidely.\n",
    "\n",
    "Instead we can use the ```groupy``` method. To use it we just have to specify which column we want to use for grouping and Pandas will find in there all possible values and then group all elements according to those values:"
   ]
  },
  {
   "cell_type": "code",
   "execution_count": 16,
   "metadata": {
    "id": "nL4XrwfHB3N2"
   },
   "outputs": [],
   "source": [
    "grouped_nuclei = all_nuclei.groupby('image_type')"
   ]
  },
  {
   "cell_type": "code",
   "execution_count": 17,
   "metadata": {
    "colab": {
     "base_uri": "https://localhost:8080/"
    },
    "executionInfo": {
     "elapsed": 470,
     "status": "ok",
     "timestamp": 1614455225637,
     "user": {
      "displayName": "Guillaume Witz",
      "photoUrl": "https://lh3.googleusercontent.com/a-/AOh14GgT0K2JVYzEsjzsS5nhkUVjUrSIJ5jHzXnBoYrmVf8=s64",
      "userId": "16033870147214403532"
     },
     "user_tz": -60
    },
    "id": "H2Zc_7LiB64Q",
    "outputId": "faa62d51-2830-45ab-f46c-2350a09269f1"
   },
   "outputs": [
    {
     "data": {
      "text/plain": [
       "<pandas.core.groupby.generic.DataFrameGroupBy object at 0x12a833190>"
      ]
     },
     "execution_count": 17,
     "metadata": {},
     "output_type": "execute_result"
    }
   ],
   "source": [
    "grouped_nuclei"
   ]
  },
  {
   "cell_type": "markdown",
   "metadata": {
    "id": "3WVHs0qmB79x"
   },
   "source": [
    "The output is not directly visible. It's a collection of tables grouped according to species. Many functions allow us to get one of these subgroups, e.g.:"
   ]
  },
  {
   "cell_type": "code",
   "execution_count": 18,
   "metadata": {
    "colab": {
     "base_uri": "https://localhost:8080/",
     "height": 419
    },
    "executionInfo": {
     "elapsed": 542,
     "status": "ok",
     "timestamp": 1614455280029,
     "user": {
      "displayName": "Guillaume Witz",
      "photoUrl": "https://lh3.googleusercontent.com/a-/AOh14GgT0K2JVYzEsjzsS5nhkUVjUrSIJ5jHzXnBoYrmVf8=s64",
      "userId": "16033870147214403532"
     },
     "user_tz": -60
    },
    "id": "dpOuhFV5CF8F",
    "outputId": "99d914c1-009b-4dd2-86e2-7bdc6d398646"
   },
   "outputs": [
    {
     "data": {
      "text/html": [
       "<div>\n",
       "<style scoped>\n",
       "    .dataframe tbody tr th:only-of-type {\n",
       "        vertical-align: middle;\n",
       "    }\n",
       "\n",
       "    .dataframe tbody tr th {\n",
       "        vertical-align: top;\n",
       "    }\n",
       "\n",
       "    .dataframe thead th {\n",
       "        text-align: right;\n",
       "    }\n",
       "</style>\n",
       "<table border=\"1\" class=\"dataframe\">\n",
       "  <thead>\n",
       "    <tr style=\"text-align: right;\">\n",
       "      <th></th>\n",
       "      <th>label</th>\n",
       "      <th>area</th>\n",
       "      <th>mean_intensity</th>\n",
       "      <th>image_type</th>\n",
       "    </tr>\n",
       "  </thead>\n",
       "  <tbody>\n",
       "    <tr>\n",
       "      <th>0</th>\n",
       "      <td>1</td>\n",
       "      <td>5629</td>\n",
       "      <td>28.214070</td>\n",
       "      <td>in</td>\n",
       "    </tr>\n",
       "    <tr>\n",
       "      <th>1</th>\n",
       "      <td>2</td>\n",
       "      <td>9904</td>\n",
       "      <td>44.429826</td>\n",
       "      <td>in</td>\n",
       "    </tr>\n",
       "    <tr>\n",
       "      <th>2</th>\n",
       "      <td>4</td>\n",
       "      <td>15070</td>\n",
       "      <td>53.126078</td>\n",
       "      <td>in</td>\n",
       "    </tr>\n",
       "    <tr>\n",
       "      <th>3</th>\n",
       "      <td>5</td>\n",
       "      <td>20884</td>\n",
       "      <td>49.792856</td>\n",
       "      <td>in</td>\n",
       "    </tr>\n",
       "    <tr>\n",
       "      <th>4</th>\n",
       "      <td>6</td>\n",
       "      <td>12972</td>\n",
       "      <td>42.911116</td>\n",
       "      <td>in</td>\n",
       "    </tr>\n",
       "    <tr>\n",
       "      <th>5</th>\n",
       "      <td>7</td>\n",
       "      <td>16068</td>\n",
       "      <td>54.610904</td>\n",
       "      <td>in</td>\n",
       "    </tr>\n",
       "    <tr>\n",
       "      <th>6</th>\n",
       "      <td>8</td>\n",
       "      <td>27912</td>\n",
       "      <td>52.343007</td>\n",
       "      <td>in</td>\n",
       "    </tr>\n",
       "    <tr>\n",
       "      <th>7</th>\n",
       "      <td>9</td>\n",
       "      <td>26131</td>\n",
       "      <td>60.766178</td>\n",
       "      <td>in</td>\n",
       "    </tr>\n",
       "    <tr>\n",
       "      <th>8</th>\n",
       "      <td>10</td>\n",
       "      <td>28071</td>\n",
       "      <td>58.830430</td>\n",
       "      <td>in</td>\n",
       "    </tr>\n",
       "    <tr>\n",
       "      <th>9</th>\n",
       "      <td>11</td>\n",
       "      <td>16176</td>\n",
       "      <td>54.782517</td>\n",
       "      <td>in</td>\n",
       "    </tr>\n",
       "    <tr>\n",
       "      <th>10</th>\n",
       "      <td>12</td>\n",
       "      <td>18853</td>\n",
       "      <td>60.941442</td>\n",
       "      <td>in</td>\n",
       "    </tr>\n",
       "  </tbody>\n",
       "</table>\n",
       "</div>"
      ],
      "text/plain": [
       "    label   area  mean_intensity image_type\n",
       "0       1   5629       28.214070         in\n",
       "1       2   9904       44.429826         in\n",
       "2       4  15070       53.126078         in\n",
       "3       5  20884       49.792856         in\n",
       "4       6  12972       42.911116         in\n",
       "5       7  16068       54.610904         in\n",
       "6       8  27912       52.343007         in\n",
       "7       9  26131       60.766178         in\n",
       "8      10  28071       58.830430         in\n",
       "9      11  16176       54.782517         in\n",
       "10     12  18853       60.941442         in"
      ]
     },
     "execution_count": 18,
     "metadata": {},
     "output_type": "execute_result"
    }
   ],
   "source": [
    "grouped_nuclei.get_group('in')"
   ]
  },
  {
   "cell_type": "markdown",
   "metadata": {
    "id": "Ao4wCb6eCJut"
   },
   "source": [
    "However we won't go here through the details of the group data structure. What we can simply do is magically apply functions directly on the grouped object. For example to get the mean:"
   ]
  },
  {
   "cell_type": "code",
   "execution_count": 19,
   "metadata": {
    "colab": {
     "base_uri": "https://localhost:8080/",
     "height": 173
    },
    "executionInfo": {
     "elapsed": 567,
     "status": "ok",
     "timestamp": 1614455346981,
     "user": {
      "displayName": "Guillaume Witz",
      "photoUrl": "https://lh3.googleusercontent.com/a-/AOh14GgT0K2JVYzEsjzsS5nhkUVjUrSIJ5jHzXnBoYrmVf8=s64",
      "userId": "16033870147214403532"
     },
     "user_tz": -60
    },
    "id": "2DYR5mgwCXkv",
    "outputId": "2647df41-d8f2-4793-9f7c-4bd32cf37bc5"
   },
   "outputs": [
    {
     "data": {
      "text/html": [
       "<div>\n",
       "<style scoped>\n",
       "    .dataframe tbody tr th:only-of-type {\n",
       "        vertical-align: middle;\n",
       "    }\n",
       "\n",
       "    .dataframe tbody tr th {\n",
       "        vertical-align: top;\n",
       "    }\n",
       "\n",
       "    .dataframe thead th {\n",
       "        text-align: right;\n",
       "    }\n",
       "</style>\n",
       "<table border=\"1\" class=\"dataframe\">\n",
       "  <thead>\n",
       "    <tr style=\"text-align: right;\">\n",
       "      <th></th>\n",
       "      <th>label</th>\n",
       "      <th>area</th>\n",
       "      <th>mean_intensity</th>\n",
       "    </tr>\n",
       "    <tr>\n",
       "      <th>image_type</th>\n",
       "      <th></th>\n",
       "      <th></th>\n",
       "      <th></th>\n",
       "    </tr>\n",
       "  </thead>\n",
       "  <tbody>\n",
       "    <tr>\n",
       "      <th>in</th>\n",
       "      <td>6.818182</td>\n",
       "      <td>17970.0</td>\n",
       "      <td>50.977129</td>\n",
       "    </tr>\n",
       "    <tr>\n",
       "      <th>out</th>\n",
       "      <td>6.500000</td>\n",
       "      <td>5069.5</td>\n",
       "      <td>33.172806</td>\n",
       "    </tr>\n",
       "  </tbody>\n",
       "</table>\n",
       "</div>"
      ],
      "text/plain": [
       "               label     area  mean_intensity\n",
       "image_type                                   \n",
       "in          6.818182  17970.0       50.977129\n",
       "out         6.500000   5069.5       33.172806"
      ]
     },
     "execution_count": 19,
     "metadata": {},
     "output_type": "execute_result"
    }
   ],
   "source": [
    "grouped_nuclei.mean()"
   ]
  },
  {
   "cell_type": "markdown",
   "metadata": {
    "id": "QU-8oVg-CZpG"
   },
   "source": [
    "As you can see Pandas automatically computes the mean for each category and each column. The output then is a DataFrame where each line corresponds to a given category. One can push this further by using e.g. multiple columns for grouping, but this goes beyond the present course."
   ]
  },
  {
   "cell_type": "markdown",
   "metadata": {
    "id": "H2ZRaOyyzYII"
   },
   "source": [
    "## Exercises\n",
    "\n",
    "1. Load a first DataFrame that contains information about covid19 vaccination locations: https://github.com/owid/covid-19-data/blob/master/public/data/vaccinations/locations.csv \n",
    "2. Load a second DataFrame which contains daily information about vaccination for every country: https://github.com/owid/covid-19-data/blob/master/public/data/vaccinations/vaccinations.csv\n",
    "3. Create a sub-dataframe of the table in (1) that only contains the fields ```location``` and ```vaccines```.\n",
    "4. Merge the two tables using the ```location``` field as key for merging. Use once ```left``` merge and once ```right``` marge.\n",
    "5. Do you see a difference in the result?\n",
    "6. Using the table from (1), group the data by ```location``` and calculate the average number of ```daily_vaccinations```"
   ]
  },
  {
   "cell_type": "code",
   "execution_count": null,
   "metadata": {
    "id": "II0smv8RPQTc"
   },
   "outputs": [],
   "source": []
  }
 ],
 "metadata": {
  "colab": {
   "collapsed_sections": [],
   "name": "09-Pandas_combine.ipynb",
   "provenance": [
    {
     "file_id": "https://github.com/guiwitz/NumpyPandas_course/blob/colab/10-DA_Pandas_combine.ipynb",
     "timestamp": 1614296569460
    }
   ],
   "toc_visible": true
  },
  "kernelspec": {
   "display_name": "Python 3 (ipykernel)",
   "language": "python",
   "name": "python3"
  },
  "language_info": {
   "codemirror_mode": {
    "name": "ipython",
    "version": 3
   },
   "file_extension": ".py",
   "mimetype": "text/x-python",
   "name": "python",
   "nbconvert_exporter": "python",
   "pygments_lexer": "ipython3",
   "version": "3.9.13"
  }
 },
 "nbformat": 4,
 "nbformat_minor": 4
}
