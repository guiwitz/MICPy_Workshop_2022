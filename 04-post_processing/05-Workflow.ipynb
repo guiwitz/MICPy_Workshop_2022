{
 "cells": [
  {
   "cell_type": "markdown",
   "id": "b499ec78-6e9a-4292-8832-297621426c55",
   "metadata": {},
   "source": [
    "# Workflow\n",
    "\n",
    "Let's try to integrate what we have learned into our workflow. First we need to merge the information from the \"in\" and \"out\" tables. However now we need to do it for more than one table, so first we need to recover pairs of tables.\n",
    "\n",
    "What we could do is simply recover the image file list and then reconstruct the pairs of in and out tables but it is a bit cumbersome. Instead we could just sort our list of exported files. Using the ```natsort``` package, this will give us a natural sorting, with pairs of \"in\" and \"out\" files appearing in succession, and the \"in\" always preceding the \"out\" file.\n",
    "\n",
    "Be careful: to employ this sort of \"smart\" approach, you need to be sure that your folder only contains exactly what you expect. If you want to be sure about what you actually do, just reconstruct the file names!"
   ]
  },
  {
   "cell_type": "code",
   "execution_count": 91,
   "id": "20f10e09-83cd-42ce-b553-7098adfd64e0",
   "metadata": {},
   "outputs": [],
   "source": [
    "from pathlib import Path\n",
    "import natsort\n",
    "import pandas as pd\n",
    "import numpy as np"
   ]
  },
  {
   "cell_type": "code",
   "execution_count": 92,
   "id": "670a3a3c-cb2a-4330-a8ce-71105f068f33",
   "metadata": {},
   "outputs": [],
   "source": [
    "export_dir = Path('../exports/')"
   ]
  },
  {
   "cell_type": "code",
   "execution_count": 93,
   "id": "36128c53-16ee-4f03-8029-9d9b099b44af",
   "metadata": {},
   "outputs": [
    {
     "data": {
      "text/plain": [
       "[PosixPath('../exports/27985_284_E10_2_out.csv'),\n",
       " PosixPath('../exports/36268_404_B8_2_in.csv'),\n",
       " PosixPath('../exports/47032_977_G4_4_out.csv'),\n",
       " PosixPath('../exports/8346_22_C1_1_out.csv'),\n",
       " PosixPath('../exports/27985_284_E10_2_in.csv'),\n",
       " PosixPath('../exports/60398_1596_E1_1_out.csv'),\n",
       " PosixPath('../exports/27897_273_C8_2_in.csv'),\n",
       " PosixPath('../exports/24138_196_F7_2_in.csv'),\n",
       " PosixPath('../exports/47549_736_E7_1_in.csv'),\n",
       " PosixPath('../exports/46658_784_B12_1_in.csv'),\n",
       " PosixPath('../exports/19838_1252_F8_1_in.csv'),\n",
       " PosixPath('../exports/46658_784_B12_1_out.csv'),\n",
       " PosixPath('../exports/36268_404_B8_2_out.csv'),\n",
       " PosixPath('../exports/67703_1283_D7_3_out.csv'),\n",
       " PosixPath('../exports/47549_736_E7_1_out.csv'),\n",
       " PosixPath('../exports/37367_517_E4_2_in.csv'),\n",
       " PosixPath('../exports/50546_727_A8_2_in.csv'),\n",
       " PosixPath('../exports/37367_517_E4_2_out.csv'),\n",
       " PosixPath('../exports/67703_1283_D7_3_in.csv'),\n",
       " PosixPath('../exports/64554_1164_A6_2_in.csv'),\n",
       " PosixPath('../exports/50546_727_A8_2_out.csv'),\n",
       " PosixPath('../exports/27897_273_C8_2_out.csv'),\n",
       " PosixPath('../exports/8346_22_C1_1_in.csv'),\n",
       " PosixPath('../exports/.ipynb_checkpoints'),\n",
       " PosixPath('../exports/24138_196_F7_2_out.csv'),\n",
       " PosixPath('../exports/60398_1596_E1_1_in.csv'),\n",
       " PosixPath('../exports/36268_407_B8_1_in.csv'),\n",
       " PosixPath('../exports/19838_1252_F8_1_out.csv'),\n",
       " PosixPath('../exports/36268_407_B8_1_out.csv'),\n",
       " PosixPath('../exports/64554_1164_A6_2_out.csv'),\n",
       " PosixPath('../exports/47032_977_G4_4_in.csv')]"
      ]
     },
     "execution_count": 93,
     "metadata": {},
     "output_type": "execute_result"
    }
   ],
   "source": [
    "export_list = list(export_dir.iterdir())\n",
    "export_list"
   ]
  },
  {
   "cell_type": "markdown",
   "id": "c401fe96-dbe6-448d-b9d2-f835d7d027d8",
   "metadata": {},
   "source": [
    "Note that in this list, we first have to exclude files that are not csv. We can do this using a comprehension list:"
   ]
  },
  {
   "cell_type": "code",
   "execution_count": 94,
   "id": "bddb2e52-7982-4a23-aef4-e58312263af9",
   "metadata": {},
   "outputs": [],
   "source": [
    "export_list = [f for f in export_list if f.suffix=='.csv']"
   ]
  },
  {
   "cell_type": "markdown",
   "id": "74095a77-9103-4fdd-80c7-2785246dd501",
   "metadata": {},
   "source": [
    "Now we can sort the list:"
   ]
  },
  {
   "cell_type": "code",
   "execution_count": 95,
   "id": "51d2f52a-6361-4476-b9e0-3b0a6cc100e7",
   "metadata": {},
   "outputs": [
    {
     "data": {
      "text/plain": [
       "[PosixPath('../exports/19838_1252_F8_1_in.csv'),\n",
       " PosixPath('../exports/19838_1252_F8_1_out.csv'),\n",
       " PosixPath('../exports/24138_196_F7_2_in.csv'),\n",
       " PosixPath('../exports/24138_196_F7_2_out.csv'),\n",
       " PosixPath('../exports/27897_273_C8_2_in.csv'),\n",
       " PosixPath('../exports/27897_273_C8_2_out.csv'),\n",
       " PosixPath('../exports/27985_284_E10_2_in.csv'),\n",
       " PosixPath('../exports/27985_284_E10_2_out.csv'),\n",
       " PosixPath('../exports/36268_404_B8_2_in.csv'),\n",
       " PosixPath('../exports/36268_404_B8_2_out.csv'),\n",
       " PosixPath('../exports/36268_407_B8_1_in.csv'),\n",
       " PosixPath('../exports/36268_407_B8_1_out.csv'),\n",
       " PosixPath('../exports/37367_517_E4_2_in.csv'),\n",
       " PosixPath('../exports/37367_517_E4_2_out.csv'),\n",
       " PosixPath('../exports/46658_784_B12_1_in.csv'),\n",
       " PosixPath('../exports/46658_784_B12_1_out.csv'),\n",
       " PosixPath('../exports/47032_977_G4_4_in.csv'),\n",
       " PosixPath('../exports/47032_977_G4_4_out.csv'),\n",
       " PosixPath('../exports/47549_736_E7_1_in.csv'),\n",
       " PosixPath('../exports/47549_736_E7_1_out.csv'),\n",
       " PosixPath('../exports/50546_727_A8_2_in.csv'),\n",
       " PosixPath('../exports/50546_727_A8_2_out.csv'),\n",
       " PosixPath('../exports/60398_1596_E1_1_in.csv'),\n",
       " PosixPath('../exports/60398_1596_E1_1_out.csv'),\n",
       " PosixPath('../exports/64554_1164_A6_2_in.csv'),\n",
       " PosixPath('../exports/64554_1164_A6_2_out.csv'),\n",
       " PosixPath('../exports/67703_1283_D7_3_in.csv'),\n",
       " PosixPath('../exports/67703_1283_D7_3_out.csv'),\n",
       " PosixPath('../exports/8346_22_C1_1_in.csv'),\n",
       " PosixPath('../exports/8346_22_C1_1_out.csv')]"
      ]
     },
     "execution_count": 95,
     "metadata": {},
     "output_type": "execute_result"
    }
   ],
   "source": [
    "export_list = natsort.natsorted(export_list)\n",
    "export_list"
   ]
  },
  {
   "cell_type": "markdown",
   "id": "c850129a-ca4f-447a-b721-522cd5fb1d51",
   "metadata": {},
   "source": [
    "And we have the expected result!"
   ]
  },
  {
   "cell_type": "markdown",
   "id": "cd524df6-f41f-4e9d-a333-02867710c202",
   "metadata": {},
   "source": [
    "## Merging information\n",
    "\n",
    "Now we can do what we did in the previous chapter: load pairs of files and merge them based on the nuclei label. For each pairs of file, we then keep the merged file by adding it to a list ```all_nuclei```. Note that we also keep the file name for reference and add it to each merged table:"
   ]
  },
  {
   "cell_type": "code",
   "execution_count": 96,
   "id": "3d3b1e55-0600-4aed-9e3d-95906e21c35d",
   "metadata": {},
   "outputs": [],
   "source": [
    "all_nuclei = []\n",
    "\n",
    "for i in np.arange(0, len(export_list), 2):\n",
    "    \n",
    "    # Note that we go through the list in steps of 2 and consider item i and i+1\n",
    "    m_in = pd.read_csv(export_list[i])\n",
    "    m_out = pd.read_csv(export_list[i+1])\n",
    "    \n",
    "    m_in.rename(columns={'mean_intensity': 'intensity_in'}, inplace=True)\n",
    "    m_out.rename(columns={'mean_intensity': 'intensity_out'}, inplace=True)\n",
    "    \n",
    "    nuclei_merged = pd.merge(m_in, m_out, left_on='label', right_on='label', how='inner')\n",
    "    \n",
    "    nuclei_merged['filename'] = export_list[i].stem[:-3]\n",
    "    all_nuclei.append(nuclei_merged)\n",
    "    \n",
    "    "
   ]
  },
  {
   "cell_type": "markdown",
   "id": "6e901b1f-ca07-4dc3-83d7-997297e9827d",
   "metadata": {},
   "source": [
    "Each table contains now the full information:"
   ]
  },
  {
   "cell_type": "code",
   "execution_count": 97,
   "id": "05feb854-8362-4ea2-afcd-acf36a568df2",
   "metadata": {},
   "outputs": [
    {
     "data": {
      "text/html": [
       "<div>\n",
       "<style scoped>\n",
       "    .dataframe tbody tr th:only-of-type {\n",
       "        vertical-align: middle;\n",
       "    }\n",
       "\n",
       "    .dataframe tbody tr th {\n",
       "        vertical-align: top;\n",
       "    }\n",
       "\n",
       "    .dataframe thead th {\n",
       "        text-align: right;\n",
       "    }\n",
       "</style>\n",
       "<table border=\"1\" class=\"dataframe\">\n",
       "  <thead>\n",
       "    <tr style=\"text-align: right;\">\n",
       "      <th></th>\n",
       "      <th>label</th>\n",
       "      <th>area_x</th>\n",
       "      <th>intensity_in</th>\n",
       "      <th>area_y</th>\n",
       "      <th>intensity_out</th>\n",
       "      <th>filename</th>\n",
       "    </tr>\n",
       "  </thead>\n",
       "  <tbody>\n",
       "    <tr>\n",
       "      <th>0</th>\n",
       "      <td>1</td>\n",
       "      <td>1825</td>\n",
       "      <td>68.316712</td>\n",
       "      <td>1422</td>\n",
       "      <td>83.139944</td>\n",
       "      <td>27985_284_E10_2</td>\n",
       "    </tr>\n",
       "    <tr>\n",
       "      <th>1</th>\n",
       "      <td>2</td>\n",
       "      <td>27037</td>\n",
       "      <td>70.833118</td>\n",
       "      <td>7267</td>\n",
       "      <td>97.986652</td>\n",
       "      <td>27985_284_E10_2</td>\n",
       "    </tr>\n",
       "    <tr>\n",
       "      <th>2</th>\n",
       "      <td>4</td>\n",
       "      <td>28622</td>\n",
       "      <td>83.477220</td>\n",
       "      <td>7947</td>\n",
       "      <td>116.728703</td>\n",
       "      <td>27985_284_E10_2</td>\n",
       "    </tr>\n",
       "    <tr>\n",
       "      <th>3</th>\n",
       "      <td>6</td>\n",
       "      <td>24360</td>\n",
       "      <td>82.304762</td>\n",
       "      <td>6906</td>\n",
       "      <td>85.909933</td>\n",
       "      <td>27985_284_E10_2</td>\n",
       "    </tr>\n",
       "    <tr>\n",
       "      <th>4</th>\n",
       "      <td>7</td>\n",
       "      <td>22152</td>\n",
       "      <td>62.761060</td>\n",
       "      <td>6659</td>\n",
       "      <td>121.024628</td>\n",
       "      <td>27985_284_E10_2</td>\n",
       "    </tr>\n",
       "    <tr>\n",
       "      <th>5</th>\n",
       "      <td>8</td>\n",
       "      <td>26914</td>\n",
       "      <td>64.734599</td>\n",
       "      <td>6440</td>\n",
       "      <td>104.703261</td>\n",
       "      <td>27985_284_E10_2</td>\n",
       "    </tr>\n",
       "    <tr>\n",
       "      <th>6</th>\n",
       "      <td>9</td>\n",
       "      <td>27695</td>\n",
       "      <td>94.999097</td>\n",
       "      <td>6894</td>\n",
       "      <td>124.507543</td>\n",
       "      <td>27985_284_E10_2</td>\n",
       "    </tr>\n",
       "    <tr>\n",
       "      <th>7</th>\n",
       "      <td>10</td>\n",
       "      <td>34584</td>\n",
       "      <td>72.123092</td>\n",
       "      <td>7076</td>\n",
       "      <td>119.900791</td>\n",
       "      <td>27985_284_E10_2</td>\n",
       "    </tr>\n",
       "    <tr>\n",
       "      <th>8</th>\n",
       "      <td>11</td>\n",
       "      <td>51719</td>\n",
       "      <td>69.111680</td>\n",
       "      <td>9116</td>\n",
       "      <td>82.538833</td>\n",
       "      <td>27985_284_E10_2</td>\n",
       "    </tr>\n",
       "    <tr>\n",
       "      <th>9</th>\n",
       "      <td>12</td>\n",
       "      <td>2303</td>\n",
       "      <td>79.700825</td>\n",
       "      <td>1499</td>\n",
       "      <td>87.525017</td>\n",
       "      <td>27985_284_E10_2</td>\n",
       "    </tr>\n",
       "  </tbody>\n",
       "</table>\n",
       "</div>"
      ],
      "text/plain": [
       "   label  area_x  intensity_in  area_y  intensity_out         filename\n",
       "0      1    1825     68.316712    1422      83.139944  27985_284_E10_2\n",
       "1      2   27037     70.833118    7267      97.986652  27985_284_E10_2\n",
       "2      4   28622     83.477220    7947     116.728703  27985_284_E10_2\n",
       "3      6   24360     82.304762    6906      85.909933  27985_284_E10_2\n",
       "4      7   22152     62.761060    6659     121.024628  27985_284_E10_2\n",
       "5      8   26914     64.734599    6440     104.703261  27985_284_E10_2\n",
       "6      9   27695     94.999097    6894     124.507543  27985_284_E10_2\n",
       "7     10   34584     72.123092    7076     119.900791  27985_284_E10_2\n",
       "8     11   51719     69.111680    9116      82.538833  27985_284_E10_2\n",
       "9     12    2303     79.700825    1499      87.525017  27985_284_E10_2"
      ]
     },
     "execution_count": 97,
     "metadata": {},
     "output_type": "execute_result"
    }
   ],
   "source": [
    "all_nuclei[3]"
   ]
  },
  {
   "cell_type": "markdown",
   "id": "58a89c9d-cf43-40a1-b189-eed7a679ed0b",
   "metadata": {},
   "source": [
    "## Merging tables\n",
    "\n",
    "We can now merge the tables into one large table by concatenation:"
   ]
  },
  {
   "cell_type": "code",
   "execution_count": 98,
   "id": "154bfc0c-a4b6-4afb-ad98-d5965d99eefe",
   "metadata": {},
   "outputs": [],
   "source": [
    "complete_nuclei = pd.concat(all_nuclei)"
   ]
  },
  {
   "cell_type": "code",
   "execution_count": 99,
   "id": "a2eb7ab8-253b-4c79-9972-235f05ef23a8",
   "metadata": {},
   "outputs": [
    {
     "data": {
      "text/html": [
       "<div>\n",
       "<style scoped>\n",
       "    .dataframe tbody tr th:only-of-type {\n",
       "        vertical-align: middle;\n",
       "    }\n",
       "\n",
       "    .dataframe tbody tr th {\n",
       "        vertical-align: top;\n",
       "    }\n",
       "\n",
       "    .dataframe thead th {\n",
       "        text-align: right;\n",
       "    }\n",
       "</style>\n",
       "<table border=\"1\" class=\"dataframe\">\n",
       "  <thead>\n",
       "    <tr style=\"text-align: right;\">\n",
       "      <th></th>\n",
       "      <th>label</th>\n",
       "      <th>area_x</th>\n",
       "      <th>intensity_in</th>\n",
       "      <th>area_y</th>\n",
       "      <th>intensity_out</th>\n",
       "      <th>filename</th>\n",
       "    </tr>\n",
       "  </thead>\n",
       "  <tbody>\n",
       "    <tr>\n",
       "      <th>0</th>\n",
       "      <td>1</td>\n",
       "      <td>5629</td>\n",
       "      <td>28.214070</td>\n",
       "      <td>3675</td>\n",
       "      <td>19.604354</td>\n",
       "      <td>19838_1252_F8_1</td>\n",
       "    </tr>\n",
       "    <tr>\n",
       "      <th>1</th>\n",
       "      <td>2</td>\n",
       "      <td>9904</td>\n",
       "      <td>44.429826</td>\n",
       "      <td>4484</td>\n",
       "      <td>27.112400</td>\n",
       "      <td>19838_1252_F8_1</td>\n",
       "    </tr>\n",
       "    <tr>\n",
       "      <th>2</th>\n",
       "      <td>4</td>\n",
       "      <td>15070</td>\n",
       "      <td>53.126078</td>\n",
       "      <td>5746</td>\n",
       "      <td>31.962931</td>\n",
       "      <td>19838_1252_F8_1</td>\n",
       "    </tr>\n",
       "    <tr>\n",
       "      <th>3</th>\n",
       "      <td>5</td>\n",
       "      <td>20884</td>\n",
       "      <td>49.792856</td>\n",
       "      <td>7425</td>\n",
       "      <td>31.777778</td>\n",
       "      <td>19838_1252_F8_1</td>\n",
       "    </tr>\n",
       "    <tr>\n",
       "      <th>4</th>\n",
       "      <td>6</td>\n",
       "      <td>12972</td>\n",
       "      <td>42.911116</td>\n",
       "      <td>3176</td>\n",
       "      <td>28.912154</td>\n",
       "      <td>19838_1252_F8_1</td>\n",
       "    </tr>\n",
       "  </tbody>\n",
       "</table>\n",
       "</div>"
      ],
      "text/plain": [
       "   label  area_x  intensity_in  area_y  intensity_out         filename\n",
       "0      1    5629     28.214070    3675      19.604354  19838_1252_F8_1\n",
       "1      2    9904     44.429826    4484      27.112400  19838_1252_F8_1\n",
       "2      4   15070     53.126078    5746      31.962931  19838_1252_F8_1\n",
       "3      5   20884     49.792856    7425      31.777778  19838_1252_F8_1\n",
       "4      6   12972     42.911116    3176      28.912154  19838_1252_F8_1"
      ]
     },
     "execution_count": 99,
     "metadata": {},
     "output_type": "execute_result"
    }
   ],
   "source": [
    "complete_nuclei.head(5)"
   ]
  },
  {
   "cell_type": "code",
   "execution_count": 100,
   "id": "9ac22f16-7a31-4c37-aabf-cf98d1d8eb1b",
   "metadata": {},
   "outputs": [
    {
     "data": {
      "text/plain": [
       "(260, 6)"
      ]
     },
     "execution_count": 100,
     "metadata": {},
     "output_type": "execute_result"
    }
   ],
   "source": [
    "complete_nuclei.shape"
   ]
  },
  {
   "cell_type": "markdown",
   "id": "8ba9d025-4232-4c05-98eb-8faa412d4542",
   "metadata": {},
   "source": [
    "We have in total 260 measured nuclei"
   ]
  },
  {
   "cell_type": "markdown",
   "id": "a0525e81-e1e2-4c24-b564-f7dee42081af",
   "metadata": {},
   "source": [
    "## Analysis\n",
    "\n",
    "We can finally perform the analysis we wanted to do initially: compare the signal inside the nuclei and on their border. For this we can simply create a new column that is the ration between the two intensities:"
   ]
  },
  {
   "cell_type": "code",
   "execution_count": 101,
   "id": "c8f39bbb-ed08-4d31-a86a-a28c03f6c82e",
   "metadata": {},
   "outputs": [],
   "source": [
    "complete_nuclei['ratio'] = complete_nuclei['intensity_out'] / complete_nuclei['intensity_in']\n"
   ]
  },
  {
   "cell_type": "markdown",
   "id": "a759491e-5a4a-401f-a593-68a969a2aed8",
   "metadata": {},
   "source": [
    "And finally we can plot a histogram to check whether we actually see two different populations:"
   ]
  },
  {
   "cell_type": "code",
   "execution_count": 102,
   "id": "dc7415f5-ef43-466c-8aa9-5186d6d64205",
   "metadata": {},
   "outputs": [
    {
     "data": {
      "image/png": "[encoded data removed]",
      "text/plain": [
       "<Figure size 432x288 with 1 Axes>"
      ]
     },
     "metadata": {
      "needs_background": "light"
     },
     "output_type": "display_data"
    }
   ],
   "source": [
    "import matplotlib.pyplot as plt\n",
    "\n",
    "plt.hist(complete_nuclei['ratio'], bins=np.arange(0,3,0.05));"
   ]
  },
  {
   "cell_type": "markdown",
   "id": "43c527e9-fdf5-4225-80de-f8e13fd459c2",
   "metadata": {},
   "source": [
    "It indeed looks like we have at least two groups of data: some centered around ~0.7 with a membrane depleted of proteins, and a groups above 1 with a stronger signal from the membrane."
   ]
  },
  {
   "cell_type": "markdown",
   "id": "35e2738f-0c32-44be-bdde-b77af0f071ad",
   "metadata": {},
   "source": [
    "## Refining\n",
    "\n",
    "We know that in each image we have one gene that is tagged. So if we were making a screen, we would like to know in each image if we have membrane enrichment or not. As in our table we have kept the filename, we can now again group by file and compute the mean:"
   ]
  },
  {
   "cell_type": "code",
   "execution_count": 103,
   "id": "3b86f87a-1069-4040-943c-8566d8040385",
   "metadata": {},
   "outputs": [],
   "source": [
    "nuclei_grouped = complete_nuclei.groupby('filename').mean().reset_index()"
   ]
  },
  {
   "cell_type": "code",
   "execution_count": 104,
   "id": "2dc3cf24-cbbc-4b4c-adac-d506a1bb9909",
   "metadata": {},
   "outputs": [
    {
     "data": {
      "image/png": "[encoded data removed]",
      "text/plain": [
       "<Figure size 432x288 with 1 Axes>"
      ]
     },
     "metadata": {
      "needs_background": "light"
     },
     "output_type": "display_data"
    }
   ],
   "source": [
    "plt.hist(nuclei_grouped['ratio'], bins=np.arange(0,3,0.1));"
   ]
  },
  {
   "cell_type": "markdown",
   "id": "820cee09-5d36-4be1-a7ea-7ff07bbde4b8",
   "metadata": {},
   "source": [
    "We have little data, so it's hard to give a definitive answer. However we definitely have two groups: above and below a ration of 1. \n",
    "\n",
    "As the data were taken from a databbase with known localization patterns, we can now actually check whether our analysis makes sense. In the ```categories.csv``` table we have the list of files and an indication about membrane enrichment or not. Let's load it:"
   ]
  },
  {
   "cell_type": "code",
   "execution_count": 105,
   "id": "4a33be57-9fdc-4fd2-bda8-3263f6112085",
   "metadata": {},
   "outputs": [],
   "source": [
    "categories = pd.read_csv('../data/cellaltlas/images/categories.csv')"
   ]
  },
  {
   "cell_type": "code",
   "execution_count": 106,
   "id": "ff9b7405-4d20-407c-9036-715e6f391ad4",
   "metadata": {},
   "outputs": [
    {
     "data": {
      "text/html": [
       "<div>\n",
       "<style scoped>\n",
       "    .dataframe tbody tr th:only-of-type {\n",
       "        vertical-align: middle;\n",
       "    }\n",
       "\n",
       "    .dataframe tbody tr th {\n",
       "        vertical-align: top;\n",
       "    }\n",
       "\n",
       "    .dataframe thead th {\n",
       "        text-align: right;\n",
       "    }\n",
       "</style>\n",
       "<table border=\"1\" class=\"dataframe\">\n",
       "  <thead>\n",
       "    <tr style=\"text-align: right;\">\n",
       "      <th></th>\n",
       "      <th>filename</th>\n",
       "      <th>in_membrane</th>\n",
       "    </tr>\n",
       "  </thead>\n",
       "  <tbody>\n",
       "    <tr>\n",
       "      <th>0</th>\n",
       "      <td>27985_284_E10_2</td>\n",
       "      <td>True</td>\n",
       "    </tr>\n",
       "    <tr>\n",
       "      <th>1</th>\n",
       "      <td>50546_727_A8_2</td>\n",
       "      <td>True</td>\n",
       "    </tr>\n",
       "    <tr>\n",
       "      <th>2</th>\n",
       "      <td>8346_22_C1_1</td>\n",
       "      <td>True</td>\n",
       "    </tr>\n",
       "    <tr>\n",
       "      <th>3</th>\n",
       "      <td>36268_407_B8_1</td>\n",
       "      <td>True</td>\n",
       "    </tr>\n",
       "    <tr>\n",
       "      <th>4</th>\n",
       "      <td>46658_784_B12_1</td>\n",
       "      <td>True</td>\n",
       "    </tr>\n",
       "    <tr>\n",
       "      <th>5</th>\n",
       "      <td>27897_273_C8_2</td>\n",
       "      <td>True</td>\n",
       "    </tr>\n",
       "    <tr>\n",
       "      <th>6</th>\n",
       "      <td>36268_404_B8_2</td>\n",
       "      <td>True</td>\n",
       "    </tr>\n",
       "    <tr>\n",
       "      <th>7</th>\n",
       "      <td>24138_196_F7_2</td>\n",
       "      <td>False</td>\n",
       "    </tr>\n",
       "    <tr>\n",
       "      <th>8</th>\n",
       "      <td>67703_1283_D7_3</td>\n",
       "      <td>False</td>\n",
       "    </tr>\n",
       "    <tr>\n",
       "      <th>9</th>\n",
       "      <td>47549_736_E7_1</td>\n",
       "      <td>False</td>\n",
       "    </tr>\n",
       "    <tr>\n",
       "      <th>10</th>\n",
       "      <td>19838_1252_F8_1</td>\n",
       "      <td>False</td>\n",
       "    </tr>\n",
       "    <tr>\n",
       "      <th>11</th>\n",
       "      <td>47032_977_G4_4</td>\n",
       "      <td>False</td>\n",
       "    </tr>\n",
       "    <tr>\n",
       "      <th>12</th>\n",
       "      <td>37367_517_E4_2</td>\n",
       "      <td>False</td>\n",
       "    </tr>\n",
       "    <tr>\n",
       "      <th>13</th>\n",
       "      <td>64554_1164_A6_2</td>\n",
       "      <td>False</td>\n",
       "    </tr>\n",
       "    <tr>\n",
       "      <th>14</th>\n",
       "      <td>60398_1596_E1_1</td>\n",
       "      <td>False</td>\n",
       "    </tr>\n",
       "  </tbody>\n",
       "</table>\n",
       "</div>"
      ],
      "text/plain": [
       "           filename  in_membrane\n",
       "0   27985_284_E10_2         True\n",
       "1    50546_727_A8_2         True\n",
       "2      8346_22_C1_1         True\n",
       "3    36268_407_B8_1         True\n",
       "4   46658_784_B12_1         True\n",
       "5    27897_273_C8_2         True\n",
       "6    36268_404_B8_2         True\n",
       "7    24138_196_F7_2        False\n",
       "8   67703_1283_D7_3        False\n",
       "9    47549_736_E7_1        False\n",
       "10  19838_1252_F8_1        False\n",
       "11   47032_977_G4_4        False\n",
       "12   37367_517_E4_2        False\n",
       "13  64554_1164_A6_2        False\n",
       "14  60398_1596_E1_1        False"
      ]
     },
     "execution_count": 106,
     "metadata": {},
     "output_type": "execute_result"
    }
   ],
   "source": [
    "categories"
   ]
  },
  {
   "cell_type": "markdown",
   "id": "2bd0b4af-f56c-4352-b161-c00e92cbaa15",
   "metadata": {},
   "source": [
    "What we could do now is to merge our table containing the information grouped by file with this categories table, so that we can then jointly plot ratio and category. For this we can just merge by filename: "
   ]
  },
  {
   "cell_type": "code",
   "execution_count": 107,
   "id": "b504a97a-ed67-4efd-931a-47627d2aa7de",
   "metadata": {},
   "outputs": [],
   "source": [
    "check_table = pd.merge(nuclei_grouped, categories, left_on='filename', right_on='filename', how='inner')"
   ]
  },
  {
   "cell_type": "code",
   "execution_count": 108,
   "id": "6810ca48-9950-42a5-bb59-4ac1260ad47b",
   "metadata": {},
   "outputs": [
    {
     "data": {
      "text/html": [
       "<div>\n",
       "<style scoped>\n",
       "    .dataframe tbody tr th:only-of-type {\n",
       "        vertical-align: middle;\n",
       "    }\n",
       "\n",
       "    .dataframe tbody tr th {\n",
       "        vertical-align: top;\n",
       "    }\n",
       "\n",
       "    .dataframe thead th {\n",
       "        text-align: right;\n",
       "    }\n",
       "</style>\n",
       "<table border=\"1\" class=\"dataframe\">\n",
       "  <thead>\n",
       "    <tr style=\"text-align: right;\">\n",
       "      <th></th>\n",
       "      <th>filename</th>\n",
       "      <th>label</th>\n",
       "      <th>area_x</th>\n",
       "      <th>intensity_in</th>\n",
       "      <th>area_y</th>\n",
       "      <th>intensity_out</th>\n",
       "      <th>ratio</th>\n",
       "      <th>in_membrane</th>\n",
       "    </tr>\n",
       "  </thead>\n",
       "  <tbody>\n",
       "    <tr>\n",
       "      <th>0</th>\n",
       "      <td>19838_1252_F8_1</td>\n",
       "      <td>6.818182</td>\n",
       "      <td>17970.000000</td>\n",
       "      <td>50.977129</td>\n",
       "      <td>5525.636364</td>\n",
       "      <td>33.289914</td>\n",
       "      <td>0.653682</td>\n",
       "      <td>False</td>\n",
       "    </tr>\n",
       "    <tr>\n",
       "      <th>1</th>\n",
       "      <td>24138_196_F7_2</td>\n",
       "      <td>8.230769</td>\n",
       "      <td>38871.000000</td>\n",
       "      <td>53.992013</td>\n",
       "      <td>7602.461538</td>\n",
       "      <td>35.793476</td>\n",
       "      <td>0.657093</td>\n",
       "      <td>False</td>\n",
       "    </tr>\n",
       "    <tr>\n",
       "      <th>2</th>\n",
       "      <td>27897_273_C8_2</td>\n",
       "      <td>8.533333</td>\n",
       "      <td>19331.733333</td>\n",
       "      <td>73.610369</td>\n",
       "      <td>5521.666667</td>\n",
       "      <td>130.154140</td>\n",
       "      <td>1.862260</td>\n",
       "      <td>True</td>\n",
       "    </tr>\n",
       "    <tr>\n",
       "      <th>3</th>\n",
       "      <td>27985_284_E10_2</td>\n",
       "      <td>7.000000</td>\n",
       "      <td>24721.100000</td>\n",
       "      <td>74.836217</td>\n",
       "      <td>6122.600000</td>\n",
       "      <td>102.396530</td>\n",
       "      <td>1.385374</td>\n",
       "      <td>True</td>\n",
       "    </tr>\n",
       "    <tr>\n",
       "      <th>4</th>\n",
       "      <td>36268_404_B8_2</td>\n",
       "      <td>18.105263</td>\n",
       "      <td>14001.526316</td>\n",
       "      <td>73.637664</td>\n",
       "      <td>4386.368421</td>\n",
       "      <td>97.624095</td>\n",
       "      <td>1.386626</td>\n",
       "      <td>True</td>\n",
       "    </tr>\n",
       "    <tr>\n",
       "      <th>5</th>\n",
       "      <td>36268_407_B8_1</td>\n",
       "      <td>8.800000</td>\n",
       "      <td>26137.000000</td>\n",
       "      <td>75.580201</td>\n",
       "      <td>7157.133333</td>\n",
       "      <td>88.954313</td>\n",
       "      <td>1.181667</td>\n",
       "      <td>True</td>\n",
       "    </tr>\n",
       "    <tr>\n",
       "      <th>6</th>\n",
       "      <td>37367_517_E4_2</td>\n",
       "      <td>10.944444</td>\n",
       "      <td>32703.444444</td>\n",
       "      <td>133.577465</td>\n",
       "      <td>6945.000000</td>\n",
       "      <td>110.737404</td>\n",
       "      <td>0.819614</td>\n",
       "      <td>False</td>\n",
       "    </tr>\n",
       "    <tr>\n",
       "      <th>7</th>\n",
       "      <td>46658_784_B12_1</td>\n",
       "      <td>10.000000</td>\n",
       "      <td>26201.588235</td>\n",
       "      <td>50.101048</td>\n",
       "      <td>5851.000000</td>\n",
       "      <td>93.081135</td>\n",
       "      <td>2.020318</td>\n",
       "      <td>True</td>\n",
       "    </tr>\n",
       "    <tr>\n",
       "      <th>8</th>\n",
       "      <td>47032_977_G4_4</td>\n",
       "      <td>15.916667</td>\n",
       "      <td>18639.750000</td>\n",
       "      <td>134.740352</td>\n",
       "      <td>5721.250000</td>\n",
       "      <td>77.947376</td>\n",
       "      <td>0.573521</td>\n",
       "      <td>False</td>\n",
       "    </tr>\n",
       "    <tr>\n",
       "      <th>9</th>\n",
       "      <td>47549_736_E7_1</td>\n",
       "      <td>11.052632</td>\n",
       "      <td>26338.157895</td>\n",
       "      <td>138.556700</td>\n",
       "      <td>5513.157895</td>\n",
       "      <td>100.344479</td>\n",
       "      <td>0.744908</td>\n",
       "      <td>False</td>\n",
       "    </tr>\n",
       "    <tr>\n",
       "      <th>10</th>\n",
       "      <td>50546_727_A8_2</td>\n",
       "      <td>20.823529</td>\n",
       "      <td>28262.823529</td>\n",
       "      <td>64.832071</td>\n",
       "      <td>7044.529412</td>\n",
       "      <td>78.884024</td>\n",
       "      <td>1.288297</td>\n",
       "      <td>True</td>\n",
       "    </tr>\n",
       "    <tr>\n",
       "      <th>11</th>\n",
       "      <td>60398_1596_E1_1</td>\n",
       "      <td>15.137931</td>\n",
       "      <td>29280.137931</td>\n",
       "      <td>50.027257</td>\n",
       "      <td>6505.586207</td>\n",
       "      <td>39.939530</td>\n",
       "      <td>0.801394</td>\n",
       "      <td>False</td>\n",
       "    </tr>\n",
       "    <tr>\n",
       "      <th>12</th>\n",
       "      <td>64554_1164_A6_2</td>\n",
       "      <td>11.500000</td>\n",
       "      <td>22661.818182</td>\n",
       "      <td>62.412821</td>\n",
       "      <td>5701.636364</td>\n",
       "      <td>26.602701</td>\n",
       "      <td>0.448884</td>\n",
       "      <td>False</td>\n",
       "    </tr>\n",
       "    <tr>\n",
       "      <th>13</th>\n",
       "      <td>67703_1283_D7_3</td>\n",
       "      <td>9.000000</td>\n",
       "      <td>26765.352941</td>\n",
       "      <td>28.310453</td>\n",
       "      <td>6660.705882</td>\n",
       "      <td>15.701851</td>\n",
       "      <td>0.566301</td>\n",
       "      <td>False</td>\n",
       "    </tr>\n",
       "    <tr>\n",
       "      <th>14</th>\n",
       "      <td>8346_22_C1_1</td>\n",
       "      <td>7.500000</td>\n",
       "      <td>13581.928571</td>\n",
       "      <td>85.029155</td>\n",
       "      <td>4361.928571</td>\n",
       "      <td>92.412320</td>\n",
       "      <td>1.093805</td>\n",
       "      <td>True</td>\n",
       "    </tr>\n",
       "  </tbody>\n",
       "</table>\n",
       "</div>"
      ],
      "text/plain": [
       "           filename      label        area_x  intensity_in       area_y  \\\n",
       "0   19838_1252_F8_1   6.818182  17970.000000     50.977129  5525.636364   \n",
       "1    24138_196_F7_2   8.230769  38871.000000     53.992013  7602.461538   \n",
       "2    27897_273_C8_2   8.533333  19331.733333     73.610369  5521.666667   \n",
       "3   27985_284_E10_2   7.000000  24721.100000     74.836217  6122.600000   \n",
       "4    36268_404_B8_2  18.105263  14001.526316     73.637664  4386.368421   \n",
       "5    36268_407_B8_1   8.800000  26137.000000     75.580201  7157.133333   \n",
       "6    37367_517_E4_2  10.944444  32703.444444    133.577465  6945.000000   \n",
       "7   46658_784_B12_1  10.000000  26201.588235     50.101048  5851.000000   \n",
       "8    47032_977_G4_4  15.916667  18639.750000    134.740352  5721.250000   \n",
       "9    47549_736_E7_1  11.052632  26338.157895    138.556700  5513.157895   \n",
       "10   50546_727_A8_2  20.823529  28262.823529     64.832071  7044.529412   \n",
       "11  60398_1596_E1_1  15.137931  29280.137931     50.027257  6505.586207   \n",
       "12  64554_1164_A6_2  11.500000  22661.818182     62.412821  5701.636364   \n",
       "13  67703_1283_D7_3   9.000000  26765.352941     28.310453  6660.705882   \n",
       "14     8346_22_C1_1   7.500000  13581.928571     85.029155  4361.928571   \n",
       "\n",
       "    intensity_out     ratio  in_membrane  \n",
       "0       33.289914  0.653682        False  \n",
       "1       35.793476  0.657093        False  \n",
       "2      130.154140  1.862260         True  \n",
       "3      102.396530  1.385374         True  \n",
       "4       97.624095  1.386626         True  \n",
       "5       88.954313  1.181667         True  \n",
       "6      110.737404  0.819614        False  \n",
       "7       93.081135  2.020318         True  \n",
       "8       77.947376  0.573521        False  \n",
       "9      100.344479  0.744908        False  \n",
       "10      78.884024  1.288297         True  \n",
       "11      39.939530  0.801394        False  \n",
       "12      26.602701  0.448884        False  \n",
       "13      15.701851  0.566301        False  \n",
       "14      92.412320  1.093805         True  "
      ]
     },
     "execution_count": 108,
     "metadata": {},
     "output_type": "execute_result"
    }
   ],
   "source": [
    "check_table"
   ]
  },
  {
   "cell_type": "markdown",
   "id": "621a0410-1e18-4781-91ad-35a159a926ef",
   "metadata": {},
   "source": [
    "## Seaborn\n",
    "\n",
    "Now what we would like to do is to plot two histograms: one with only the files characterized as \"in_membrane\" and the others. We could do that manually with Matplotlib, but we will demonstrate here a simpler solution using the Seaborn library (also based on Matplotlib).\n",
    "\n",
    "The idea in seaborn, is that we can add additional information in a plot by specifying if data should be for example colors based on some column or be displayed with another symbol etc. In our case we want to create a histogram of the ```ratio``` but in addition we want the data to be split into to colors or ```hue``` based on the ```in_membrane``` column:"
   ]
  },
  {
   "cell_type": "code",
   "execution_count": 109,
   "id": "711c2a9e-7408-4f4b-b0f6-1d839b8289b7",
   "metadata": {},
   "outputs": [],
   "source": [
    "import seaborn as sns"
   ]
  },
  {
   "cell_type": "code",
   "execution_count": 110,
   "id": "0126d54b-bd44-4b1f-89b7-e744b9954473",
   "metadata": {},
   "outputs": [
    {
     "data": {
      "image/png": "[encoded data removed]",
      "text/plain": [
       "<Figure size 432x288 with 1 Axes>"
      ]
     },
     "metadata": {
      "needs_background": "light"
     },
     "output_type": "display_data"
    }
   ],
   "source": [
    "sns.histplot(data=check_table, x='ratio', hue='in_membrane');"
   ]
  },
  {
   "cell_type": "markdown",
   "id": "66f1e0de-e4b2-453b-865a-fbfc9b84a819",
   "metadata": {},
   "source": [
    "And here's the confirmation that our analysis makes sense. All data characterized as ```in_membrane``` indeed have a higher ratio of in/out intensity. We could therefore apply our workflow to new genes with unknown patterns and automatically detect whether they are enriched in the membrane!"
   ]
  }
 ],
 "metadata": {
  "kernelspec": {
   "display_name": "Python 3 (ipykernel)",
   "language": "python",
   "name": "python3"
  },
  "language_info": {
   "codemirror_mode": {
    "name": "ipython",
    "version": 3
   },
   "file_extension": ".py",
   "mimetype": "text/x-python",
   "name": "python",
   "nbconvert_exporter": "python",
   "pygments_lexer": "ipython3",
   "version": "3.9.13"
  }
 },
 "nbformat": 4,
 "nbformat_minor": 5
}
