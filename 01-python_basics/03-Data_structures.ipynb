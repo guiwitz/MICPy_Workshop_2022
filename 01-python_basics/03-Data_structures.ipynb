{
 "cells": [
  {
   "cell_type": "markdown",
   "id": "2da1bcd7-48da-432b-8776-8279eb3e986c",
   "metadata": {},
   "source": [
    "# Data structures"
   ]
  },
  {
   "cell_type": "markdown",
   "id": "52ae3327-b811-49f4-8ec7-bced58ecfe08",
   "metadata": {},
   "source": [
    "In an analysis pipeline, having variables as single numbers or text is obviously not enough. We need \"containers\" that can contain more complex data. Think for example of n-dimensional matrices to contain image, tables to contain analysis outputs (e.g. size and intensity of detected objects).\n",
    "\n",
    "Some of the structures we will use come directly with Python (e.g. lists) while others are implemented by external packages, like Numpy arrays for images and Pandas dataframes for tables. We don't cover all details about these structures now but will explore them in more details in later notebooks. In particular we will come back to dataframes later on."
   ]
  },
  {
   "cell_type": "markdown",
   "id": "1815876a-d44a-4363-9373-87263ebac94f",
   "metadata": {},
   "source": [
    "## Lists and arrays\n",
    "\n",
    "There are several different data structures that are available out of the box in Python. We have already seen lists. Those can contain any type of data, including other lists:"
   ]
  },
  {
   "cell_type": "code",
   "execution_count": 1,
   "id": "f7af16b8-2bd4-4a39-bfbe-2cd7840f3d1e",
   "metadata": {},
   "outputs": [],
   "source": [
    "mylist = ['a', 3, [0,1,3]]"
   ]
  },
  {
   "cell_type": "markdown",
   "id": "e8dad2f8-52db-4d4f-b25c-1d8af2b123e0",
   "metadata": {},
   "source": [
    "Once defined you can access and change elements by using their index **which starts at 0**:"
   ]
  },
  {
   "cell_type": "code",
   "execution_count": 2,
   "id": "ff96c781-e76b-4166-9bb6-a5fa621ea240",
   "metadata": {},
   "outputs": [
    {
     "data": {
      "text/plain": [
       "'a'"
      ]
     },
     "execution_count": 2,
     "metadata": {},
     "output_type": "execute_result"
    }
   ],
   "source": [
    "mylist[0]"
   ]
  },
  {
   "cell_type": "code",
   "execution_count": 3,
   "id": "f09ee155-cd7d-4bc8-8aa5-872c8570f363",
   "metadata": {},
   "outputs": [
    {
     "data": {
      "text/plain": [
       "[0, 1, 3]"
      ]
     },
     "execution_count": 3,
     "metadata": {},
     "output_type": "execute_result"
    }
   ],
   "source": [
    "mylist[2]"
   ]
  },
  {
   "cell_type": "code",
   "execution_count": 4,
   "id": "5f2f8b96-471e-4e01-95d8-9907830f14c2",
   "metadata": {},
   "outputs": [],
   "source": [
    "mylist[0] = 'b'"
   ]
  },
  {
   "cell_type": "code",
   "execution_count": 5,
   "id": "768a7d12-6c71-4e5f-85b5-288c02a0b14e",
   "metadata": {},
   "outputs": [
    {
     "data": {
      "text/plain": [
       "['b', 3, [0, 1, 3]]"
      ]
     },
     "execution_count": 5,
     "metadata": {},
     "output_type": "execute_result"
    }
   ],
   "source": [
    "mylist"
   ]
  },
  {
   "cell_type": "markdown",
   "id": "afeec318-ce2a-41b4-acf2-55e15b48691e",
   "metadata": {},
   "source": [
    "We can alos add elements to a list by *appending* them removing them by *popping* them:"
   ]
  },
  {
   "cell_type": "code",
   "execution_count": 6,
   "id": "9dcaead2-ae18-4534-b3bf-9c221fa4fc5b",
   "metadata": {},
   "outputs": [],
   "source": [
    "mylist.append('new element')"
   ]
  },
  {
   "cell_type": "code",
   "execution_count": 7,
   "id": "59b01b2d-41d0-4e6a-b310-e616932d09a8",
   "metadata": {},
   "outputs": [
    {
     "data": {
      "text/plain": [
       "['b', 3, [0, 1, 3], 'new element']"
      ]
     },
     "execution_count": 7,
     "metadata": {},
     "output_type": "execute_result"
    }
   ],
   "source": [
    "mylist"
   ]
  },
  {
   "cell_type": "code",
   "execution_count": 8,
   "id": "808f14e4-daa2-474d-908f-1d0e92c8c455",
   "metadata": {},
   "outputs": [
    {
     "data": {
      "text/plain": [
       "['b', [0, 1, 3], 'new element']"
      ]
     },
     "execution_count": 8,
     "metadata": {},
     "output_type": "execute_result"
    }
   ],
   "source": [
    "mylist.pop(1)\n",
    "\n",
    "mylist"
   ]
  },
  {
   "cell_type": "markdown",
   "id": "20f4d436-dd79-441f-bc04-9fa320910b57",
   "metadata": {},
   "source": [
    "List are typically obtained as an output for example of a function returning the size of objects in an image.\n",
    "\n",
    "If we think of an image that has multiple lines and columns of pixels, we could now imagine that we can represent it as a list of lists, each single list being e.g. one row pf pixels. For example a 3 x 3 image could be:"
   ]
  },
  {
   "cell_type": "code",
   "execution_count": 9,
   "id": "e633b169-10bc-4b6b-9142-9ea78d0d4590",
   "metadata": {},
   "outputs": [
    {
     "data": {
      "text/plain": [
       "[[4, 8, 7], [6, 4, 3], [5, 3, 7]]"
      ]
     },
     "execution_count": 9,
     "metadata": {},
     "output_type": "execute_result"
    }
   ],
   "source": [
    "my_image = [[4,8,7], [6,4,3], [5,3,7]]\n",
    "my_image"
   ]
  },
  {
   "cell_type": "markdown",
   "id": "4811ade0-972d-4b56-a26d-0d4bcfb9edbc",
   "metadata": {},
   "source": [
    "While in principle we could use a ```list``` for this, computations on such objects would be very slow. For example if we wanted to do background correction and subtract a given value from our image, effectively we would have to go through each element of our list (each pixel) one by one and sequentially remove the background from each pixel. If the background is 3 we would have therefore to compute:\n",
    "- 4-3\n",
    "- 8-3\n",
    "- 7-3\n",
    "- 6-3\n",
    "\n",
    "etc. Since operations are done sequentially this would be very slow as we couldn't exploit the fact that most computers have multiple processors. Also it would be tedious to write such an operation.\n",
    "\n",
    "To fix this, most scientific areas that use lists of numbers of some kind (time-series, images, measurements etc.) resort to an **external package** called ```Numpy``` which offers a **computationally efficient list** called an **array**.\n",
    "\n",
    "## Numpy arrays\n",
    "\n",
    "To make this clearer we now import an image in our notebook to see such a structure. We will use a **function** from the scikit-image package to do this import. That function called ```imread``` is located in the submodule called ```io```. Remember that we can then access this function with ```skimage.io.imread()```. Just like we previously defined a function $f(x, a, b)$ that took inputs $x, a, b$, this ```imread()``` function also needs an input. Here it is just the **location of the image**, and that location can either be the **path** to the file on our computer or a **url** of an online place where the image is stored. Here we use an image that can be found at https://github.com/guiwitz/PyImageCourse_beginner/raw/master/images/19838_1252_F8_1.tif (more on imports in a later chapter). As you can see it is a tif file. This address that we are using as an input should be formatted as text:"
   ]
  },
  {
   "cell_type": "code",
   "execution_count": 10,
   "id": "72a9de87-8868-440b-8616-64b3af47b142",
   "metadata": {},
   "outputs": [],
   "source": [
    "my_address = 'https://github.com/guiwitz/PyImageCourse_beginner/raw/master/images/19838_1252_F8_1.tif'"
   ]
  },
  {
   "cell_type": "markdown",
   "id": "5c281164-27e3-4577-8535-74578e0cebd7",
   "metadata": {},
   "source": [
    "Now we can call our function:"
   ]
  },
  {
   "cell_type": "code",
   "execution_count": 11,
   "id": "7c9d87a2-8349-4d5a-9210-76b95cc51a53",
   "metadata": {},
   "outputs": [],
   "source": [
    "import skimage"
   ]
  },
  {
   "cell_type": "code",
   "execution_count": 12,
   "id": "e18215ab-c993-475a-ad53-7c9cb0aa9f1c",
   "metadata": {},
   "outputs": [
    {
     "data": {
      "text/plain": [
       "array([[[42, 48,  0],\n",
       "        [45, 41,  0],\n",
       "        [47, 21,  0],\n",
       "        ...,\n",
       "        [78, 16,  1],\n",
       "        [57, 14,  0],\n",
       "        [53,  7,  0]],\n",
       "\n",
       "       [[42, 57,  0],\n",
       "        [37, 40,  0],\n",
       "        [38, 30,  0],\n",
       "        ...,\n",
       "        [97,  7,  0],\n",
       "        [67, 12,  0],\n",
       "        [57,  9,  1]],\n",
       "\n",
       "       [[42, 55,  0],\n",
       "        [44, 40,  0],\n",
       "        [31, 29,  0],\n",
       "        ...,\n",
       "        [79,  0,  0],\n",
       "        [67,  1,  0],\n",
       "        [61,  1,  0]],\n",
       "\n",
       "       ...,\n",
       "\n",
       "       [[ 0,  0,  0],\n",
       "        [ 0,  0,  0],\n",
       "        [ 0,  0,  0],\n",
       "        ...,\n",
       "        [65, 37,  0],\n",
       "        [54, 37,  0],\n",
       "        [47, 49,  0]],\n",
       "\n",
       "       [[ 0,  0,  0],\n",
       "        [ 0,  0,  0],\n",
       "        [ 0,  0,  0],\n",
       "        ...,\n",
       "        [75, 41,  0],\n",
       "        [59, 44,  0],\n",
       "        [54, 74,  0]],\n",
       "\n",
       "       [[ 0,  0,  0],\n",
       "        [ 0,  0,  0],\n",
       "        [ 0,  0,  0],\n",
       "        ...,\n",
       "        [82, 51,  0],\n",
       "        [62, 48,  0],\n",
       "        [57, 69,  0]]], dtype=uint8)"
      ]
     },
     "execution_count": 12,
     "metadata": {},
     "output_type": "execute_result"
    }
   ],
   "source": [
    "myimage = skimage.io.imread(my_address)\n",
    "myimage"
   ]
  },
  {
   "cell_type": "markdown",
   "id": "cf70aca8-b276-43dd-8aa1-0bd6247c8b7a",
   "metadata": {},
   "source": [
    "We see here an output which is what is returned by our function. It is as expected a list of numbers, and not all numbers are shown because the list is too long. We see that we also have ```[]``` to specify rows, columns etc. The main difference compared to our list of lists that we defined previously is the ```array``` indication at the very beginning of the list of numbers. This ```array``` indication tells us that we are dealing with a ```Numpy``` array, this alternative type of list of lists that will allow us to do efficient computations. Just as a quick example, if we want to remove a background value of 10, we could compute:"
   ]
  },
  {
   "cell_type": "code",
   "execution_count": 13,
   "id": "e920b13f-de84-43db-989b-1cca3927afb0",
   "metadata": {},
   "outputs": [
    {
     "data": {
      "text/plain": [
       "array([[[ 32.,  38., -10.],\n",
       "        [ 35.,  31., -10.],\n",
       "        [ 37.,  11., -10.],\n",
       "        ...,\n",
       "        [ 68.,   6.,  -9.],\n",
       "        [ 47.,   4., -10.],\n",
       "        [ 43.,  -3., -10.]],\n",
       "\n",
       "       [[ 32.,  47., -10.],\n",
       "        [ 27.,  30., -10.],\n",
       "        [ 28.,  20., -10.],\n",
       "        ...,\n",
       "        [ 87.,  -3., -10.],\n",
       "        [ 57.,   2., -10.],\n",
       "        [ 47.,  -1.,  -9.]],\n",
       "\n",
       "       [[ 32.,  45., -10.],\n",
       "        [ 34.,  30., -10.],\n",
       "        [ 21.,  19., -10.],\n",
       "        ...,\n",
       "        [ 69., -10., -10.],\n",
       "        [ 57.,  -9., -10.],\n",
       "        [ 51.,  -9., -10.]],\n",
       "\n",
       "       ...,\n",
       "\n",
       "       [[-10., -10., -10.],\n",
       "        [-10., -10., -10.],\n",
       "        [-10., -10., -10.],\n",
       "        ...,\n",
       "        [ 55.,  27., -10.],\n",
       "        [ 44.,  27., -10.],\n",
       "        [ 37.,  39., -10.]],\n",
       "\n",
       "       [[-10., -10., -10.],\n",
       "        [-10., -10., -10.],\n",
       "        [-10., -10., -10.],\n",
       "        ...,\n",
       "        [ 65.,  31., -10.],\n",
       "        [ 49.,  34., -10.],\n",
       "        [ 44.,  64., -10.]],\n",
       "\n",
       "       [[-10., -10., -10.],\n",
       "        [-10., -10., -10.],\n",
       "        [-10., -10., -10.],\n",
       "        ...,\n",
       "        [ 72.,  41., -10.],\n",
       "        [ 52.,  38., -10.],\n",
       "        [ 47.,  59., -10.]]])"
      ]
     },
     "execution_count": 13,
     "metadata": {},
     "output_type": "execute_result"
    }
   ],
   "source": [
    "myimage - 10."
   ]
  },
  {
   "cell_type": "markdown",
   "id": "3657053f-b352-4f57-9f48-ebd583835eca",
   "metadata": {},
   "source": [
    "We will learn much more on performing computations with these images arrays in later chapters."
   ]
  },
  {
   "cell_type": "markdown",
   "id": "9f9e2d92-1bfc-416b-88b3-ea5d2bfb47a8",
   "metadata": {},
   "source": [
    "## Other simple structures\n",
    "\n",
    "During this course, we will encounter from time to time other types of containers. For example tuples. Those are defined with ```()``` and are immutable i.e. we can't change their values."
   ]
  },
  {
   "cell_type": "code",
   "execution_count": 14,
   "id": "3c2930d6-85ab-4fd2-9020-a68608b12027",
   "metadata": {},
   "outputs": [],
   "source": [
    "mytuple = (3, 'a')"
   ]
  },
  {
   "cell_type": "code",
   "execution_count": 15,
   "id": "1edb0b1b-1f17-46b7-9fd2-436cc0d1a5f1",
   "metadata": {},
   "outputs": [
    {
     "data": {
      "text/plain": [
       "(3, 'a')"
      ]
     },
     "execution_count": 15,
     "metadata": {},
     "output_type": "execute_result"
    }
   ],
   "source": [
    "mytuple"
   ]
  },
  {
   "cell_type": "code",
   "execution_count": 16,
   "id": "c3d350d9-c5f0-4548-a538-5189a531cfa8",
   "metadata": {},
   "outputs": [
    {
     "data": {
      "text/plain": [
       "3"
      ]
     },
     "execution_count": 16,
     "metadata": {},
     "output_type": "execute_result"
    }
   ],
   "source": [
    "mytuple[0]"
   ]
  },
  {
   "cell_type": "code",
   "execution_count": 17,
   "id": "9198f8b8-d6b7-4d0b-a38f-04481c6d2192",
   "metadata": {},
   "outputs": [
    {
     "ename": "TypeError",
     "evalue": "'tuple' object does not support item assignment",
     "output_type": "error",
     "traceback": [
      "\u001b[0;31m---------------------------------------------------------------------------\u001b[0m",
      "\u001b[0;31mTypeError\u001b[0m                                 Traceback (most recent call last)",
      "Input \u001b[0;32mIn [17]\u001b[0m, in \u001b[0;36m<cell line: 1>\u001b[0;34m()\u001b[0m\n\u001b[0;32m----> 1\u001b[0m mytuple[\u001b[38;5;241m0\u001b[39m] \u001b[38;5;241m=\u001b[39m \u001b[38;5;241m5\u001b[39m\n",
      "\u001b[0;31mTypeError\u001b[0m: 'tuple' object does not support item assignment"
     ]
    }
   ],
   "source": [
    "mytuple[0] = 5"
   ]
  },
  {
   "cell_type": "markdown",
   "id": "b1944519-eae8-46af-8b79-2e35ac9f0bf9",
   "metadata": {},
   "source": [
    "The last structures mentionned here is the dictionary, which is a list of key-words and their corresponding value. For example you might get this kind of structure as output of a function that provides different properties of analyzed objects. We define it with curly brackets. Each key-word can contain any type of content."
   ]
  },
  {
   "cell_type": "code",
   "execution_count": 18,
   "id": "c9182bdd-217b-42e8-a17f-1e181e2930a8",
   "metadata": {},
   "outputs": [],
   "source": [
    "mydict = {'area': [10, 12, 4], 'object_type': ['cell', 'nucleus', 'cell']}"
   ]
  },
  {
   "cell_type": "code",
   "execution_count": 19,
   "id": "be2ab75b-1ddb-4789-90d9-abf6255fb07c",
   "metadata": {},
   "outputs": [
    {
     "data": {
      "text/plain": [
       "{'area': [10, 12, 4], 'object_type': ['cell', 'nucleus', 'cell']}"
      ]
     },
     "execution_count": 19,
     "metadata": {},
     "output_type": "execute_result"
    }
   ],
   "source": [
    "mydict"
   ]
  },
  {
   "cell_type": "markdown",
   "id": "812cf1df-94a5-4e67-9be8-bd38a4a1664c",
   "metadata": {},
   "source": [
    "We can then access each element by key-word (instead of by index like in a list):"
   ]
  },
  {
   "cell_type": "code",
   "execution_count": 20,
   "id": "099a6488-cb7e-431a-bc7a-621c4dad70fd",
   "metadata": {},
   "outputs": [
    {
     "data": {
      "text/plain": [
       "[10, 12, 4]"
      ]
     },
     "execution_count": 20,
     "metadata": {},
     "output_type": "execute_result"
    }
   ],
   "source": [
    "mydict['area']"
   ]
  },
  {
   "cell_type": "markdown",
   "id": "22a03815-eefd-4f4a-af75-56340e1da8fe",
   "metadata": {},
   "source": [
    "## Exercise\n",
    "\n",
    "1. Create an empty list. Use the ```append``` mehod to add a few elements.\n",
    "2. Try to exract one element using indices. Make sure you get the correct one!\n",
    "3. Create dictionary containing one key for fruite names and one key for the fruit weight and fill it with 3 fruits. Make sure you can recover either the fruit names or the weight."
   ]
  },
  {
   "cell_type": "code",
   "execution_count": null,
   "id": "0552fa69-5b9f-444a-804c-5572101ad593",
   "metadata": {},
   "outputs": [],
   "source": []
  }
 ],
 "metadata": {
  "kernelspec": {
   "display_name": "Python 3 (ipykernel)",
   "language": "python",
   "name": "python3"
  },
  "language_info": {
   "codemirror_mode": {
    "name": "ipython",
    "version": 3
   },
   "file_extension": ".py",
   "mimetype": "text/x-python",
   "name": "python",
   "nbconvert_exporter": "python",
   "pygments_lexer": "ipython3",
   "version": "3.9.13"
  }
 },
 "nbformat": 4,
 "nbformat_minor": 5
}
