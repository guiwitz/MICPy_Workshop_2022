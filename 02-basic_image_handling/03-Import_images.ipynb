{
 "cells": [
  {
   "cell_type": "markdown",
   "id": "da0cd05e-2d86-4c78-ac3f-7d2cb6da2499",
   "metadata": {},
   "source": [
    "# Importing images\n",
    "\n",
    "Microscopy images come in various formats, some \"general\" like tiff and some proprietary like microscope manufacturer formats like czi, nd2, lif etc. The problem is that data and metadata are encoded in a different way in each of those formats. Therefore for each one, we need a piece of software capable of reading it. There are multiple solutions in Python to do that and we'll explore a series of examples here."
   ]
  },
  {
   "cell_type": "markdown",
   "id": "48df6c00-6be3-4255-be76-be6cb05228a9",
   "metadata": {},
   "source": [
    "## scikit-image\n",
    "\n",
    "scikit-image provides a simple importer via its ```io``` submodule. It handles most \"simple\" standard formats. In this course you will be able to import most images with:"
   ]
  },
  {
   "cell_type": "code",
   "execution_count": 1,
   "id": "21bb2722-36c8-4f35-bbc9-c2b2e862ed5c",
   "metadata": {},
   "outputs": [],
   "source": [
    "import skimage"
   ]
  },
  {
   "cell_type": "code",
   "execution_count": 2,
   "id": "42c80f10-f069-487c-b027-bcd46353225a",
   "metadata": {},
   "outputs": [],
   "source": [
    "image = skimage.io.imread('../data/idr9036378_cropped.tif')"
   ]
  },
  {
   "cell_type": "code",
   "execution_count": 3,
   "id": "ba16eb15-97cc-4154-b1f8-ecf36963ca93",
   "metadata": {},
   "outputs": [
    {
     "data": {
      "text/plain": [
       "(14, 8, 2, 262, 290)"
      ]
     },
     "execution_count": 3,
     "metadata": {},
     "output_type": "execute_result"
    }
   ],
   "source": [
    "image.shape"
   ]
  },
  {
   "cell_type": "markdown",
   "id": "a9591ada-75d2-4e72-8dd0-2ff58cbc76d9",
   "metadata": {},
   "source": [
    "This provides a simple Numpy array as output. Note that with this approach any metadata regarding pixel size, scale, dimensions etc. is lost.\n",
    "\n",
    "Note also that you can provide either a local path to your image (absolute or relative) or a url. For example this works too:"
   ]
  },
  {
   "cell_type": "code",
   "execution_count": 4,
   "id": "2e02256a-dbff-4d4e-b358-380bb27aa681",
   "metadata": {},
   "outputs": [],
   "source": [
    "image = skimage.io.imread('https://zenodo.org/record/4485316/files/Flue-N2DH-GOWT1_02_GT.tif?download=1')"
   ]
  },
  {
   "cell_type": "code",
   "execution_count": 5,
   "id": "294b3e01-1921-41de-b989-26bae563122f",
   "metadata": {},
   "outputs": [
    {
     "data": {
      "text/plain": [
       "(1024, 1024)"
      ]
     },
     "execution_count": 5,
     "metadata": {},
     "output_type": "execute_result"
    }
   ],
   "source": [
    "image.shape"
   ]
  },
  {
   "cell_type": "markdown",
   "id": "c41ff4ba-2770-456f-bb02-8c167762005b",
   "metadata": {},
   "source": [
    "## More formats \n",
    "\n",
    "If you want to recover more information about the images as well as be able to open a larger variety of formats, we recommend the [```aicsimageio```](https://allencellmodeling.github.io/aicsimageio/) library maintained by the All Institute for Cell Sciences. The mechanisms here is a bit different: we define an *object* by specifying the image location and then we request information from that object. For example we can open a czi file:"
   ]
  },
  {
   "cell_type": "code",
   "execution_count": 6,
   "id": "405c2065-c8e3-4069-b669-412ccd8360df",
   "metadata": {},
   "outputs": [],
   "source": [
    "from aicsimageio import AICSImage"
   ]
  },
  {
   "cell_type": "code",
   "execution_count": 7,
   "id": "f432d922-1d49-4186-9789-83756500f776",
   "metadata": {},
   "outputs": [],
   "source": [
    "myfile = AICSImage('../data/C_Ss_3D-LR40x.czi')"
   ]
  },
  {
   "cell_type": "markdown",
   "id": "7a987c7d-9442-4d49-af72-04e22bb7c520",
   "metadata": {},
   "source": [
    "Now we can extract information about the dimensions:"
   ]
  },
  {
   "cell_type": "code",
   "execution_count": 8,
   "id": "8f3007a8-1b42-46c0-b0dc-8531bc7790c6",
   "metadata": {},
   "outputs": [
    {
     "data": {
      "text/plain": [
       "<Dimensions [T: 1, C: 3, Z: 52, Y: 512, X: 512]>"
      ]
     },
     "execution_count": 8,
     "metadata": {},
     "output_type": "execute_result"
    }
   ],
   "source": [
    "myfile.dims"
   ]
  },
  {
   "cell_type": "markdown",
   "id": "45500303-9e42-4d34-b393-a91052ecd3cb",
   "metadata": {},
   "source": [
    "We see that we have a 512x512 image with 52 planes and 3 channels. Naturally we can also access the actual pixel values in the form of an array:"
   ]
  },
  {
   "cell_type": "code",
   "execution_count": 9,
   "id": "16e835f6-8b90-41f9-89b6-7b226506101e",
   "metadata": {},
   "outputs": [],
   "source": [
    "mypixels = myfile.data"
   ]
  },
  {
   "cell_type": "code",
   "execution_count": 10,
   "id": "aa2900d5-151f-41d1-a4c4-d3c57e99568b",
   "metadata": {},
   "outputs": [
    {
     "data": {
      "text/plain": [
       "(1, 3, 52, 512, 512)"
      ]
     },
     "execution_count": 10,
     "metadata": {},
     "output_type": "execute_result"
    }
   ],
   "source": [
    "mypixels.shape"
   ]
  },
  {
   "cell_type": "markdown",
   "id": "cc1b4872-1bff-4390-9aa4-43de08b99148",
   "metadata": {},
   "source": [
    "Note that the library offers some more advanced data formats (dask arrays) that allow one to perform computations on image blocks in case we are dealing with very large images. We will learn more about this when exploring the Dask library."
   ]
  },
  {
   "cell_type": "markdown",
   "id": "05c57ee2-97eb-4d7d-8c8e-1daea5aee897",
   "metadata": {},
   "source": [
    "## Specialized libraries\n",
    "\n",
    "Both scikit-image and aicsimageio take care of common light microscopy formats. However you might deal with more exotic formats not covered by those libraries. For example formats from electron microscopy like mrc, or medical data like DICOM. In those cases, you can almost always find specific libraries dedicated to those formats. \n",
    "\n",
    "### DICOM\n",
    "\n",
    "For DICOM you can for example use the [pydicom](https://pydicom.github.io/pydicom/stable/) library:"
   ]
  },
  {
   "cell_type": "code",
   "execution_count": 12,
   "id": "101760a4-10af-4b76-ae1c-7b17bebc222c",
   "metadata": {},
   "outputs": [
    {
     "name": "stdout",
     "output_type": "stream",
     "text": [
      "Collecting pydicom\n",
      "  Using cached pydicom-2.3.0-py3-none-any.whl (2.0 MB)\n",
      "Installing collected packages: pydicom\n",
      "Successfully installed pydicom-2.3.0\n",
      "Note: you may need to restart the kernel to use updated packages.\n"
     ]
    }
   ],
   "source": [
    "pip install pydicom"
   ]
  },
  {
   "cell_type": "markdown",
   "id": "f85c3a96-3be5-43ab-a19c-194dedfae8ea",
   "metadata": {},
   "source": [
    "As an example, we use here a dataset from Zenodo, which is an MRI scan of a head: https://zenodo.org/record/16956.\n",
    "\n",
    "Using the pydicom package we can now import a single slice using the ```dcmread()``` function:"
   ]
  },
  {
   "cell_type": "code",
   "execution_count": 13,
   "id": "5cfe7311-2c27-4a2d-8670-d2303544961d",
   "metadata": {},
   "outputs": [],
   "source": [
    "import pydicom"
   ]
  },
  {
   "cell_type": "code",
   "execution_count": 14,
   "id": "140f8d50-78e5-40e4-a2aa-bba3574c647f",
   "metadata": {},
   "outputs": [],
   "source": [
    "single_slice = pydicom.dcmread('../data/DICOM/ST000000/SE000000/MR000000')"
   ]
  },
  {
   "cell_type": "markdown",
   "id": "ecc43513-1e99-41d2-8ebc-facceb41ad11",
   "metadata": {},
   "source": [
    "The ```single_slice``` variable is an object that doesn't only contain pixel values but also all metadata from the DICOM file. For example we can get information about the patient or the pixel size:"
   ]
  },
  {
   "cell_type": "code",
   "execution_count": 15,
   "id": "0b3989ed-409c-4f0b-9267-bde36c29f033",
   "metadata": {},
   "outputs": [
    {
     "data": {
      "text/plain": [
       "'LIONHEART^WILLIAM'"
      ]
     },
     "execution_count": 15,
     "metadata": {},
     "output_type": "execute_result"
    }
   ],
   "source": [
    "single_slice.PatientName"
   ]
  },
  {
   "cell_type": "code",
   "execution_count": 16,
   "id": "77b88eb4-8074-4430-ba73-41602db6cf5f",
   "metadata": {},
   "outputs": [
    {
     "data": {
      "text/plain": [
       "[0.9765625, 0.9765625]"
      ]
     },
     "execution_count": 16,
     "metadata": {},
     "output_type": "execute_result"
    }
   ],
   "source": [
    "single_slice.PixelSpacing"
   ]
  },
  {
   "cell_type": "markdown",
   "id": "f4c03b1c-631b-4e4a-9f29-f7c816bf7521",
   "metadata": {},
   "source": [
    "But of course we can also access the raw pixel values as a Numpy array:"
   ]
  },
  {
   "cell_type": "code",
   "execution_count": 17,
   "id": "f4189591-9af9-43bc-a19f-8187be42a9ca",
   "metadata": {},
   "outputs": [
    {
     "data": {
      "text/plain": [
       "array([[ 8, 12, 10, ...,  5,  9,  5],\n",
       "       [ 4, 13, 16, ...,  2,  7,  5],\n",
       "       [13, 18, 11, ...,  8, 10,  6],\n",
       "       ...,\n",
       "       [10, 10,  7, ..., 24, 17,  3],\n",
       "       [16, 13,  7, ..., 10, 14, 16],\n",
       "       [11,  9, 11, ...,  6,  8, 13]], dtype=uint16)"
      ]
     },
     "execution_count": 17,
     "metadata": {},
     "output_type": "execute_result"
    }
   ],
   "source": [
    "single_slice.pixel_array"
   ]
  },
  {
   "cell_type": "markdown",
   "id": "f91eafb0-55a8-45d8-9d3f-3118eaad91ec",
   "metadata": {},
   "source": [
    "### MRC\n",
    "\n",
    "Similarly to read files in .mrc format, which is widely used in EM we are using the [mrcfile](https://github.com/ccpem/mrcfile) package. Again, we first need to install it:"
   ]
  },
  {
   "cell_type": "code",
   "execution_count": 18,
   "id": "c6fc2d3f-2b54-463b-8133-b6f84d94429c",
   "metadata": {},
   "outputs": [
    {
     "name": "stdout",
     "output_type": "stream",
     "text": [
      "Collecting mrcfile\n",
      "  Using cached mrcfile-1.4.0-py2.py3-none-any.whl (42 kB)\n",
      "Requirement already satisfied: numpy>=1.16.0 in /Users/gw18g940/mambaforge/envs/micpy_tf2/lib/python3.9/site-packages (from mrcfile) (1.22.4)\n",
      "Installing collected packages: mrcfile\n",
      "Successfully installed mrcfile-1.4.0\n",
      "Note: you may need to restart the kernel to use updated packages.\n"
     ]
    }
   ],
   "source": [
    "pip install mrcfile"
   ]
  },
  {
   "cell_type": "code",
   "execution_count": 19,
   "id": "5c87fd8e-d5ca-438b-8f45-2befff2c982a",
   "metadata": {},
   "outputs": [],
   "source": [
    "import mrcfile"
   ]
  },
  {
   "cell_type": "markdown",
   "id": "dcf5946d-83cb-474a-b7cc-3e6f79fd6fd5",
   "metadata": {},
   "source": [
    "Now we can open the file and then access its contents:"
   ]
  },
  {
   "cell_type": "code",
   "execution_count": 20,
   "id": "98fbe9a7-6ec4-4673-8ae2-544d22e86b25",
   "metadata": {},
   "outputs": [],
   "source": [
    "mrc =  mrcfile.open('../data/10392_S9_File_PVM_Rupture.mrc')"
   ]
  },
  {
   "cell_type": "code",
   "execution_count": 21,
   "id": "e9f5fe43-aa8f-41b0-bcc8-3f4936db9594",
   "metadata": {},
   "outputs": [
    {
     "data": {
      "text/plain": [
       "(190, 617, 617)"
      ]
     },
     "execution_count": 21,
     "metadata": {},
     "output_type": "execute_result"
    }
   ],
   "source": [
    "mrc.data.shape"
   ]
  },
  {
   "cell_type": "markdown",
   "id": "cdc63d60-cde9-4930-aa27-36eda5a80a98",
   "metadata": {},
   "source": [
    "As we have opened the image and not directly imported it, note that we need to close the image. This is particularly important in case we open many images that would then take a lot of space in memory: "
   ]
  },
  {
   "cell_type": "code",
   "execution_count": 22,
   "id": "eb8e04fd-05a1-4cff-bd02-497b8a6af71a",
   "metadata": {},
   "outputs": [],
   "source": [
    "mrc.close()"
   ]
  },
  {
   "cell_type": "markdown",
   "id": "ba3c7020-2c84-4f72-8619-60cb48ab155b",
   "metadata": {},
   "source": [
    "## Exercise\n",
    "\n",
    "1. Import one of the tif files that you can find in this Zenodo repository using scikit-image: https://zenodo.org/record/4266199#.YsKgKuzP2rM\n",
    "\n",
    "2. Import the file ```20180209_mitoBFP_Drp1GFP_KDEL-RFP.lif``` using aicsimageio. What are the channel names? What are the dimensions? Access the data as a Numpy array and check that the dimensions match."
   ]
  },
  {
   "cell_type": "code",
   "execution_count": null,
   "id": "19eb6331-8d87-470b-ad31-7a8256c5a849",
   "metadata": {},
   "outputs": [],
   "source": []
  }
 ],
 "metadata": {
  "kernelspec": {
   "display_name": "Python 3 (ipykernel)",
   "language": "python",
   "name": "python3"
  },
  "language_info": {
   "codemirror_mode": {
    "name": "ipython",
    "version": 3
   },
   "file_extension": ".py",
   "mimetype": "text/x-python",
   "name": "python",
   "nbconvert_exporter": "python",
   "pygments_lexer": "ipython3",
   "version": "3.9.13"
  }
 },
 "nbformat": 4,
 "nbformat_minor": 5
}
