{
 "cells": [
  {
   "cell_type": "markdown",
   "id": "d7502987-c78b-40c8-b448-03304b1addae",
   "metadata": {},
   "source": [
    "# Masks and Logical indexing\n",
    "\n",
    "The last important topic in this part on basic image processing is how to select specific pixels, not by position as we did earlier, but by value. For this we need to create a mask or binary image where selected pixels are ON and other OFF. With this information, we can then extract those pixels to do further computations, an operation called logical indexing in Numpy."
   ]
  },
  {
   "cell_type": "markdown",
   "id": "be175710-f449-4aa3-aeb7-3479081657f6",
   "metadata": {},
   "source": [
    "## Logical operations in Python\n",
    "\n",
    "In plain Python we can use logical operations such as:"
   ]
  },
  {
   "cell_type": "code",
   "execution_count": 1,
   "id": "47287bf3-3ba0-47c4-b578-b3d283f5b493",
   "metadata": {},
   "outputs": [],
   "source": [
    "a = 2"
   ]
  },
  {
   "cell_type": "code",
   "execution_count": 2,
   "id": "0da187e4-8831-41f9-8c0e-6f2169ea8461",
   "metadata": {},
   "outputs": [
    {
     "data": {
      "text/plain": [
       "False"
      ]
     },
     "execution_count": 2,
     "metadata": {},
     "output_type": "execute_result"
    }
   ],
   "source": [
    "a > 3"
   ]
  },
  {
   "cell_type": "code",
   "execution_count": 3,
   "id": "45c8eb06-6b33-4f79-b9fb-f50aa1ae41e3",
   "metadata": {},
   "outputs": [
    {
     "data": {
      "text/plain": [
       "True"
      ]
     },
     "execution_count": 3,
     "metadata": {},
     "output_type": "execute_result"
    }
   ],
   "source": [
    "a < 3"
   ]
  },
  {
   "cell_type": "markdown",
   "id": "727896bf-1eee-47fe-89f4-1a435d3c5a83",
   "metadata": {},
   "source": [
    "We see that the output tells us that the inequality is ```False``` or ```True```. We can actually assign this output to a variable and check its type:"
   ]
  },
  {
   "cell_type": "code",
   "execution_count": 4,
   "id": "5d292219-f04f-4c5f-b52d-da3a7916f4f9",
   "metadata": {},
   "outputs": [
    {
     "data": {
      "text/plain": [
       "False"
      ]
     },
     "execution_count": 4,
     "metadata": {},
     "output_type": "execute_result"
    }
   ],
   "source": [
    "out = a > 3\n",
    "out"
   ]
  },
  {
   "cell_type": "code",
   "execution_count": 5,
   "id": "8a0eef28-95cd-4a08-95d5-a4eabc986e3b",
   "metadata": {},
   "outputs": [
    {
     "data": {
      "text/plain": [
       "bool"
      ]
     },
     "execution_count": 5,
     "metadata": {},
     "output_type": "execute_result"
    }
   ],
   "source": [
    "type(out)"
   ]
  },
  {
   "cell_type": "markdown",
   "id": "5489070f-4ce7-4bb4-95dc-a831f25330bb",
   "metadata": {},
   "source": [
    "We see that we get a **boolean** variable. Boolean means that this is a variable that can only take on two values: True or False (or 1 and 0)."
   ]
  },
  {
   "cell_type": "markdown",
   "id": "c06933d5-8ad7-4fd8-a1cb-87a661f909f2",
   "metadata": {},
   "source": [
    "## Booleans in Numpy\n",
    "\n",
    "Now we can do the a very similar operation directly with Numpy arrays. First we import an image and keep only one channel:"
   ]
  },
  {
   "cell_type": "code",
   "execution_count": 6,
   "id": "a72e445d-bee6-4013-8e9b-f15677be627e",
   "metadata": {},
   "outputs": [],
   "source": [
    "import skimage\n",
    "import numpy as np\n",
    "from microfilm.microplot import microshow\n",
    "import matplotlib.pyplot as plt\n",
    "\n",
    "image = skimage.io.imread('../data/cellaltlas/19838_1252_F8_1.tiff')[1090:1590,450:1050,2]\n"
   ]
  },
  {
   "cell_type": "code",
   "execution_count": 7,
   "id": "6c196dd3-a9b4-4733-ae09-f8a12584d209",
   "metadata": {},
   "outputs": [
    {
     "data": {
      "text/plain": [
       "array([[173, 147, 160, ...,   0,   0,   0],\n",
       "       [184, 174, 161, ...,   0,   0,   0],\n",
       "       [169, 162, 171, ...,   0,   0,   0],\n",
       "       ...,\n",
       "       [  0,   0,   0, ...,   0,   0,   0],\n",
       "       [  0,   0,   0, ...,   0,   0,   0],\n",
       "       [  0,   0,   0, ...,   0,   0,   0]], dtype=uint8)"
      ]
     },
     "execution_count": 7,
     "metadata": {},
     "output_type": "execute_result"
    }
   ],
   "source": [
    "image"
   ]
  },
  {
   "cell_type": "code",
   "execution_count": 8,
   "id": "32ea12ec-c2d6-42d7-b938-b7492ee67fd8",
   "metadata": {},
   "outputs": [
    {
     "data": {
      "text/plain": [
       "array([[ True,  True,  True, ..., False, False, False],\n",
       "       [ True,  True,  True, ..., False, False, False],\n",
       "       [ True,  True,  True, ..., False, False, False],\n",
       "       ...,\n",
       "       [False, False, False, ..., False, False, False],\n",
       "       [False, False, False, ..., False, False, False],\n",
       "       [False, False, False, ..., False, False, False]])"
      ]
     },
     "execution_count": 8,
     "metadata": {},
     "output_type": "execute_result"
    }
   ],
   "source": [
    "image > 100"
   ]
  },
  {
   "cell_type": "markdown",
   "id": "258265de-9374-486c-9831-a8c4090c3db2",
   "metadata": {},
   "source": [
    "We see that the output is again a Numpy array and that it is filled with ```True``` and ```False``` values: we have a **boolean array**. Again the comparison here was done **element wise**: each pixel was compared to the value 100 and the result stored in a new array. As with a simple number we can now save this **boolean array** as a variable:"
   ]
  },
  {
   "cell_type": "code",
   "execution_count": 9,
   "id": "648b40d7-ea2e-4263-bb87-8e6345016a04",
   "metadata": {},
   "outputs": [],
   "source": [
    "array_bool = image > 100"
   ]
  },
  {
   "cell_type": "markdown",
   "id": "e3171c3e-b48c-4a03-85ec-524f1894c9f0",
   "metadata": {},
   "source": [
    "As we are working with an image, what we have just done here is essentially **thresholding**: we created a binary image where pixels say ```True``` above the intensity threshold and ```False``` otherwise. We can actually plot the result:"
   ]
  },
  {
   "cell_type": "code",
   "execution_count": 10,
   "id": "839c4f77-43d5-4e4e-b965-bc07adf21ee9",
   "metadata": {},
   "outputs": [
    {
     "data": {
      "image/png": "[encoded data removed]",
      "text/plain": [
       "<Figure size 216x180 with 1 Axes>"
      ]
     },
     "metadata": {
      "needs_background": "light"
     },
     "output_type": "display_data"
    }
   ],
   "source": [
    "microshow(array_bool);"
   ]
  },
  {
   "cell_type": "code",
   "execution_count": 11,
   "id": "2b03f5a5-4420-4ece-8c9d-9eafadce56f3",
   "metadata": {},
   "outputs": [
    {
     "data": {
      "image/png": "[encoded data removed]",
      "text/plain": [
       "<Figure size 216x180 with 1 Axes>"
      ]
     },
     "metadata": {
      "needs_background": "light"
     },
     "output_type": "display_data"
    }
   ],
   "source": [
    "microshow(image);"
   ]
  },
  {
   "cell_type": "markdown",
   "id": "b413409a-a3ac-4764-988e-da0bce9a2ebf",
   "metadata": {},
   "source": [
    "## Combining boolean arrays\n",
    "\n",
    "In some cases we create multiple masks based on different images and we want to combine them in the end. For example imagine that we have a mask of cells, a mask of nuclei and then want to recover pixels that are in either of these two locations. Let's create two such masks"
   ]
  },
  {
   "cell_type": "code",
   "execution_count": 12,
   "id": "4136c1a3-790d-45d7-9413-37efdc540207",
   "metadata": {},
   "outputs": [],
   "source": [
    "im_cell = skimage.io.imread('../data/cellaltlas/19838_1252_F8_1.tiff')[700:1500,300:1200,0]\n",
    "im_nucl = skimage.io.imread('../data/cellaltlas/19838_1252_F8_1.tiff')[700:1500,300:1200,2]\n",
    "\n",
    "im_cell_mask = im_cell > 20\n",
    "im_nucl_mask = im_nucl > 100"
   ]
  },
  {
   "cell_type": "code",
   "execution_count": 13,
   "id": "d0fcf4f6-d26a-42da-b9cc-9fc0543cca3f",
   "metadata": {},
   "outputs": [
    {
     "data": {
      "image/png": "[encoded data removed]",
      "text/plain": [
       "<Figure size 432x288 with 4 Axes>"
      ]
     },
     "metadata": {
      "needs_background": "light"
     },
     "output_type": "display_data"
    }
   ],
   "source": [
    "fig, ax = plt.subplots(2,2)\n",
    "microshow(im_cell, ax=ax[0,0])\n",
    "microshow(im_nucl, ax=ax[0,1])\n",
    "microshow(im_cell_mask, ax=ax[1,0])\n",
    "microshow(im_nucl_mask, ax=ax[1,1]);"
   ]
  },
  {
   "cell_type": "markdown",
   "id": "f5b7029b-6c19-4d45-bec4-446c65072fbc",
   "metadata": {},
   "source": [
    "Now we can do mathematics with these two masks. For example we can now compute ```im_cell_mask + im_nucl_mask``` which will give us pixels present in either of these two masks:"
   ]
  },
  {
   "cell_type": "code",
   "execution_count": 14,
   "id": "37b91e31-f2a8-4570-8eab-a823c1e4beec",
   "metadata": {},
   "outputs": [
    {
     "data": {
      "image/png": "[encoded data removed]",
      "text/plain": [
       "<Figure size 216x192 with 1 Axes>"
      ]
     },
     "metadata": {
      "needs_background": "light"
     },
     "output_type": "display_data"
    }
   ],
   "source": [
    "microshow(im_cell_mask + im_nucl_mask);"
   ]
  },
  {
   "cell_type": "markdown",
   "id": "50ecac82-ccd5-4cf4-b095-642f7da2c61c",
   "metadata": {},
   "source": [
    "Or we can compute ```im_cell_mask * im_nucl_mask``` which will give us only pixels present in both masks:"
   ]
  },
  {
   "cell_type": "code",
   "execution_count": 15,
   "id": "5a27f136-7e09-46bb-90bc-76e609dd5c1f",
   "metadata": {},
   "outputs": [
    {
     "data": {
      "image/png": "[encoded data removed]",
      "text/plain": [
       "<Figure size 216x192 with 1 Axes>"
      ]
     },
     "metadata": {
      "needs_background": "light"
     },
     "output_type": "display_data"
    }
   ],
   "source": [
    "microshow(im_cell_mask * im_nucl_mask);"
   ]
  },
  {
   "cell_type": "markdown",
   "id": "be6e34ba-4dac-4b6a-ad2d-a970f4b650e8",
   "metadata": {},
   "source": [
    "Formally we can also use Numpy functions that are more explicit in their action. For example:"
   ]
  },
  {
   "cell_type": "code",
   "execution_count": 16,
   "id": "aa6ec250-16d3-4f79-9795-929a54cdd06b",
   "metadata": {},
   "outputs": [
    {
     "data": {
      "image/png": "[encoded data removed]",
      "text/plain": [
       "<Figure size 216x192 with 1 Axes>"
      ]
     },
     "metadata": {
      "needs_background": "light"
     },
     "output_type": "display_data"
    }
   ],
   "source": [
    "microshow(np.logical_and(im_cell_mask, im_nucl_mask));"
   ]
  },
  {
   "cell_type": "markdown",
   "id": "546a2801-21b1-4248-b279-dad386e3858b",
   "metadata": {},
   "source": [
    "## Logical indexing\n",
    "\n",
    "One very important operation that we can use now is to combine the image with the boolean array **to extract only the ```True``` values** from the image. You can imagine of using the logical array as a mask, superposing it onto the image and extracting only the pixel that are visible through the white regions. The drawing below explains this concept:"
   ]
  },
  {
   "cell_type": "code",
   "execution_count": 17,
   "id": "05858c01-4897-4f2d-9a9b-cb8b9020ce6e",
   "metadata": {},
   "outputs": [
    {
     "data": {
      "text/html": [
       "<img src=\"https://github.com/guiwitz/ISDAwPython_day2/raw/master/images/logical_indexing.jpeg\" width=\"700\"/>"
      ],
      "text/plain": [
       "<IPython.core.display.Image object>"
      ]
     },
     "execution_count": 17,
     "metadata": {},
     "output_type": "execute_result"
    }
   ],
   "source": [
    "from IPython.display import Image\n",
    "Image(url='https://github.com/guiwitz/ISDAwPython_day2/raw/master/images/logical_indexing.jpeg',width=700)"
   ]
  },
  {
   "cell_type": "markdown",
   "id": "14837b7e-d4b7-4a50-90c1-4ecfeec74b35",
   "metadata": {},
   "source": [
    "This operation is performed by passing the boolean array (the indexing one) to the image in square parentheses:"
   ]
  },
  {
   "cell_type": "code",
   "execution_count": 18,
   "id": "ee723ebd-8da2-4b93-9c70-d20011b9ef93",
   "metadata": {},
   "outputs": [
    {
     "data": {
      "text/plain": [
       "array([173, 147, 160, ..., 109, 106, 104], dtype=uint8)"
      ]
     },
     "execution_count": 18,
     "metadata": {},
     "output_type": "execute_result"
    }
   ],
   "source": [
    "image[array_bool]"
   ]
  },
  {
   "cell_type": "markdown",
   "id": "53ad803e-adf9-4f8e-9e46-eb4aa6ff918f",
   "metadata": {},
   "source": [
    "As you can see, the output is just 1D array, a list of numbers. Imagine that you want to estimate the average fluorescent intensity in those structures. This is exactly how we would proceed:\n",
    "1. Find the objects of interest. Here we did it by (bad) manual thresholding\n",
    "2. Find which pixels belong to these objects. This is done here using the above **logical indexing** ```image[array_bool]```\n",
    "3. Finally compute the average of those values. This can simply be achieved by taking the ```mean``` of the above array:"
   ]
  },
  {
   "cell_type": "code",
   "execution_count": 19,
   "id": "e6697783-69c6-4d2b-ab53-1fcd93a2653e",
   "metadata": {},
   "outputs": [
    {
     "data": {
      "text/plain": [
       "185.42079056089773"
      ]
     },
     "execution_count": 19,
     "metadata": {},
     "output_type": "execute_result"
    }
   ],
   "source": [
    "extracted_pixels = image[array_bool]\n",
    "extracted_pixels.mean()"
   ]
  },
  {
   "cell_type": "markdown",
   "id": "a64cc363-cfa3-415e-ac03-b2477971802b",
   "metadata": {
    "tags": []
   },
   "source": [
    "## Exercise\n",
    "\n",
    "1. Import the image ```20210904_TL2 - R05-C03-F0.tiff```\n",
    "2. Exrtract the 5th channel (last) of the first time point\n",
    "3. Create a mask of the image using a threshold of 3000\n",
    "4. Using logical indexing, recover the pixels of the masks *in the first channel of the first time point*\n",
    "5. Compute the median of those pixels"
   ]
  }
 ],
 "metadata": {
  "kernelspec": {
   "display_name": "Python 3 (ipykernel)",
   "language": "python",
   "name": "python3"
  },
  "language_info": {
   "codemirror_mode": {
    "name": "ipython",
    "version": 3
   },
   "file_extension": ".py",
   "mimetype": "text/x-python",
   "name": "python",
   "nbconvert_exporter": "python",
   "pygments_lexer": "ipython3",
   "version": "3.9.13"
  }
 },
 "nbformat": 4,
 "nbformat_minor": 5
}
